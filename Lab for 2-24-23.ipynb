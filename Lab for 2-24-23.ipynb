{
 "cells": [
  {
   "cell_type": "code",
   "execution_count": 1,
   "metadata": {},
   "outputs": [],
   "source": [
    "import numpy as np\n",
    "import matplotlib.pyplot as plt\n",
    "%matplotlib inline"
   ]
  },
  {
   "cell_type": "markdown",
   "metadata": {},
   "source": [
    "We can generalize the Fibonacci sequence so that we have the recurrence relationship\n",
    "\n",
    "$$\n",
    "p_{n} = p_{n-1} + ap_{n-2}, ~ a \\in \\mathbb{R}, ~ n\\geq 2,\n",
    "$$\n",
    "\n",
    "**Problem 1**: Using the guess(ansatz) $p_{n} = \\lambda^{n}$, show that you get two solutions for $\\lambda$, say $\\lambda_{\\pm}$, where\n",
    "\n",
    "$$\n",
    "\\lambda_{\\pm} = \\frac{1}{2}\\left(1\\pm\\sqrt{1+4a} \\right)\n",
    "$$\n",
    "\n",
    "**Problem 2**: What happens if $a<-1/4$?  Can you guess what the dynamics look like?\n",
    "\n",
    "**Problem 3**: Code up the more general Fibonacci sequence and generate plots of the dynamics for $a < -1/4$.  What are you going to choose for your initial conditions?  Do your choices make a difference in the outcomes?  Do your results conform to what you imagined the results to be in Problem 2? "
   ]
  },
  {
   "cell_type": "markdown",
   "metadata": {},
   "source": [
    "**Problem 4**: How would you try to find solutions to the three-term recurrence relationship\n",
    "\n",
    "$$\n",
    "p_{n} = p_{n-1} + ap_{n-2} + bp_{n-3}, ~ a,b \\in \\mathbb{R}, ~ n\\geq 3\n",
    "$$\n",
    "\n",
    "What obstacle do you run into?  \n",
    "\n",
    "**Problem 5**: Write code to implement the three-term recurrence relationship.  How will you pick initial condtions?  Explore choosing different values for $a$ and $b$ and seeing what results you can generate.  How does your choice of initial conditions change the outcomes of your results?  "
   ]
  },
  {
   "cell_type": "code",
   "execution_count": null,
   "metadata": {},
   "outputs": [],
   "source": []
  }
 ],
 "metadata": {
  "kernelspec": {
   "display_name": "Python 3 (ipykernel)",
   "language": "python",
   "name": "python3"
  },
  "language_info": {
   "codemirror_mode": {
    "name": "ipython",
    "version": 3
   },
   "file_extension": ".py",
   "mimetype": "text/x-python",
   "name": "python",
   "nbconvert_exporter": "python",
   "pygments_lexer": "ipython3",
   "version": "3.9.7"
  }
 },
 "nbformat": 4,
 "nbformat_minor": 2
}
