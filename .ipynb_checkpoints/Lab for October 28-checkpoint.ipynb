{
 "cells": [
  {
   "cell_type": "code",
   "execution_count": 1,
   "id": "dedd6776",
   "metadata": {},
   "outputs": [],
   "source": [
    "import numpy as np\n",
    "import matplotlib.pyplot as plt\n",
    "%matplotlib inline"
   ]
  },
  {
   "cell_type": "markdown",
   "id": "9159130e",
   "metadata": {},
   "source": [
    "## A Recursive Warmup\n",
    "\n",
    "While we haven't had too much use for it yet, it is worth while to see some relatively simple examples of more classic recursive programs in Python. What I mean by this is the following.  Say we wanted to compute the factorial of an integer $n$, i.e. we want to find $n!$.  Well, then we use the recursive formula\n",
    "\n",
    "$$\n",
    "n! = n(n-1)!\n",
    "$$\n",
    "\n",
    "along with the stopping criteria that $0!=1$.  In code, this looks like "
   ]
  },
  {
   "cell_type": "code",
   "execution_count": null,
   "id": "8da254e0",
   "metadata": {},
   "outputs": [],
   "source": [
    "def r_factorial(n):\n",
    "    if n==0: # Here we implement the stopping criteria which ends the recursion.  \n",
    "        return 1\n",
    "    else: # Here, having not reached a stoppping point, we recurse\n",
    "        return #add code here "
   ]
  },
  {
   "cell_type": "code",
   "execution_count": null,
   "id": "829b8e04",
   "metadata": {},
   "outputs": [],
   "source": [
    "print(\"An example for n=3, 3!=%d\"%r_factorial(3))"
   ]
  },
  {
   "cell_type": "markdown",
   "id": "30a8d745",
   "metadata": {},
   "source": [
    "## From Two Approximations, We Find a Third\n",
    "\n",
    "So, as we show in the homework, letting\n",
    "\n",
    "$$\n",
    "T_{[a,b]}(f) = \\int_{a}^{b}f(x)dx\n",
    "$$\n",
    "\n",
    "and\n",
    "\n",
    "$$\n",
    "A_{[a,b]}(f) = \\frac{(b-a)}{6}\\left(f(a) + 4f(c) + f(b)\\right), ~ c = \\frac{a+b}{2},\n",
    "$$\n",
    "\n",
    "Simpson's method gives us\n",
    "\n",
    "$$\n",
    "T_{[a,b]}(f) = A_{[a,b]}(f) + C_{0}(b-a)^{5} + C_{1}(b-a)^{6} + \\cdots.\n",
    "$$\n",
    "\n",
    "In this vein, if we split $T_{[a,b]}(f)$ into \n",
    "\n",
    "$$\n",
    "T_{[a,b]}(f) = T_{[a,c]}(f) + T_{[c,b]}(f), ~ c = \\frac{a+b}{2},\n",
    "$$\n",
    "\n",
    "then by cutting each subinterval in half, we we can build a better approximation by using\n",
    "\n",
    "$$\n",
    "T_{[a,b]}(f) = A_{[a,c]}(f) + A_{[c,b]}(f) + \\frac{C_{0}}{16}(b-a)^{5} + \\frac{C_{1}}{32}(b-a)^{6} + \\cdots\n",
    "$$\n",
    "\n",
    "where\n",
    "\n",
    "$$\n",
    "A_{[a,c]}(f) = \\frac{c-a}{6}\\left(f(a) + 4f(d) + f(c) \\right), ~ d = \\frac{a+c}{2}\n",
    "$$\n",
    "\n",
    "and\n",
    "\n",
    "$$\n",
    "A_{[c,b]}(f) = \\frac{b-c}{6}\\left(f(c) + 4f(e) + f(b) \\right), ~ e = \\frac{c+b}{2}\n",
    "$$\n",
    "\n",
    "**Problem 1**: Using the approximations \n",
    "\n",
    "$$\n",
    "T_{[a,b]}(f) = A_{[a,b]}(f) + C_{0}(b-a)^{5} + C_{1}(b-a)^{6} + \\cdots.\n",
    "$$\n",
    "\n",
    "and\n",
    "\n",
    "$$\n",
    "T_{[a,b]}(f) = A_{[a,c]}(f) + A_{[c,b]}(f) + \\frac{C_{0}}{16}(b-a)^{5} + \\frac{C_{1}}{32}(b-a)^{6} + \\cdots\n",
    "$$\n",
    "\n",
    "show that you can find the improved approximation\n",
    "\n",
    "$$\n",
    "T_{[a,b]}(f) = \\frac{16}{15}\\left(A_{[a,c]}(f) + A_{[c,b]}(f)\\right) - \\frac{1}{15}A_{[a,b]}(f) - \\frac{C_{1}}{30}(b-a)^{6} + \\cdots\n",
    "$$"
   ]
  },
  {
   "cell_type": "markdown",
   "id": "56da8e56",
   "metadata": {},
   "source": [
    "## Adaptive Quadrature\n",
    "\n",
    "What if for a given tolerance, say tol, I can show that\n",
    "\n",
    "$$\n",
    "\\left|\\left(A_{[a,c]}(f) + A_{[c,b]}(f)\\right) - A_{[a,b]}(f)\\right| < \\mbox{tol} ~ \\mbox{?}\n",
    "$$\n",
    "\n",
    "As in, okay, I make two approximations, one okay ($A_{[a,b]}(f)$), one better $\\left(A_{[a,c]}(f) + A_{[c,b]}(f)\\right)$.  But the difference between them is not so large?  Then what is the point of continuing to make smaller subdivisions of the interval when I am actually happy with what I have got?  So, how would I implement a method based on this line of thinking?  And what would it get me?  \n",
    "\n",
    "If we follow our noses, we are then led to the following algorithm:\n",
    "\n",
    "Given $a$, $b$ ($b>a$), $f(x)$, and tol\n",
    "<ol>\n",
    "    <li> Compute $Aab = \\frac{b-a}{6}(f(a) + 4f(c) + f(b))$, where $c=(a+b)/2$.        \n",
    "    <li> Compute $Aac = \\frac{c-a}{6}(f(a) + 4f(d) + f(c))$, where $d=(a+c)/2$.    \n",
    "    <li> Compute $Acb = \\frac{b-c}{6}(f(c) + 4f(e) + f(b))$, where $e=(c+b)/2$.    \n",
    "    <li> Check: Is $\\left|Aac+Acb - Aab \\right|<\\mbox{tol}$?        \n",
    "        <ol>\n",
    "            <li>: Yes, then return $\\frac{16}{15}(Aac+Acb)-\\frac{1}{15}Aab$ (this is the stopping condition)            \n",
    "            <li>: No, then divide each half interval further and recursively repeat.    \n",
    "        </ol>        \n",
    "</ol>"
   ]
  },
  {
   "cell_type": "code",
   "execution_count": 24,
   "id": "f829d165",
   "metadata": {},
   "outputs": [],
   "source": [
    "def adap_quad_comp(f,a,b,c,fa,fb,fc,Aab,tol,ptlst):\n",
    "    \n",
    "    d = (a+c)/2. \n",
    "    e = (c+b)/2.\n",
    "    ptlst.append(d)\n",
    "    ptlst.append(e)\n",
    "    fd = f(d)\n",
    "    fe = f(e)\n",
    "    dx = c-a\n",
    "    Aac = dx/6*(fa+4.*fd+fc)\n",
    "    Acb = dx/6*(fc+4.*fe+fb) \n",
    "    if np.abs(Aac+Acb-Aab)<=tol: # This is our stopping condition in terms of tol\n",
    "        return (16./15.*(Aac+Acb)-Aab/15.)\n",
    "    else: # This is if we do not meet the tol condition \n",
    "        F1 = adap_quad_comp(f,a,c,d,fa,fc,fd,Aac,tol,ptlst)\n",
    "        F2 = adap_quad_comp(f,c,b,e,fc,fb,fe,Acb,tol,ptlst)\n",
    "        return F1 + F2"
   ]
  },
  {
   "cell_type": "code",
   "execution_count": 25,
   "id": "5113935d",
   "metadata": {},
   "outputs": [],
   "source": [
    "def adap_quad(f,a,b,tol):\n",
    "    c = (a+b)/2.\n",
    "    fa = f(a)\n",
    "    fb = f(b)\n",
    "    fc = f(c)\n",
    "    dx = b-a\n",
    "    Aab = dx/6.*(fa+4.*fc+fb)\n",
    "    ptlst = [a, c, b]\n",
    "    ival = adap_quad_comp(f,a,b,c,fa,fb,fc,Aab,tol,ptlst)\n",
    "    \n",
    "    # Plotting commands.  Remove the tick marks above and below to turn them on.  \n",
    "    ptlst.sort()\n",
    "    for jj in range(0,len(ptlst)):\n",
    "        fval = f(ptlst[jj])\n",
    "        if fval > 0:\n",
    "            plt.plot([ptlst[jj],ptlst[jj]],[0,fval],color='r',ls='--')\n",
    "        else:\n",
    "            plt.plot([ptlst[jj],ptlst[jj]],[fval,0],color='r',ls='--')\n",
    "    xvals = np.linspace(a,b,int(1e3))\n",
    "    yvals = f(xvals)\n",
    "    zvals = np.zeros(xvals.size)\n",
    "    plt.plot(xvals,yvals,color='k',ls='-')\n",
    "    plt.plot(xvals,zvals,color='k',ls='-')\n",
    "    \n",
    "    return ival"
   ]
  },
  {
   "cell_type": "markdown",
   "id": "4ea8d22f",
   "metadata": {},
   "source": [
    "So okay, fine, you have an adaptive method.  But what does that really mean?  A way to find out is to look at the function\n",
    "\n",
    "$$\n",
    "f(x) = \\sin\\left(x^{2}\\right)\n",
    "$$\n",
    "\n",
    "which is going to oscillate more and more rapidly as $x$ increases.  If we use the plotting commands above, we should be able to see how our algorithm uses different spacings of mesh points in order to maintain an overall level of accuracy in computing integrals of such a funky function (ha, I'm so funny).  "
   ]
  },
  {
   "cell_type": "code",
   "execution_count": 26,
   "id": "90091db8",
   "metadata": {},
   "outputs": [
    {
     "name": "stdout",
     "output_type": "stream",
     "text": [
      "0.4969253743325054\n"
     ]
    }
   ],
   "source": [
    "faq = lambda x : np.sin(x**2.)\n",
    "print(adap_quad(faq,0.,3.6,1e-4))"
   ]
  },
  {
   "cell_type": "markdown",
   "id": "46171b5b",
   "metadata": {},
   "source": [
    "So finally, we really do need to experiment in order to figure out how the error behaves as we change the tolerance for our adaptive quadrature scheme.  To wit, let's pick our favorite $f(x)=\\cos^{2}(x)$ so that \n",
    "$$\n",
    "T_{[a,b]}(f) = \\int_{a}^{b}\\cos^{2}(x)dx = \\frac{1}{2}\\int_{a}^{b}\\left(1 + \\cos(2x) \\right)dx = \\frac{1}{2}\\left(b-a + \\frac{1}{2}\\left(\\sin(2b)-\\sin(2a)\\right)\\right)\n",
    "$$\n",
    "\n",
    "We can then look at error performance as we change the tolerance for intervals of different widths.  Give it a shot and describe your results.  "
   ]
  },
  {
   "cell_type": "code",
   "execution_count": 27,
   "id": "4c28a206",
   "metadata": {},
   "outputs": [],
   "source": [
    "def adap_error_test(a,b):\n",
    "    f = lambda x: (np.cos(x))**2.\n",
    "    tval = (b-a)/2. + (np.sin(2.*b)-np.sin(2.*a))/4.\n",
    "    tolvals = np.array([1e-1,1e-2,1e-3,1e-4,1e-5])\n",
    "    Evals = np.zeros(tolvals.size)\n",
    "    for jj in range(0,tolvals.size):\n",
    "        Evals[jj] = np.log10(np.abs(tval - adap_quad(f,a,b,tolvals[jj])))\n",
    "    xvals = -np.log10(tolvals)\n",
    "    plt.plot(xvals,Evals)\n",
    "    plt.xlabel('$-log_{10}(tol)$')\n",
    "    plt.ylabel('$log_{10}(Error)$')\n",
    "    \n",
    "    novals = Evals.size\n",
    "    slopes = (Evals[1:novals]-Evals[0:novals-1])/(xvals[1:novals]-xvals[0:novals-1])\n",
    "    print(np.min(slopes))\n",
    "    print(np.max(slopes))\n",
    "    print(np.mean(slopes))"
   ]
  },
  {
   "cell_type": "code",
   "execution_count": 28,
   "id": "81f9010d",
   "metadata": {},
   "outputs": [
    {
     "name": "stdout",
     "output_type": "stream",
     "text": [
      "-1.8334358181865325\n",
      "0.0\n",
      "-0.5877213164129689\n"
     ]
    },
    {
     "data": {
      "image/png": "[encoded data removed]",
      "text/plain": [
       "<Figure size 432x288 with 1 Axes>"
      ]
     },
     "metadata": {
      "needs_background": "light"
     },
     "output_type": "display_data"
    }
   ],
   "source": [
    "adap_error_test(0.,np.pi/4.)"
   ]
  },
  {
   "cell_type": "code",
   "execution_count": null,
   "id": "fcc04bcf",
   "metadata": {},
   "outputs": [],
   "source": []
  }
 ],
 "metadata": {
  "kernelspec": {
   "display_name": "Python 3 (ipykernel)",
   "language": "python",
   "name": "python3"
  },
  "language_info": {
   "codemirror_mode": {
    "name": "ipython",
    "version": 3
   },
   "file_extension": ".py",
   "mimetype": "text/x-python",
   "name": "python",
   "nbconvert_exporter": "python",
   "pygments_lexer": "ipython3",
   "version": "3.9.7"
  }
 },
 "nbformat": 4,
 "nbformat_minor": 5
}
