{
 "cells": [
  {
   "cell_type": "markdown",
   "id": "cd3518fa",
   "metadata": {},
   "source": [
    "## LaTeX and Markdown - A Tutorial\n",
    "\n",
    "Hi All, welcome to your first lab.  A major focus in this class is on communicating results in mathematics, and the **best** way to do that is through using _LaTeX_ (abbreviated as _TeX_) to represent mathematics.  Let's jump into it.  \n",
    "\n",
    "### Equation Environments\n",
    "\n",
    "So, let's start with basic equation environments.  Equations can be set off by themselves and centered like this\n",
    "\n",
    "$$\n",
    "\\int \\cos(x) ~dx = \\sin(x) + C\n",
    "$$\n",
    "\n",
    "or they can be written in-line such as $\\frac{d}{dx}\\sin(x) = \\cos(x)$.  \n",
    "\n",
    "As you'll also note, I just kind of throw the formatting commands for integration ($\\int$) and the trig-functions as I go.  Honestly, the best way to learn TeX is to look at the examples I provide and modify them as you need to.  TeX itself is massive, so it's much better to learn a little as you go and build your expertise over time.  "
   ]
  },
  {
   "cell_type": "markdown",
   "id": "b07e11ef",
   "metadata": {},
   "source": [
    "**Problem 1**: Complete (in TeX) the equation\n",
    "\n",
    "$$\n",
    "\\int x^{2} ~ dx = \n",
    "$$"
   ]
  },
  {
   "cell_type": "markdown",
   "id": "6137910e",
   "metadata": {},
   "source": [
    "### Sizing with `\\left` and `\\right`\n",
    "\n",
    "So, to make for pretty reading we want to size things well.  What do I mean by this?  Well for example, look at \n",
    "\n",
    "$$\n",
    "\\sin(\\frac{1}{2}x^{2})\n",
    "$$\n",
    "\n",
    "That just looks... kind of _ugh_.  What's better is \n",
    "\n",
    "$$\n",
    "\\sin\\left(\\frac{1}{2}x^{2}\\right)\n",
    "$$\n",
    "\n",
    "Do you see the difference?  By adding `\\left(` and `\\right)`, you get a much better sized equation which is easier to read. \n",
    "\n",
    "Now, what about an equation like \n",
    "\n",
    "$$\n",
    "\\int_{0}^{1} x^{3}~dx = \\left. \\frac{1}{4}x^{4}\\right|_{0}^{1} = \\frac{1}{4}\\left(1^{4}-0^{4}\\right) = \\frac{1}{4}.\n",
    "$$\n",
    "\n",
    "You'll note that in `\\left. \\frac{1}{4}x^{4}\\right|_{0}^{1}` we get the nice sizing of the vertical bar without there being a matching left symbol to the right.  That's why we include the `left.` to account for the asymmetry.  "
   ]
  },
  {
   "cell_type": "markdown",
   "id": "8efbaaec",
   "metadata": {},
   "source": [
    "**Problem 2**: Complete in TeX the equation\n",
    "\n",
    "$$\n",
    "\\int_{0}^{1}x^{5} ~ dx = \n",
    "$$\n",
    "\n",
    "Make sure everything is well sized using `\\left` and `\\right` where appropriate.  "
   ]
  },
  {
   "cell_type": "markdown",
   "id": "680154e8",
   "metadata": {},
   "source": [
    "### Writing Multi-Step Processes with _align_\n",
    "\n",
    "Okay, cool, we can write pretty math, but math is often about showing steps.  How do we do that in a nice way in TeX?  The best way to do that is through the use of the _align_ environment.  To wit:\n",
    "\n",
    "\\begin{align}\n",
    "\\int \\cos^{2}(x) ~dx = & \\int \\frac{1}{2}\\left(1 + \\cos(2x)\\right) ~ dx \\\\\n",
    "= & \\frac{1}{2}\\int\\left(1 + \\cos(2x)\\right) ~ dx\\\\\n",
    "= & \\frac{1}{2}\\left(x + \\frac{1}{2}\\sin(2x) \\right) + C\n",
    "\\end{align}"
   ]
  },
  {
   "cell_type": "markdown",
   "id": "779a8b10",
   "metadata": {},
   "source": [
    "**Problem 3**: Solve \n",
    "\n",
    "$$\n",
    "\\int_{0}^{1} x\\sin\\left(x^{2}\\right)~dx\n",
    "$$\n",
    "\n",
    "Include all steps.  Make sure you use appropriate `left` and `right` sizing, and make your steps clear through the use of `align`.  "
   ]
  },
  {
   "cell_type": "markdown",
   "id": "290e81ab",
   "metadata": {},
   "source": [
    "**Problem 4**: Given that \n",
    "\n",
    "$$\n",
    "\\frac{1}{1-x} = \\sum_{n=0}^{\\infty} x^{n}, ~ |x|<1\n",
    "$$\n",
    "\n",
    "find \n",
    "\n",
    "$$\n",
    "\\sum_{j=0}^{\\infty} 2^{-j}\n",
    "$$\n",
    "\n",
    "Include all steps, size appropriately etc..."
   ]
  },
  {
   "cell_type": "markdown",
   "id": "1b45acf5",
   "metadata": {},
   "source": [
    "**Problem 5**: Find\n",
    "\n",
    "$$\n",
    "\\sum_{n=1}^{\\infty}3^{-n}\n",
    "$$\n",
    "\n",
    "(You know the drill by now)"
   ]
  },
  {
   "cell_type": "code",
   "execution_count": null,
   "id": "c6b187bd",
   "metadata": {},
   "outputs": [],
   "source": []
  },
  {
   "cell_type": "code",
   "execution_count": null,
   "id": "168eafde",
   "metadata": {},
   "outputs": [],
   "source": []
  }
 ],
 "metadata": {
  "kernelspec": {
   "display_name": "Python 3 (ipykernel)",
   "language": "python",
   "name": "python3"
  },
  "language_info": {
   "codemirror_mode": {
    "name": "ipython",
    "version": 3
   },
   "file_extension": ".py",
   "mimetype": "text/x-python",
   "name": "python",
   "nbconvert_exporter": "python",
   "pygments_lexer": "ipython3",
   "version": "3.9.7"
  }
 },
 "nbformat": 4,
 "nbformat_minor": 5
}
