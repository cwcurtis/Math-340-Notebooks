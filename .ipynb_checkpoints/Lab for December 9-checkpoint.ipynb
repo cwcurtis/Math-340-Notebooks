{
 "cells": [
  {
   "cell_type": "code",
   "execution_count": 1,
   "id": "d1583d4a",
   "metadata": {},
   "outputs": [],
   "source": [
    "import numpy as np\n",
    "import matplotlib.pyplot as plt\n",
    "%matplotlib inline"
   ]
  },
  {
   "cell_type": "code",
   "execution_count": 2,
   "id": "5f024fd4",
   "metadata": {},
   "outputs": [],
   "source": [
    "def bisec_method(a,b,f,tol):\n",
    "    fa,fb = f(a),f(b)\n",
    "    if fa*fb<0:\n",
    "        c = (a+b)/2.\n",
    "        capproxs = np.array([c]) # build an array to record the estimates we make for the root\n",
    "        fc = f(c)\n",
    "        while np.abs(fc)>=tol:\n",
    "            if fa*fc<0:\n",
    "                b = c                \n",
    "            else:\n",
    "                fa = fc\n",
    "                a = c\n",
    "                \n",
    "            c = (a+b)/2.    \n",
    "            fc = f(c)\n",
    "            capproxs = np.append(capproxs,c)\n",
    "            \n",
    "        # print(\"Our root is: %1.15f\" %c)\n",
    "        return capproxs\n",
    "    else:\n",
    "        print(\"Cannot ensure existence of root.\")"
   ]
  },
  {
   "cell_type": "code",
   "execution_count": 3,
   "id": "3b30e420",
   "metadata": {},
   "outputs": [],
   "source": [
    "def Newtons_method(f,fp,x0,tol):\n",
    "    x1 = x0 - f(x0)/fp(x0)\n",
    "    xapprox = np.array([x0,x1])\n",
    "    while np.abs(x1-x0) >= tol :\n",
    "        x0 = x1\n",
    "        x1 = x0 - f(x0)/fp(x0)\n",
    "        xapprox = np.append(xapprox,x1)\n",
    "    print(\"Your root is: %1.15f\" %x1)\n",
    "    return xapprox"
   ]
  },
  {
   "cell_type": "markdown",
   "id": "13983508",
   "metadata": {},
   "source": [
    "**Problem 1**: Here is a cubic polynomial with three closely spaced real roots:\n",
    "\n",
    "$$\n",
    "p(x) = 816x^3 - 3835x^2 + 6000x - 3125\n",
    "$$\n",
    "\n",
    "* Plot $p(x)$ for $1.43\\leq x \\leq 1.71$.  Show the location of the three roots.  \n",
    "* What are the exact roots of p?\n",
    "* Starting with $x_{0}=1.5$, what does Newton's method do?\n",
    "* Starting with the interval $[1,2]$, what does bisection do?"
   ]
  },
  {
   "cell_type": "markdown",
   "id": "2b51bb0b",
   "metadata": {},
   "source": [
    "**Problem 2**: Using Newton's method, which for a given function $f(x)$ finds a root $x_{\\ast}$ $\\left(f(x_{\\ast})=0\\right)$ by generating a sequence $x_{n}\\rightarrow x_{\\ast}$ using the equation \n",
    "\n",
    "$$\n",
    "x_{n+1} = x_{n} - \\frac{f(x_{n})}{f'(x_{n})}.\n",
    "$$\n",
    "\n",
    "Your sequence begins with an initial user choice $x_{0}$.\n",
    "\n",
    "* Explain why the sequence \n",
    "$$\n",
    "x_{n} = \\frac{1}{2}x_{n-1} + \\frac{A}{2x_{n-1}}, ~ n\\geq1, ~ x_{0}>0,  \n",
    "$$\n",
    "converges to $\\sqrt{A}$.  _Hint_: you need to think of a function $f(x)$ whose root is $\\sqrt{A}$.  $f(x)=x-\\sqrt{A}$ misses the point, but something slightly more complicated is just right.  \n",
    "\n",
    "* Code the method, and for $A=1111$, characterize for various values of $x_{0}$ how quickly the method converges."
   ]
  },
  {
   "cell_type": "code",
   "execution_count": null,
   "id": "02a3785f",
   "metadata": {},
   "outputs": [],
   "source": []
  }
 ],
 "metadata": {
  "kernelspec": {
   "display_name": "Python 3 (ipykernel)",
   "language": "python",
   "name": "python3"
  },
  "language_info": {
   "codemirror_mode": {
    "name": "ipython",
    "version": 3
   },
   "file_extension": ".py",
   "mimetype": "text/x-python",
   "name": "python",
   "nbconvert_exporter": "python",
   "pygments_lexer": "ipython3",
   "version": "3.9.7"
  }
 },
 "nbformat": 4,
 "nbformat_minor": 5
}
