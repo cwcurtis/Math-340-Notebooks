{
 "cells": [
  {
   "cell_type": "code",
   "execution_count": 2,
   "metadata": {},
   "outputs": [],
   "source": [
    "import numpy as np\n",
    "import matplotlib.pyplot as plt\n",
    "import scipy.integrate as spqd\n",
    "%matplotlib inline"
   ]
  },
  {
   "cell_type": "markdown",
   "metadata": {},
   "source": [
    "**Problem 1** 15pts: \n",
    "    \n",
    "1a) 3pts - In NumPy, create an array of points between $-5$ and $11.323$ with spacing $.0285$.  If you can not do this exactly, how close can you get?  \n",
    "\n",
    "1b) 3pts - Using vectorization, plot $f(x) = 3x^{4} + 3x^{2} + 2$ for $-5\\leq x \\leq 11.323$.  Make sure your graph is labeled.   \n",
    "1c) 3pts - Using vectorization in Python, find the sum \n",
    "\n",
    "$$\n",
    "\\frac{1}{n}\\sum_{j=1}^{n}\\left(5\\left(\\frac{j}{n}\\right)^{4} + 7\\left(\\frac{j}{n}\\right) + 3\\right)\n",
    "$$\n",
    "\n",
    "for $n=30,50$.\n",
    "\n",
    "1d) 3pts - For the integers less than 10,000, what is the sum of those numbers which are divisible by 7, 13, or 18?  \n",
    "\n",
    "1e) 3pts - For the recurrence relation\n",
    "\n",
    "$$\n",
    "p_{n} = 3p_{n-4} - 2p_{n-3} + 3p_{n-1}, ~ n\\geq 4, \n",
    "$$\n",
    "\n",
    "where \n",
    "\n",
    "$$\n",
    "p_{0}= .1, ~ p_{1}=2.1, ~ p_{2} = .235, ~ p_{3} = 0,\n",
    "$$\n",
    "\n",
    "what is $p_{n}$ for $n=5$, $10$, and $20$?"
   ]
  },
  {
   "cell_type": "markdown",
   "metadata": {},
   "source": [
    "_Answer to Problem 1_"
   ]
  },
  {
   "cell_type": "markdown",
   "metadata": {},
   "source": [
    "**Problem 2**: 15pts - Given the function\n",
    "\n",
    "$$\n",
    "y(x) = \\sum_{l=0}^{\\infty} \\frac{(-1)^{l}x^{2l}}{4^{l}l!}\n",
    "$$\n",
    "\n",
    "2a) 6pts - Determine a recurrence relation between the coefficients.\n",
    "\n",
    "2b) 6pts - In Python, develop a tolerance based, recursive, vectorized implementation of this function.  \n",
    "\n",
    "2c) 3pts - Plot this function on the interval $[0,5]$ for tolerances $10^{-6}$ and $10^{-8}$.  Comment on any phenomena you see.  Make sure graphs are labeled, have a legend, and are well sized.  "
   ]
  },
  {
   "cell_type": "markdown",
   "metadata": {},
   "source": [
    "_Answer to Problem 2_"
   ]
  },
  {
   "cell_type": "markdown",
   "metadata": {
    "collapsed": true
   },
   "source": [
    "**Problem 3**: 15pts - Write a program (7pts) that generates the iterative sequence\n",
    "$$\n",
    "\\phi_{n} = a\\phi_{n-1} + b\\phi_{n-2}, ~ n\\geq 2, ~ a,b\\in \\mathbb{R}.\n",
    "$$\n",
    "Your program must take $a$, $b$, $\\phi_{0}$, $\\phi_{1}$, and the maximum value of $N$ as input, i.e. your program should produce a plot of the sequence for $0\\leq n \\leq N$.  (4pts) Generate labeled semi-log plots of $|\\phi_{n}|$ up to $N=40$ for the parameter values \n",
    "\n",
    "* $a = 1$, $b = 3$, $\\phi_{0}=1$, $\\phi_{1}=2$,\n",
    "* $a = -3$, $b = -1/2$, $\\phi_{0}=2$, $\\phi_{1}=1$.\n",
    "\n",
    "Explain the behavior you see in the graphs (4pts).  In particular, find the slope of the lines in your plots in the large $N$ limit both computationally and analytically.  Hint: In order to get the analytic result, you need to use a guess for the solution of the form \n",
    "$$\n",
    "\\phi_{n} = \\lambda^{n}.\n",
    "$$\n",
    "Then plug in your guess, and solve for $\\lambda$.  You know, like with the Fibonacci numbers."
   ]
  },
  {
   "cell_type": "markdown",
   "metadata": {},
   "source": [
    "_Answer to Problem 3_"
   ]
  },
  {
   "cell_type": "markdown",
   "metadata": {},
   "source": [
    "**Problem 4**: 15pts -  For the integral,\n",
    "$$\n",
    "\\int_{0}^{\\pi/4}\\sin(\\tan(x))dx, \n",
    "$$\n",
    "use \n",
    "\n",
    "* (7pts) a Taylor series to the third order (i.e. keep up to cubic terms) around $x=0$ to approximate the integral, \n",
    "* (6pts) a Taylor series to the third order chosen appropriately to approximate each integral on the right hand side of the expression\n",
    "\n",
    "$$\n",
    "\\int_{0}^{\\pi/4}\\sin(\\tan(x))dx = \n",
    "\\int_{0}^{\\pi/16}\\sin(\\tan(x))dx + \\int_{\\pi/16}^{\\pi/8}\\sin(\\tan(x))dx + \\int_{\\pi/8}^{3\\pi/16}\\sin(\\tan(x))dx +\\int_{3\\pi/16}^{\\pi/4}\\sin(\\tan(x))dx.\n",
    "$$\n",
    "\n",
    "* (2pts) Using NumPy, one can find that \n",
    "$$\n",
    "\\int_{0}^{\\pi/4}\\sin(\\tan(x))dx =  0.32179354474107646\n",
    "$$\n",
    "Find the error in each of your approximations, state which is better, and explain why it is better.  "
   ]
  },
  {
   "cell_type": "markdown",
   "metadata": {},
   "source": [
    "_Answer to Problem 4_"
   ]
  },
  {
   "cell_type": "markdown",
   "metadata": {},
   "source": [
    "**Problem 5**: 10pts - The $(p,q)$ hypergeometric function is defined as \n",
    "$$\n",
    "_{p}F_{q}(a_{1},\\cdots,a_{p};b_{1},\\cdots,b_{q};x) = \\sum_{n=0}^{\\infty} \\frac{\\left(a_{1}\\right)_{n}\\cdots\\left(a_{p}\\right)_{n}}{\\left(b_{1}\\right)_{n}\\cdots\\left(b_{q}\\right)_{n}}\\frac{x^{n}}{n!}\n",
    "$$\n",
    "where $a_{j}\\in \\mathbb{R}$, $b_{l}\\in \\mathbb{R}$ and for any real value $a$ we have the recursion relationship\n",
    "\\begin{align*}\n",
    "(a)_{0} = & 1 \\\\\n",
    "(a)_{n} = & (a+n-1)(a)_{n-1}, ~ n\\geq 1.\n",
    "\\end{align*}\n",
    "So for example, we have that \n",
    "$$\n",
    "_{0}F_{0}(;;x) = \\sum_{n=0}^{\\infty}\\frac{1}{1}\\frac{x^{n}}{n!} = e^{x}, \n",
    "$$\n",
    "and if we have the Bessel function $J_{n}(x)$ where \n",
    "$$\n",
    "J_{n}(x) = \\sum_{m=0}^{\\infty} \\frac{(-1)^{m}}{m! (m+n)!}\\left(\\frac{x}{2} \\right)^{2m + n} = \\frac{1}{n!}\\left(\\frac{x}{2}\\right)^{n}\\sum_{m=0}^{\\infty}\\frac{1}{(n+1)_{m}}\\frac{1}{m!}\\left(\\frac{-x^{2}}{4}\\right)^{m}, \n",
    "$$\n",
    "since\n",
    "\\begin{align*}\n",
    "(m+n)! = & n!(n+1)(n+2)\\cdots(n+m) \\\\\n",
    "= &n!(n+1)(n+1 + 1)\\cdots(n+1+m-1) \\\\\n",
    "= & n!(n+1)_{m},\n",
    "\\end{align*}\n",
    "then we have \n",
    "$$\n",
    "J_{n}(x) = \\frac{1}{n!}\\left(\\frac{x}{2}\\right)^{n}  ~_{0}F_{1}\\left(;n+1;-\\frac{x^{2}}{4}\\right).\n",
    "$$\n",
    "\n",
    "Write a program which computes the $(p,q)$ hypergeometric function.  It should take as input vectors ${\\bf a}$ and ${\\bf b}$ where \n",
    "\\begin{align*}\n",
    "{\\bf a} = & (a_{1},~ a_{2},~ \\cdots,~ a_{p}) \\\\ \n",
    "{\\bf b} = & (b_{1},~ b_{2},~ \\cdots,~ b_{q}) \n",
    "\\end{align*}\n",
    "and an evaluation point $x$.  Note, your program should determine $p$ and $q$ using the length of $a$ and $b$ respectively.  Make sure you vectorize your function.  Make sure you make efficient use of recursion.  Clearly explain the stopping criteria you choose and why you choose it.  Test your code by comparing your results to those you would get using the implementation for the Bessel functions we developed in the lectures.  \n",
    "\n",
    "Then, using NumPy's version of the functions as the _true_ values, numerically prove the identity\n",
    "\n",
    "$$\n",
    "\\sin^{-1}(x) = x \\cdot _{2}F_{1}\\left(\\frac{1}{2},\\frac{1}{2};\\frac{3}{2};x^{2}\\right)\n",
    "$$\n",
    "\n",
    "Generate semi-log plots of the difference of the two functions over meshes on $[-.5,.5]$ and argue why this shows the identities are true.  Note, you may need to adapt your stopping condition to adequately answer this problem.  "
   ]
  },
  {
   "cell_type": "markdown",
   "metadata": {},
   "source": [
    "_Answer to Problem 5_"
   ]
  },
  {
   "cell_type": "code",
   "execution_count": 5,
   "metadata": {},
   "outputs": [
    {
     "name": "stdout",
     "output_type": "stream",
     "text": [
      "(0.32179354474107646, 3.5726260254728856e-15)\n"
     ]
    }
   ],
   "source": [
    "print(spqd.quad(lambda x: np.sin(np.tan(x)), 0, np.pi/4.))"
   ]
  },
  {
   "cell_type": "code",
   "execution_count": null,
   "metadata": {},
   "outputs": [],
   "source": []
  }
 ],
 "metadata": {
  "kernelspec": {
   "display_name": "Python 3 (ipykernel)",
   "language": "python",
   "name": "python3"
  },
  "language_info": {
   "codemirror_mode": {
    "name": "ipython",
    "version": 3
   },
   "file_extension": ".py",
   "mimetype": "text/x-python",
   "name": "python",
   "nbconvert_exporter": "python",
   "pygments_lexer": "ipython3",
   "version": "3.9.7"
  }
 },
 "nbformat": 4,
 "nbformat_minor": 2
}
