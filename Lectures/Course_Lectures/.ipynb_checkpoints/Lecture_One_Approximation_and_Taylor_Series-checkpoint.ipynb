{
 "cells": [
  {
   "cell_type": "code",
   "execution_count": 8,
   "metadata": {},
   "outputs": [],
   "source": [
    "import numpy as np"
   ]
  },
  {
   "cell_type": "markdown",
   "metadata": {},
   "source": [
    "# Part One: Approximation \n",
    "\n",
    "Computing in mathematics is first and foremost about _approximation_.  In this class, this word always means\n",
    "\n",
    "> **Approximation**: Solving one hard problem by turning it into a sequence of simpler problems.  \n",
    "\n",
    "An example of this idea is encapsulated by the statement\n",
    "\n",
    "$$\n",
    "\\lim_{n\\rightarrow\\infty} \\left(1 + \\frac{1}{n}\\right)^{n} = e.\n",
    "$$\n",
    "\n",
    "Now $e$ is an irrational number which to an absurd number of digits is given by\n",
    "\n",
    "$$\n",
    "e = 2.71828182845904523536028747135266249775724709369995\n",
    "$$\n",
    "\n",
    "Thus, finding $e$ exactly is difficult.  However, we have a limit statement which says that the numbers $a_{n}$ where\n",
    "\n",
    "$$\n",
    "a_{n} = \\left(1 + \\frac{1}{n}\\right)^{n}\n",
    "$$\n",
    "\n",
    "get _close to_, or _approximate_, $e$ for very, very large values of $n$.  And as you can see, you can readily use a calculator to determine $a_{n}$ for a given value of $n$.  So while knowing $e$ is difficult, using $a_{n}$ as an approximation allows us to get close.  Let's see this in action by using Python.  "
   ]
  },
  {
   "cell_type": "code",
   "execution_count": 4,
   "metadata": {},
   "outputs": [],
   "source": [
    "def exp_approx(n):\n",
    "    return (1. + 1./n)**(n)"
   ]
  },
  {
   "cell_type": "code",
   "execution_count": 5,
   "metadata": {},
   "outputs": [
    {
     "name": "stdout",
     "output_type": "stream",
     "text": [
      "e=2.593742460100002\n",
      "e=2.704813829421528\n",
      "e=2.716923932235594\n",
      "e=2.718145926824926\n",
      "e=2.718268237192297\n",
      "e=2.718280469095753\n",
      "e=2.718281694132082\n"
     ]
    }
   ],
   "source": [
    "print( \"e=%1.15f\" %exp_approx(1e1) )\n",
    "print( \"e=%1.15f\" %exp_approx(1e2) )\n",
    "print( \"e=%1.15f\" %exp_approx(1e3) )\n",
    "print( \"e=%1.15f\" %exp_approx(1e4) )\n",
    "print( \"e=%1.15f\" %exp_approx(1e5) )\n",
    "print( \"e=%1.15f\" %exp_approx(1e6) )\n",
    "print( \"e=%1.15f\" %exp_approx(1e7) )"
   ]
  },
  {
   "cell_type": "markdown",
   "metadata": {},
   "source": [
    "_Problem_: Using the function and printing techniques above, find the 6th digit of $e$.  Said another way, don't just count on the screen.  That isn't really using a computer to its full potential."
   ]
  },
  {
   "cell_type": "code",
   "execution_count": 6,
   "metadata": {},
   "outputs": [
    {
     "name": "stdout",
     "output_type": "stream",
     "text": [
      "e=2.59374\n",
      "e=2.70481\n",
      "e=2.71692\n",
      "e=2.71815\n",
      "e=2.71827\n",
      "e=2.71828\n",
      "e=2.71828\n"
     ]
    }
   ],
   "source": [
    "# You put in code here \n",
    "print( \"e=%1.5f\" %exp_approx(1e1) )\n",
    "print( \"e=%1.5f\" %exp_approx(1e2) )\n",
    "print( \"e=%1.5f\" %exp_approx(1e3) )\n",
    "print( \"e=%1.5f\" %exp_approx(1e4) )\n",
    "print( \"e=%1.5f\" %exp_approx(1e5) )\n",
    "print( \"e=%1.5f\" %exp_approx(1e6) )\n",
    "print( \"e=%1.5f\" %exp_approx(1e7) )"
   ]
  },
  {
   "cell_type": "markdown",
   "metadata": {},
   "source": [
    "\n",
    "So we see that, affiliated with an approximation, there is also a notion of _error_ . Throughout the remainder of this course, by this word we mean \n",
    "\n",
    "> **Error**: The difference betweeen a true value or solution and an approximation to it.  "
   ]
  },
  {
   "cell_type": "markdown",
   "metadata": {},
   "source": [
    "So, if we take as the \"true\" value of $e$ its 16-digit value\n",
    "\n",
    "$$\n",
    "e = 2.718281828459045 \n",
    "$$\n",
    "\n",
    "and we use our approximation to $e$ for $n=10^{7}$, then we can find the error between these two things.  "
   ]
  },
  {
   "cell_type": "code",
   "execution_count": 9,
   "metadata": {},
   "outputs": [
    {
     "name": "stdout",
     "output_type": "stream",
     "text": [
      "The error in floating point notation is: 0.000000134326963\n",
      "The error in scientific notation is: 1.34326963e-07\n"
     ]
    }
   ],
   "source": [
    "error = np.abs(2.718281828459045 - exp_approx(1e7))\n",
    "print( \"The error in floating point notation is: %1.15f\" %error )\n",
    "print( \"The error in scientific notation is: %1.8e\" %error )"
   ]
  },
  {
   "cell_type": "markdown",
   "metadata": {},
   "source": [
    "Thus we see that using $n=10^{7}$ gives us \n",
    "\n",
    "$$\n",
    "\\left|e - a_{10^{7}} \\right| = 1.34326963 \\times 10^{-7}\n",
    "$$\n",
    "\n",
    "or by using $n=10^{7}$, we get about 6 digits of accuracy after the decimal point.  Note, we have just computed the _absolute error_.  We can also compute the relative error, which in this case would be given by the quantity\n",
    "\n",
    "$$\n",
    "\\frac{\\left|e - a_{10^{7}} \\right|}{e}. \n",
    "$$"
   ]
  },
  {
   "cell_type": "markdown",
   "metadata": {},
   "source": [
    "_Problem_: Compute the relative error of using $a_{10^{7}}$ as an approximation to $e$.  Do this both for floating point and scientific notations.  "
   ]
  },
  {
   "cell_type": "code",
   "execution_count": 10,
   "metadata": {},
   "outputs": [
    {
     "name": "stdout",
     "output_type": "stream",
     "text": [
      "The relative error in floating point notation is: 0.000000049416128\n",
      "The relative error in scientific notation is: 4.94161282e-08\n"
     ]
    }
   ],
   "source": [
    "# Your turn.  Type your answer in here. \n",
    "etrue = 2.718281828459045\n",
    "rel_error = np.abs(etrue-exp_approx(1e7))/etrue\n",
    "print(\"The relative error in floating point notation is: %1.15f\" %rel_error)\n",
    "print(\"The relative error in scientific notation is: %1.8e\" %rel_error)"
   ]
  },
  {
   "cell_type": "markdown",
   "metadata": {},
   "source": [
    "Unfortunately, not all approximations are created equally.  Said another way, sometimes things do not work as well as we would like.  To wit, we see that if we keep trying to use our current approximation for larger values of $n$ we get "
   ]
  },
  {
   "cell_type": "code",
   "execution_count": 11,
   "metadata": {},
   "outputs": [
    {
     "name": "stdout",
     "output_type": "stream",
     "text": [
      "e=2.718281694132082\n",
      "e=2.718281798347358\n",
      "e=2.718282052011560\n",
      "e=2.718282053234788\n",
      "e=2.718282053357110\n",
      "e=2.718523496037238\n",
      "e=2.716110034086901\n",
      "e=2.716110034087023\n"
     ]
    }
   ],
   "source": [
    "values = [1e7, 1e8, 1e9, 1e10, 1e11, 1e12, 1e13, 1e14] # Build a list of different values of n.\n",
    "\n",
    "for value in values: # Iterate over the list nvals value by value.\n",
    "    print(\"e=%1.15f\" %exp_approx(value)) # Find the approxmation to e using nval for n."
   ]
  },
  {
   "cell_type": "markdown",
   "metadata": {},
   "source": [
    "So, let's think about what we just did here.  First, I just dropped a `for` loop on you like whoa!  So what is this doing?  The easiest way to think about it is to realize that all it is doing is sparing us having to cut and paste more since it is exactly equivalent to having used the code\n",
    "\n",
    "`\n",
    "print \"e=%1.15f\" %exp_approx(1e7)\n",
    "print \"e=%1.15f\" %exp_approx(1e8)\n",
    "print \"e=%1.15f\" %exp_approx(1e9)\n",
    "print \"e=%1.15f\" %exp_approx(1e10)\n",
    "print \"e=%1.15f\" %exp_approx(1e11)\n",
    "print \"e=%1.15f\" %exp_approx(1e12)\n",
    "print \"e=%1.15f\" %exp_approx(1e13)\n",
    "print \"e=%1.15f\" %exp_approx(1e14)\n",
    "`\n",
    "\n",
    "So instead of writing this out over and over again as we did above, we create what is called a _list_ in Python, containing all the values of n we want to use.  This explains the line of code\n",
    "\n",
    "`values = [1e7, 1e8, 1e9, 1e10, 1e11, 1e12, 1e13, 1e14]`\n",
    "\n",
    "Then, the `for` statement iterates over the values within the list by assigning the variable `value` to be a value within `values`, executing the `print` statement.  After this is done, `value` is assigned to the next value of `values`, the `print` statement is executed, and so forth.  This is done until one reaches the end of the list `values`."
   ]
  },
  {
   "cell_type": "markdown",
   "metadata": {},
   "source": [
    "So, is the limit statement wrong?  No, it is not.  What we are seeing is the limitations of trying to do math on a computer where every number has a finite amount of precision.  We will talk about this issue in far greater detail later in the course.  Suffice to say though, if we want more digits of $e$, we need a better approximation scheme.  And we get one via our very dear friend, the Taylor Series representation of $e^{x}$, which is given by\n",
    "\n",
    "$$\n",
    "e^{x} = \\sum_{j=0}^{\\infty} \\frac{x^{j}}{j!} = 1 + x + \\frac{x^{2}}{2!} + \\frac{x^{3}}{3!} + \\cdots\n",
    "$$\n",
    "\n",
    "Note, by $j!$ we mean\n",
    "\n",
    "$$\n",
    "j! = j(j-1)(j-2)\\cdots(2)(1)(0!), ~ 0! = 1.\n",
    "$$\n",
    "\n",
    "So, in essence then, we have a new way to approximate $e$.  We get this by using the Taylor series so that \n",
    "\n",
    "$$\n",
    "e = \\sum_{j=0}^{\\infty}\\frac{1}{j!} = \\lim_{n\\rightarrow\\infty}T_{n}, ~ T_{n}=\\sum_{j=0}^{n}\\frac{1}{j!}.\n",
    "$$\n",
    "So what this says is that we can approxime $e$ using the truncated Taylor series $T_{n}$.  But to do this, we have to take a sum of an arbitrary number of terms in which we have to keep computing ever longer products at every term.  Clearly, a computer should come in handy here.  \n",
    "\n",
    "The first thing we need to see is that $j!$ is what is called _recursive_.  What is meant by that is that in order to compute $j!$, we have to compute $(j-1)!$ and then modify this result.  This in words summarizes the identity\n",
    "\n",
    "$$\n",
    "j! = j(j-1)!\n",
    "$$"
   ]
  },
  {
   "cell_type": "markdown",
   "metadata": {},
   "source": [
    "_Problem_: Suppose we define the terms $a_{j} = \\frac{1}{j!}$.  Show, for $j\\geq 0$ that \n",
    "\n",
    "$$\n",
    "a_{j} = \\frac{a_{j-1}}{j}.\n",
    "$$"
   ]
  },
  {
   "cell_type": "markdown",
   "metadata": {},
   "source": [
    "Now, why fuss about this?  Well, as we are about to see, how we write the math and how we write the code can look very different.  They are always related, but frankly, they are different languages, and so in effect we are obliged to translate.  Let me show you what I mean.  Below is the code I would use to compute the partial sums above."
   ]
  },
  {
   "cell_type": "code",
   "execution_count": 1,
   "metadata": {},
   "outputs": [],
   "source": [
    "def exp_sum(nval): # A user inputs a specified tolerance given by the variable tol.\n",
    "    Tn = 1. # We initialize the sum.\n",
    "    aj = 1. # We initialize the term.\n",
    "    for jj in range(1,nval+1): # Keep updating and adding terms until a term is smaller than the tolerance tol.\n",
    "        aj *= 1./jj # Updates the terms of the sum.\n",
    "        Tn += aj # Adds the next term to the sum.\n",
    "        \n",
    "    return Tn"
   ]
  },
  {
   "cell_type": "code",
   "execution_count": 4,
   "metadata": {},
   "outputs": [
    {
     "name": "stdout",
     "output_type": "stream",
     "text": [
      "2.7182818011463845\n",
      "2.7182818284590455\n",
      "2.7182818284590455\n"
     ]
    }
   ],
   "source": [
    "print(exp_sum(10))\n",
    "print(exp_sum(100))\n",
    "print(exp_sum(1000))"
   ]
  },
  {
   "cell_type": "markdown",
   "metadata": {},
   "source": [
    "Okay, that code computes up to a fixed value of $n$.  But is that what we really want?  Maybe instead, we want to compute to a fixed tolerance, but what does that mean exactly and how would we do it?  "
   ]
  },
  {
   "cell_type": "code",
   "execution_count": null,
   "metadata": {},
   "outputs": [],
   "source": [
    "def exp_sum(tol): # A user inputs a specified tolerance given by the variable tol.\n",
    "    Tj = 1. # We initialize the sum.\n",
    "    aj = 1. # We initialize the term.\n",
    "    jj = 1 # We initialize the term number we are computing.  \n",
    "    while np.abs(aj)>=tol: # Keep updating and adding terms until a term is smaller than the tolerance tol.\n",
    "        aj *= 1./jj # Updates the terms of the sum.\n",
    "        Tj += aj # Adds the next term to the sum.\n",
    "        jj += 1 # Updates which term we are computing.\n",
    "    return Tj"
   ]
  },
  {
   "cell_type": "markdown",
   "metadata": {},
   "source": [
    "We will dissect this code in a couple of lectures.  But we can see what results we get from it.  And, yup, you guessed it, I'm going to give you more code to wrap your head around.  "
   ]
  },
  {
   "cell_type": "code",
   "execution_count": null,
   "metadata": {},
   "outputs": [],
   "source": [
    "tolvals = [1e-1,1e-2,1e-3,1e-4,1e-10,1e-15] # Decide on the tolerance values we want to test.\n",
    "\n",
    "for tolval in tolvals: # Iterate over the values within the list tolvals value by value\n",
    "    print(\"e=%1.15f\" %exp_sum(tolval)) # Find an approximation to e for the given tolerance value tol"
   ]
  },
  {
   "cell_type": "markdown",
   "metadata": {},
   "source": [
    "Let's see what the corresponding error looks like.  "
   ]
  },
  {
   "cell_type": "code",
   "execution_count": null,
   "metadata": {},
   "outputs": [],
   "source": [
    "etrue = 2.718281828459045\n",
    "tolvals = [1e-1,1e-2,1e-3,1e-4,1e-10,1e-15,1e-45,1e-99] # Decide on the tolerance values we want to test.\n",
    "\n",
    "for tolval in tolvals:\n",
    "    print(\"The absolute error using a tolerance of %1.0e is: %1.5e\" %(tolval,np.abs(etrue - exp_sum(tolval))) )"
   ]
  },
  {
   "cell_type": "markdown",
   "metadata": {},
   "source": [
    "So as we can see, we have a vastly superior method for computing $e$ by using the truncated Taylor series approach.  With that being said, let's now spend some time dwelling on Taylor Series in greater detail.  "
   ]
  }
 ],
 "metadata": {
  "kernelspec": {
   "display_name": "Python 3 (ipykernel)",
   "language": "python",
   "name": "python3"
  },
  "language_info": {
   "codemirror_mode": {
    "name": "ipython",
    "version": 3
   },
   "file_extension": ".py",
   "mimetype": "text/x-python",
   "name": "python",
   "nbconvert_exporter": "python",
   "pygments_lexer": "ipython3",
   "version": "3.9.13"
  }
 },
 "nbformat": 4,
 "nbformat_minor": 1
}
