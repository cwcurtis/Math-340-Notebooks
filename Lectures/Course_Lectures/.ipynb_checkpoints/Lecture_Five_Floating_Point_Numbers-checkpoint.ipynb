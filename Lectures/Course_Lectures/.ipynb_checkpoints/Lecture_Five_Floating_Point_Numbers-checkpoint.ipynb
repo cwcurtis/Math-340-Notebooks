{
 "cells": [
  {
   "cell_type": "code",
   "execution_count": 1,
   "metadata": {},
   "outputs": [],
   "source": [
    "import numpy as np\n",
    "import matplotlib.pyplot as plt\n",
    "%matplotlib inline"
   ]
  },
  {
   "cell_type": "markdown",
   "metadata": {},
   "source": [
    "# Floating Point Numbers\n",
    "\n",
    "This is a tough subject, but in order to better understand how a computer works with numbers, we first have to wrap our heads around with which numbers a computer works.  To do this, we briefly need to acquaint ourselves with the binary representation of a number.  All this means is that we are expanding relative to powers of $2$.  \n",
    "\n",
    "So first we remember that when we write a decimal number, we are always writing something with respect to powers of $10$.  Thus\n",
    "\n",
    "\\begin{align}\n",
    "7 = & 7\\cdot10^{0}\\\\\n",
    "17 = & 1\\cdot 10^{1} + 7\\cdot 10^{0}\\\\\n",
    "107 = & 1\\cdot 10^{2} + 0\\cdot 10^{1} + 7 \\cdot 10^{0}\\\\\n",
    "107.3 = & 1\\cdot 10^{2} + 0\\cdot 10^{1} + 7 \\cdot 10^{0} + 3 \\cdot 10^{-1}\n",
    "\\end{align}\n",
    "\n",
    "and more generally, we have that for $x\\in \\mathbb{R}$ that \n",
    "\n",
    "$$\n",
    "x = \\pm \\sum_{j=-\\infty}^{M} d_{j}10^{j}, ~ d_{j}=0,\\cdots,9.\n",
    "$$\n",
    "\n",
    "We then see why we write things like $1/3 = .\\bar{3}$ since,\n",
    "\n",
    "$$\n",
    ".\\bar{3} = \\sum_{j=1}^{\\infty}\\frac{3}{10^{j}} = 3 \\left(\\frac{1}{1-1/10} - 1 \\right) = \\frac{3}{9} = \\frac{1}{3}.\n",
    "$$\n",
    "\n",
    "Now instead of powers of $10$, we do everything in powers of 2.  \n",
    "\n",
    "\\begin{align}\n",
    "10 = 8 + 2 = & 1\\cdot2^{3} + 0\\cdot2^{2} + 1\\cdot2^{1} + 0\\cdot2^{0}\\\\\n",
    "107 = 64 + 32 + 8 + 2 + 1 = & 1\\cdot2^{6} + 1\\cdot2^{5} + 0\\cdot 2^{4} + 1\\cdot2^{3} + 0\\cdot 2^{2} + 1 \\cdot 2^{1} + 1\\cdot 2^{0} \n",
    "\\end{align}\n",
    "\n",
    "We abbreviate binary expansions in much the same way we abbreviate decimal expansions i.e. \n",
    "\n",
    "\\begin{align}\n",
    "10 = & 1010\\\\\n",
    "107 = & 1101011 \n",
    "\\end{align}\n",
    "\n",
    "For values $0\\leq x < 1$, things get a little bizarre relative to results to which we are accustomed to seeing.  For example, \n",
    "\n",
    "\\begin{align}\n",
    "\\frac{1}{2} & = 1\\cdot 2^{-1}\\\\\n",
    "\\frac{3}{4} & = 1\\cdot 2^{-1} + 1\\cdot 2^{-2}\n",
    "\\end{align}\n",
    "\n",
    "and you will see people write things like \n",
    "\n",
    "\\begin{align}\n",
    "\\frac{1}{2} & = .1\\\\\n",
    "\\frac{3}{4} & = .11\n",
    "\\end{align}\n",
    "\n",
    "Things get weird when we look at say $.1$.  So we have \n",
    "\n",
    "$$\n",
    ".1 = \\frac{1}{10} = \\frac{b_{1}}{2} + \\frac{b_{2}}{4} + \\frac{b_{3}}{8} + \\cdots , ~ b_{j}=0,1.\n",
    "$$\n",
    "\n",
    "So we see that if we multiply by $2$, then \n",
    "\n",
    "$$\n",
    ".2 = b_{1} + \\frac{b_{2}}{2} + \\frac{b_{3}}{4} + \\frac{b_{4}}{8} + \\cdots,\n",
    "$$\n",
    "\n",
    "but since $.2<1$, then $b_{1}=0$.  Repeating this process, we get \n",
    "\n",
    "$$\n",
    ".4 = b_{2} + \\frac{b_{3}}{2} + \\frac{b_{4}}{4} + \\frac{b_{5}}{8} + \\cdots.\n",
    "$$\n",
    "\n",
    "Again $.4<1$, so $b_{2}=0$, and $.8<1$, so $b_{3}=0$.  But then we get \n",
    "\n",
    "$$\n",
    "1.6 = b_{4} + \\frac{b_{5}}{2} + \\frac{b_{6}}{4} + \\frac{b_{7}}{8} + \\frac{b_{8}}{16} + \\cdots\n",
    "$$\n",
    "\n",
    "Now, $1.6>1$, so $b_{4}=1$, and we get \n",
    "\n",
    "$$\n",
    ".6 = \\frac{b_{5}}{2} + \\frac{b_{6}}{4} + \\frac{b_{7}}{8} + \\frac{b_{8}}{16} + \\cdots\n",
    "$$\n",
    "\n",
    "Multiply by $2$, and we get \n",
    "\n",
    "$$\n",
    "1.2 = b_{5} + \\frac{b_{6}}{2} + \\frac{b_{7}}{4} + \\frac{b_{8}}{8} + \\cdots\n",
    "$$\n",
    "\n",
    "and thus $b_{5}=1$, and after repeating our process, we have \n",
    "\n",
    "$$\n",
    ".4 = b_{6} + \\frac{b_{7}}{2} + \\frac{b_{8}}{4} + \\frac{b_{9}}{8} \\cdots\n",
    "$$\n",
    "\n",
    "So to summarize we have shown $b_{1}=b_{2}=b_{3}=0$ and $b_{4}=b_{5}=1$.  We also see then that \n",
    "\n",
    "$$\n",
    "b_{2} + \\frac{b_{3}}{2} + \\frac{b_{4}}{4} + \\frac{b_{5}}{8} + \\cdots = b_{6} + \\frac{b_{7}}{2} + \\frac{b_{8}}{4} + \\frac{b_{9}}{8} \\cdots,\n",
    "$$\n",
    "\n",
    "and thus we have shown that \n",
    "\n",
    "$$\n",
    ".1 = .0001100110011001100110011\\cdots\n",
    "$$\n",
    "\n",
    "So what was a number with a simple decimal expansion in base-10 becomes a far more complicated creature in base-2.  This of coures begs for code.  So, let's think about writing code which turns a decimal number into it's corresponding binary representation.  \n",
    "\n",
    "So first, let's think about a positive integer $d$.  We know it has some binary expansion, which looks like\n",
    "\n",
    "$$\n",
    "d = b_{m}2^{m} + b_{m-1}2^{m-1} + \\cdots b_{1}2^{1} + b_{0}2^{0}, ~ b_{j}=\\left\\{\\begin{array}{rl} 1 & j=m\\\\ 0,1 & 0\\leq j < m\n",
    "\\end{array}\\right.\n",
    "$$\n",
    "\n",
    "_Problem_: In terms of the variables $b_{j}$, what is `d%2`? \n",
    "\n",
    "_Problem_: If I know $b_{0}$, how would I find $b_{1}$?  \n",
    "\n",
    "_Problem_: How would I print an array backwards in Python?  If I have an array `avals`, what does `avals[::-1]` do ?\n",
    "\n",
    "_Problem_: What is an algorithm for generating $b_{j}$?"
   ]
  },
  {
   "cell_type": "code",
   "execution_count": 17,
   "metadata": {},
   "outputs": [],
   "source": [
    "def bin_exp(d):\n",
    "    bstr = ''\n",
    "    while d > 0: \n",
    "        b0 = int(d % 2)\n",
    "        d = (d-b0)/2\n",
    "        bstr += str(b0)\n",
    "    return bstr[::-1]"
   ]
  },
  {
   "cell_type": "code",
   "execution_count": 18,
   "metadata": {},
   "outputs": [
    {
     "name": "stdout",
     "output_type": "stream",
     "text": [
      "1010\n"
     ]
    }
   ],
   "source": [
    "print(bin_exp(10))"
   ]
  },
  {
   "cell_type": "markdown",
   "metadata": {},
   "source": [
    "So what are we going to do about decimal parts of numbers?  In other words, suppose we have $0<d<1$ where\n",
    "\n",
    "$$\n",
    "d = b_{-1}\\frac{1}{2} + b_{-2}\\frac{1}{2^{2}} + \\cdots b_{-j}\\frac{1}{2^{j}} + \\cdots, ~ b_{-j}=0,1.\n",
    "$$\n",
    "\n",
    "What is an algorithm for determining the coefficients $b_{-j}$?  "
   ]
  },
  {
   "cell_type": "code",
   "execution_count": 19,
   "metadata": {},
   "outputs": [],
   "source": [
    "def bin_exp_dec(d):\n",
    "    bstr=''\n",
    "    cnt = 0\n",
    "    while cnt <= 53:\n",
    "        d *= 2. \n",
    "        if d >= 1.:\n",
    "            b1 = 1. \n",
    "            bstr += '1' \n",
    "        else:\n",
    "            b1 = 0. \n",
    "            bstr += '0' \n",
    "        d -= b1     \n",
    "        cnt += 1\n",
    "        \n",
    "    return bstr        "
   ]
  },
  {
   "cell_type": "code",
   "execution_count": 21,
   "metadata": {},
   "outputs": [
    {
     "name": "stdout",
     "output_type": "stream",
     "text": [
      "000110011001100110011001100110011001100110011001100110\n"
     ]
    }
   ],
   "source": [
    "print(bin_exp_dec(.1))"
   ]
  },
  {
   "cell_type": "code",
   "execution_count": 22,
   "metadata": {},
   "outputs": [
    {
     "name": "stdout",
     "output_type": "stream",
     "text": [
      "1.1102230246251565e-16\n"
     ]
    }
   ],
   "source": [
    "print(2.**(-53))"
   ]
  },
  {
   "cell_type": "markdown",
   "metadata": {
    "collapsed": true
   },
   "source": [
    "## The Floating Point Representation of Machine Numbers\n",
    "\n",
    "Here is where things get markedly more complex, but, as is so often the case, interesting.  What this all comes down to are what are called _ memory registers _.  For this, we need a picture\n",
    "\n",
    "![Memory](https://upload.wikimedia.org/wikipedia/commons/d/d8/ABasicComputer.gif)\n",
    "\n",
    "![Real_Life](https://upload.wikimedia.org/wikipedia/commons/5/52/EBIntel_Corei5.JPG)\n",
    "\n",
    "In the image above, we see the CPU for a laptop to the right as the bronze square with a pipe on top of it.   "
   ]
  },
  {
   "cell_type": "markdown",
   "metadata": {},
   "source": [
    "So what we are talking about when we talk about registers are physical locations on the CPU.  In effect, they are the CPU's personal scratch pad.  The registers themselves are made of 64-_bits_, i.e. each register contains a sequence of 64 1's and 0's.  When the registers are used for numbers, we represent a machine, or floating point number, say ${\\bf x}_{f}$, via the form \n",
    "\n",
    "$$\n",
    "{\\bf x}_{f} = \\left(s ~c_{10} c_{9} \\cdots c_{0} ~f_{1} f_{2} \\cdots f_{52} \\right)\n",
    "$$\n",
    "\n",
    "The bit in $s$ is the sign.  A 0 means positive, 1 negative.  The next 11 bits represented by the values $c_{j}$ make up the _characteristic_.  The remaining 52 bits represented by the vaues $f_{j}$ make up the _ mantissa _.  The actual number represented by all these bits is found via the formula    \n",
    "\n",
    "$$\n",
    "x_{f} = (-1)^{s}2^{\\tilde{c}}(1 + \\tilde{f}),\n",
    "$$\n",
    "\n",
    "where\n",
    "\n",
    "$$\n",
    "\\tilde{c} = \\sum_{j=0}^{10}c_{j}2^{j} - 1023, ~ \\tilde{f} = \\sum_{j=1}^{52}\\frac{f_{j}}{2^{j}}\n",
    "$$\n",
    "\n",
    "Just to be clear, we are making a distinction between ${\\bf x}_{f}$, which is a collection of 64 bits in a register inside a CPU, and $x_{f}$ which is an actual number as we commonly understand them.  Ignoring the sign, and using the formula \n",
    "\n",
    "$$\n",
    "\\sum_{j=0}^{n} a^{j} = \\frac{a^{n+1}-1}{a-1}.\n",
    "$$\n",
    "\n",
    "we can then determine what the following machine numbers are \n",
    "\n",
    "\\begin{align}\n",
    "\\mbox{Inf} = & (0 ~ 1\\cdots1 ~0\\cdots 0)\\\\\n",
    "0 = & (0 ~ 0\\cdots0 ~0\\cdots 0)\\\\\n",
    "{\\bf x}^{max}_{f} = & (0 ~ 1\\cdots1 0 ~ 1\\cdots 1)\\\\\n",
    "{\\bf x}^{min}_{f} = & (0 ~ 0\\cdots0 1 ~ 0\\cdots 0)\n",
    "\\end{align}\n",
    "\n",
    "_Problem_: You know what to do here.  \n",
    "\n",
    "_Problem_: Determine the range of characteristic values.  \n",
    "\n",
    "_Problem_: Given an array `avals` how would I slice out the first 11 entries?  What does the command `avals[:11]` do?  What does the command `avals[1:12]` return?\n",
    "\n",
    "_Problem_: Determine the range of mantissa values.\n",
    "\n",
    "_Problem_: Determine the machine representation of $.1$ using the example from above.  \n",
    "\n",
    "So now let's think about how to take a given number and determine its floating point representation, and vice versa, how to take a floating point bit representation and turn it into a number.  "
   ]
  },
  {
   "cell_type": "code",
   "execution_count": 14,
   "metadata": {
    "collapsed": true
   },
   "outputs": [],
   "source": [
    "def bit_to_num(bvec):\n",
    "    s = bvec[]\n",
    "    cvec = bvec[]\n",
    "    fvec = bvec[]\n",
    "    cpows = np.array()\n",
    "    fpows = -np.array()\n",
    "    ctil = np.sum(cvec*(2.**cpows[])) - 1023\n",
    "    ftil = np.sum(fvec*(2.**fpows))\n",
    "    num = ((-1.)**s) * (2.**ctil) * (1.+ftil)\n",
    "    return num"
   ]
  },
  {
   "cell_type": "code",
   "execution_count": null,
   "metadata": {},
   "outputs": [],
   "source": [
    "cvec = np.array([0,1,1,1,1,1,1,1,0,1,1])\n",
    "fvec = np.array([1,0,0,1,1,0,0,1,1,0,0,1,1,0,0,1,1,0,0,1,1,0,0,1,1,0,0,1,1,0,0,1,1,0,0,1,1,0,0,1,1,0,0,1,1,0,0,1,1,0,0,1])\n",
    "frup = np.array([1,0,0,1,1,0,0,1,1,0,0,1,1,0,0,1,1,0,0,1,1,0,0,1,1,0,0,1,1,0,0,1,1,0,0,1,1,0,0,1,1,0,0,1,1,0,0,1,1,0,1,0])\n",
    "\n",
    "bvec = np.zeros(64)\n",
    "brup = np.zeros(64)\n",
    "bvec[1:] = np.concatenate((cvec,fvec))\n",
    "brup[1:] = np.concatenate((cvec,frup))\n",
    "\n",
    "print \"%1.19f\" %bit_to_num(bvec)\n",
    "print \"%1.19f\" %bit_to_num(brup)"
   ]
  },
  {
   "cell_type": "code",
   "execution_count": 29,
   "metadata": {
    "collapsed": true
   },
   "outputs": [],
   "source": [
    "def num_to_bit(d):\n",
    "    # add code to transform a digit into its binary representation "
   ]
  },
  {
   "cell_type": "code",
   "execution_count": null,
   "metadata": {},
   "outputs": [],
   "source": [
    "num_to_bit(.1)"
   ]
  },
  {
   "cell_type": "markdown",
   "metadata": {},
   "source": [
    "What this means then is that the computer does not see any number between $0$ and $x^{min}_{f} = 2^{-1023}$.  They do not exist on the machine, and thus anything in between that may appear in a computation must be rounded one way or the other.  \n",
    "\n",
    "When the numbers are small, this rounding may not seem like much, but floating point is a system based on _relative_ magnitudes.  To understand what this means, first suppose we have a positive floating point number $x_{f}$ which has a mantissa $0\\leq \\tilde{f} < 2-2^{-52}$.  We now look at the two closest numbers to $x_{f}$, say $x_{f}^{+}$ and $x_{f}^{-}$.  This gives us\n",
    "\n",
    "\\begin{align}\n",
    "x^{+}_{f} = & 2^{\\tilde{c}}(1 + \\tilde{f} + 2^{-52} )\\\\\n",
    "x_{f} = & 2^{\\tilde{c}}(1 + \\tilde{f} )\\\\\n",
    "x^{-}_{f} = & 2^{\\tilde{c}}(1 + \\tilde{f} - 2^{-52} )\n",
    "\\end{align}\n",
    "\n",
    "Thus we see that \n",
    "\n",
    "$$\n",
    "\\left|x^{+}_{f} - x_{f}\\right| = \\left|x_{f} - x^{-}_{f}\\right| = 2^{\\tilde{c}-52}\n",
    "$$\n",
    "\n",
    "which shows that as $\\tilde{c}$ gets bigger, the _absolute spacing_ between floating point numbers _increases_.  Keep in mind, this means that as the characteristic increases, there are more and more numbers not represented by the computer.  \n",
    "\n",
    "However, if we look at the relative spacing, we get \n",
    "\n",
    "$$\n",
    "\\frac{\\left|x^{+}_{f} - x_{f}\\right|}{2^{\\tilde{c}}} = \\frac{\\left|x_{f} - x^{-}_{f}\\right|}{2^{\\tilde{c}}} = 2^{-52}.\n",
    "$$\n",
    "\n",
    "Thus, in the floating point system, absolute differences change based on the magnitude of the number, which is set by the characteristic $\\tilde{c}$.  However, the relative difference stays exactly the same, and we define this fixed relative difference to be what is called _machine precision_.   "
   ]
  }
 ],
 "metadata": {
  "kernelspec": {
   "display_name": "Python 3 (ipykernel)",
   "language": "python",
   "name": "python3"
  },
  "language_info": {
   "codemirror_mode": {
    "name": "ipython",
    "version": 3
   },
   "file_extension": ".py",
   "mimetype": "text/x-python",
   "name": "python",
   "nbconvert_exporter": "python",
   "pygments_lexer": "ipython3",
   "version": "3.9.12"
  }
 },
 "nbformat": 4,
 "nbformat_minor": 2
}
