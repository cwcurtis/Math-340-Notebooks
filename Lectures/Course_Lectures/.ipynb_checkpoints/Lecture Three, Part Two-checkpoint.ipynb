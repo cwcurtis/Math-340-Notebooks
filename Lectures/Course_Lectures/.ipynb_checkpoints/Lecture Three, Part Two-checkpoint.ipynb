{
 "cells": [
  {
   "cell_type": "code",
   "execution_count": 1,
   "id": "8c6916a0",
   "metadata": {},
   "outputs": [],
   "source": [
    "import numpy as np\n",
    "import matplotlib.pyplot as plt\n",
    "%matplotlib inline"
   ]
  },
  {
   "cell_type": "markdown",
   "id": "103308fb",
   "metadata": {},
   "source": [
    "## Tools for Estimation\n",
    "\n",
    "So in this course, we do need to develop estimates of error in order to determine how well our theory and approximations match.  To that end, we need some techniques to make that happen.\n",
    "\n",
    "### The absolute value \n",
    "\n",
    "So we need to work with $|x|$ all the time, because we are usually far more interested in the magnitude of something as opposed to whether it is positive or negative.  There are really three big tricks to memorize here.  They are\n",
    "\n",
    "* $|xy| = |x||y|$\n",
    "* $|-x| = |x|$\n",
    "* $|x-y| = |y-x|$\n",
    "\n",
    "**Problem**: Show how you can use the second trick to show the third one.  \n",
    "\n",
    "### The Triangle Inequality\n",
    "This one starts easy.  Let $x,y \\in \\mathbb{R}$.  Then we have \n",
    "$$\n",
    "\\left|x+y\\right| \\leq |x| + |y|\n",
    "$$\n",
    "\n",
    "So for example, we can show \n",
    "\n",
    "$$\n",
    "|3x^{3} - 4| = |3x^{3} + (-4)| \\leq |3x^{3}| + |-4| = 3|x|^{3}+ 4\n",
    "$$\n",
    "\n",
    "If I have more terms, we keep applying aboslute values term-by term.  For example \n",
    "\n",
    "\\begin{align*}\n",
    "|3x^{3} - 5x^{7} - 4| = & |3x^{3} + (-5x^{7}) + (-4)| \\\\\n",
    "\\leq & |3x^{3} + (-5x^{7}) | + |-4| \\\\\n",
    "\\leq & |3x^{3}| + |-5x^{7}| + |-4| \\\\\n",
    "\\leq & 3|x|^{3} + 5|x|^{7} + 4\n",
    "\\end{align*}\n",
    "\n",
    "\n",
    "**Problem**: Use the fact $|\\cos(\\theta)|\\leq 1$ to show that\n",
    "\n",
    "$$\n",
    "\\left|2\\cos(x^{3})+3x^{3}\\right| \\leq 2 + 3|x|^{3}\n",
    "$$\n",
    "\n",
    "**Problem**: Show that \n",
    "\n",
    "$$\n",
    "\\left|2\\sin^{2}(x^{3})+3x^{3}+4\\cos^{3}(2x^5+2)\\right| \\leq 6 + 3|x|^{3}\n",
    "$$\n",
    "\n"
   ]
  },
  {
   "cell_type": "markdown",
   "id": "ac1fda7c",
   "metadata": {},
   "source": [
    "## Taylor's Remainder Theorem"
   ]
  },
  {
   "cell_type": "markdown",
   "id": "ae150756",
   "metadata": {},
   "source": [
    "So if we have for $f(x)$ on an interval $I=[x_{0}-\\delta_{1}, x_{0}+\\delta_{2}]$ the $n^{th}$-order approximation\n",
    "\n",
    "$$\n",
    "T_{n}(x) = \\sum_{j=0}^{n}\\frac{1}{j!}\\left.\\frac{d^{j}f}{dx^{j}}\\right|_{x=x_{0}}(x-x_{0})^{j}\n",
    "$$\n",
    "\n",
    "then we have that \n",
    "\n",
    "$$\n",
    "\\left|f(x) - T_{n}(x) \\right|\\leq \\frac{M}{(n+1)!}\\left|x-x_{0}\\right|^{n+1},\n",
    "$$\n",
    "\n",
    "where\n",
    "\n",
    "$$\n",
    "M = \\sup_{x\\in I}\\left|\\frac{d^{n+1}}{dx^{n+1}}f\\right|.\n",
    "$$\n",
    "\n",
    "Note, this always shows up as on overestimate, but when you have nothing else, some theory is better than nothing.  Let's see why.\n",
    "\n",
    "_Example_: So from the homework, we looked at a variety of ways to estimate \n",
    "\n",
    "$$\n",
    "I = \\int_{0}^{\\pi/2} \\sin(\\cos(x))dx.\n",
    "$$\n",
    "\n",
    "Keeping in mind that \n",
    "$$\n",
    "f'(x) = -\\sin(x)\\cos(\\cos(x)), ~ f''(x)=-\\cos(x)\\cos(\\cos(x))-\\sin^{2}(x)\\sin(\\cos(x)),\n",
    "$$\n",
    "$$\n",
    "f'''(x) = \\sin(x)\\left( \\left(1+\\sin^{2}(x)\\right)\\cos(\\cos(x)) -3\\cos(x)\\sin(\\cos(x)))\\right)\n",
    "$$\n",
    "and\n",
    "$$\n",
    "f''''(x) = -3\\cos^{2}(x)\\sin(\\cos(x))+(6\\sin^{2}(x)+1)\\cos(\\cos(x))\\cos(x)+\\sin^{2}(x)(\\sin^{2}(x)+4)\\sin(\\cos(x))\n",
    "$$\n",
    "\n",
    "**Problem**: Show: \n",
    "\\begin{align}\n",
    "\\left|f''''(x)\\right|\\leq &\\left|-3\\cos^{2}(x)\\sin(\\cos(x))+(6\\sin^{2}(x)+1)\\cos(\\cos(x))\\cos(x)+\\sin^{2}(x)(\\sin^{2}(x)+4)\\sin(\\cos(x))\\right|\\\\\n",
    "\\leq & \\left(3 + 7 + 5\\right) = 15\n",
    "\\end{align}\n",
    "\n",
    "\n",
    "**Problem**: Using the fact that $|\\sin(x)|,|\\cos(x)|\\leq 1$ and the triangle inequality $|x+y|\\leq |x|+|y|$, show \n",
    "$$\n",
    "\\left|\\sin(\\cos(x)) - T_{2}(x;0) \\right| \\leq \\frac{15}{4!}|x|^{4}\n",
    "$$\n",
    "\n",
    "Okay, so how does this show up?  "
   ]
  },
  {
   "cell_type": "code",
   "execution_count": 6,
   "id": "d8c4adde",
   "metadata": {},
   "outputs": [],
   "source": [
    "f0 = lambda x: np.sin(np.cos(x))\n",
    "f1 = lambda x: -np.sin(x)*np.cos(np.cos(x))\n",
    "f2 = lambda x: -(np.sin(x))**2.*f0(x) - np.cos(x)*np.cos(np.cos(x))\n",
    "f3 = lambda x: np.sin(x)*( -3.*np.cos(x)*f0(x) + (1.+(np.sin(x))**2.)*np.cos(np.cos(x)))\n",
    "T2 = lambda x, x0: f0(x0) + f1(x0)*(x-x0) + f2(x0)/2.*(x-x0)**2."
   ]
  },
  {
   "cell_type": "code",
   "execution_count": 9,
   "id": "b311b7cc",
   "metadata": {},
   "outputs": [
    {
     "data": {
      "text/plain": [
       "<matplotlib.legend.Legend at 0x1de30064c70>"
      ]
     },
     "execution_count": 9,
     "metadata": {},
     "output_type": "execute_result"
    },
    {
     "data": {
      "image/png": "[encoded data removed]",
      "text/plain": [
       "<Figure size 432x288 with 1 Axes>"
      ]
     },
     "metadata": {
      "needs_background": "light"
     },
     "output_type": "display_data"
    }
   ],
   "source": [
    "xvals = np.linspace(0., np.pi/2., int(1e3))\n",
    "Taylor_error_estimate = lambda x: 5./8.*x**4.\n",
    "plt.plot(xvals, np.abs(f0(xvals) - T2(xvals,0)),color='k',label=\"True Error\")\n",
    "plt.plot(xvals, Taylor_error_estimate(xvals),color='r',label=\"Upper Bound of Error\")\n",
    "plt.legend()"
   ]
  },
  {
   "cell_type": "markdown",
   "id": "d9023e9e",
   "metadata": {},
   "source": [
    "Okay, so we see that as we move away from the expansion point that our upper bound really becomes a pretty gross one, and really, it's not a terribly useful estimate much past $x=.6$.  That said, something is better than nothing, though we do have to be clever."
   ]
  },
  {
   "cell_type": "markdown",
   "id": "611a4317",
   "metadata": {},
   "source": [
    "Now, to understand how this helps us with estimating the error in our integrals, we use the integral inequality\n",
    "$$\n",
    "\\left|\\int_{a}^{b}f(x)dx\\right|\\leq \\int_{a}^{b}\\left|f(x)\\right|dx,\n",
    "$$\n",
    "so that\n",
    "\\begin{align*}\n",
    "\\left|\\int_{0}^{\\pi/2}\\left(\\sin(\\cos(x)) - T_{2}(x;0)\\right)dx\\right| \\leq & \\int_{0}^{\\pi/2}\\left| \\sin(\\cos(x)) - T_{2}(x;0)\\right|dx\\\\\n",
    "\\leq & \\frac{15}{24}\\int_{0}^{\\pi/2}\\left|x\\right|^{4}dx\\\\\n",
    "\\leq & \\frac{15}{120}\\left(\\frac{\\pi}{2}\\right)^{5} \\approx 1.2\n",
    "\\end{align*}\n",
    "\n",
    "So... that's awful.  We know from prior work that the error is more like .07, so our overestimate is wildly off.  So what good is all this theory then?\n",
    "\n",
    "Well, now let's look at our error theory using $T_{2}(x;\\pi/4)$.  In that case, we have \n",
    "$$\n",
    "\\left| \\sin(\\cos(x)) - T_{2}(x;\\pi/4)\\right|\\leq \\frac{5}{6}\\left|x-\\frac{\\pi}{4}\\right|^{3}.\n",
    "$$"
   ]
  },
  {
   "cell_type": "code",
   "execution_count": 11,
   "id": "64119372",
   "metadata": {},
   "outputs": [
    {
     "data": {
      "text/plain": [
       "<matplotlib.legend.Legend at 0x1de301cad10>"
      ]
     },
     "execution_count": 11,
     "metadata": {},
     "output_type": "execute_result"
    },
    {
     "data": {
      "image/png": "[encoded data removed]",
      "text/plain": [
       "<Figure size 432x288 with 1 Axes>"
      ]
     },
     "metadata": {
      "needs_background": "light"
     },
     "output_type": "display_data"
    }
   ],
   "source": [
    "xvals = np.linspace(0., np.pi/2., int(1e3))\n",
    "Taylor_error_estimate = lambda x: 5./6.*np.abs(x-np.pi/4.)**3.\n",
    "plt.plot(xvals, np.abs(f0(xvals) - T2(xvals,np.pi/4.)),color='k',label=\"True Error\")\n",
    "plt.plot(xvals, Taylor_error_estimate(xvals),color='r',label=\"Upper Bound of Error\")\n",
    "plt.legend()"
   ]
  },
  {
   "cell_type": "markdown",
   "id": "333bbc6c",
   "metadata": {},
   "source": [
    "Okay, so that shows us that by recentering our Taylor series, we get a radical reduction in both the actual error but also our estimate of the error.  So our theory has become much much better, and that means we should anticipate a much much better estimate for our integral.  \n",
    "\n",
    "So now, when we repeat our integral error analysis, we get that \n",
    "\\begin{align*}\n",
    "\\left|\\int_{0}^{\\pi/2}\\left(\\sin(\\cos(x)) - T_{2}(x;\\pi/4)\\right)dx\\right| \\leq & \\int_{0}^{\\pi/2}\\left| \\sin(\\cos(x)) - T_{2}(x;\\pi/4)\\right|dx\\\\\n",
    "\\leq & \\frac{5}{6}\\int_{0}^{\\pi/2}\\left|x-\\frac{\\pi}{4}\\right|^{3}dx\\\\\n",
    "\\leq & \\frac{5}{6}\\int_{-\\pi/4}^{\\pi/4}\\left|u\\right|^{3}du\\\\\n",
    "\\leq & \\frac{5}{3}\\int_{0}^{\\pi/4}u^{3}du\\\\\n",
    "\\leq & \\frac{5}{12}\\left(\\frac{\\pi}{4}\\right)^{4} \\approx .16\n",
    "\\end{align*}\n"
   ]
  },
  {
   "cell_type": "code",
   "execution_count": null,
   "id": "30cbf32f",
   "metadata": {},
   "outputs": [],
   "source": []
  }
 ],
 "metadata": {
  "kernelspec": {
   "display_name": "Python 3 (ipykernel)",
   "language": "python",
   "name": "python3"
  },
  "language_info": {
   "codemirror_mode": {
    "name": "ipython",
    "version": 3
   },
   "file_extension": ".py",
   "mimetype": "text/x-python",
   "name": "python",
   "nbconvert_exporter": "python",
   "pygments_lexer": "ipython3",
   "version": "3.9.7"
  }
 },
 "nbformat": 4,
 "nbformat_minor": 5
}
