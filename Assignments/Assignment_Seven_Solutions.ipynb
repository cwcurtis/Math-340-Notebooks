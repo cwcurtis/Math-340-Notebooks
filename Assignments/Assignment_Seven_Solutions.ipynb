{
 "cells": [
  {
   "cell_type": "code",
   "execution_count": 4,
   "metadata": {},
   "outputs": [],
   "source": [
    "import numpy as np\n",
    "import matplotlib.pyplot as plt\n",
    "%matplotlib inline"
   ]
  },
  {
   "cell_type": "markdown",
   "metadata": {},
   "source": [
    "**Problem 1**: 10 pts - Write a program (see the Lecture 7 notes for help) which takes in a number and converts it into its base\n",
    "“b” expansion for up to base 16 (6 pts). In other words, if I give you some\n",
    "number, say x, find the expansion\n",
    "$$\n",
    "x = \\mbox{sgn}(x)\\sum_{j=−m}^{n} t_j b^j, ~0 ≤ t_j ≤ b − 1.\n",
    "$$\n",
    "\n",
    "Briefly explain your reasoning behind you code. (2 pts) \n",
    "\n",
    "Compare the representations of .1 in base 3, 8, and 16. Comment on any interesting patterns that you observe. (2 pts) \n",
    "\n",
    "Note, for bases 11-16, follow hexadecimal conventions, which means instead of using numbers above 9, you use letters in the following fashion:\n",
    "\\begin{array}{ccc}\n",
    "10 & = & A\\\\\n",
    "11 & = & B\\\\\n",
    "12 & = & C\\\\\n",
    "13 & = & D\\\\\n",
    "14 & = & E\\\\\n",
    "15 & = & F\n",
    "\\end{array}"
   ]
  },
  {
   "cell_type": "code",
   "execution_count": 5,
   "metadata": {},
   "outputs": [],
   "source": [
    "def integer_conv(d,b):\n",
    "    # d is the value you are trying to convert with respect to base b.\n",
    "    bcars = ['0','1','2','3','4','5','6','7','8','9','A','B','C','D','E','F']\n",
    "    bstr = '' # Define a string with an empty character.\n",
    "    while d>0:\n",
    "        b0 = d%b\n",
    "        bstr+=bcars[b0]\n",
    "        d = (d-b0)/b\n",
    "    return bstr[::-1]"
   ]
  },
  {
   "cell_type": "code",
   "execution_count": 6,
   "metadata": {},
   "outputs": [],
   "source": [
    "def decimal_conv(r,b):\n",
    "    # r is the value you are trying to convert with respect to base b.\n",
    "    bcars = ['0','1','2','3','4','5','6','7','8','9','A','B','C','D','E','F']\n",
    "    bstr = ''\n",
    "    rorig = r\n",
    "    cnt = 1\n",
    "    while rorig > 1e-16:\n",
    "        b0 = int(np.floor(r*b))\n",
    "        bstr+=bcars[b0]\n",
    "        r = (b*r-b0)\n",
    "        rorig -= b0/b**cnt \n",
    "        cnt += 1\n",
    "    return bstr"
   ]
  },
  {
   "cell_type": "code",
   "execution_count": 7,
   "metadata": {},
   "outputs": [],
   "source": [
    "def base_conv(x,b):\n",
    "    dval = np.floor(x) # The integer part of x\n",
    "    rval = x-dval # The decimal part of x\n",
    "    if dval>0:\n",
    "        int_str = integer_conv(dval,b)\n",
    "    else:\n",
    "        int_str=''\n",
    "    if rval>0:    \n",
    "        dec_str = decimal_conv(rval,b)\n",
    "    else:\n",
    "        dec_str = ''\n",
    "    return int_str+'.'+dec_str # Join the two strings corresponding to the integer and decimal part of your number.  "
   ]
  },
  {
   "cell_type": "code",
   "execution_count": 8,
   "metadata": {},
   "outputs": [
    {
     "name": "stdout",
     "output_type": "stream",
     "text": [
      ".00220022002200220022002200220022\n",
      ".063146314631463146\n",
      ".1999999999999A\n"
     ]
    }
   ],
   "source": [
    "print(base_conv(.1,3))\n",
    "print(base_conv(.1,8))\n",
    "print(base_conv(.1,16))"
   ]
  },
  {
   "cell_type": "markdown",
   "metadata": {},
   "source": [
    "We see that regardless of base, the fact that $.1$ is a rational number implies that every base-representation is repeating.  "
   ]
  },
  {
   "cell_type": "markdown",
   "metadata": {},
   "source": [
    "**Problem 2** (5pts): What do each of the following loops do?  How many lines of output does each program produce?  What are the last two values of $x$ printed?  "
   ]
  },
  {
   "cell_type": "code",
   "execution_count": 9,
   "metadata": {},
   "outputs": [],
   "source": [
    "x = 1.\n",
    "while 1.+x > 1.:\n",
    "    x /= 2.\n",
    "    # print x It's really tempting to put a print statement here.  Think of something a bit different please.  \n",
    "    \n",
    "x = 1.\n",
    "while x+x > x:\n",
    "    x *= 2.\n",
    "    # print x It's really tempting to put a print statement here.  Think of something a bit different please.  \n",
    "\n",
    "x = 1.\n",
    "while x+x > x:\n",
    "    x /= 2.\n",
    "    # print x It's really tempting to put a print statement here.  Think of something a bit different please.  \n"
   ]
  },
  {
   "cell_type": "markdown",
   "metadata": {},
   "source": [
    "**Problem 3** (10 pts): Finish the program below which converts a 64-bit representation of a number into its equivalenct decimal form (4 pts). \n",
    "* Develop two test cases to determine if your program works correctly (2 pts).     \n",
    "* Find the decimal representation of the 64-bit arrays below.How is the mantissa represented by `frup` related to the one related by `fvec`? (2 pts) \n",
    "* What can you infer about the printed results on the example below? (2 pts)"
   ]
  },
  {
   "cell_type": "code",
   "execution_count": 10,
   "metadata": {},
   "outputs": [],
   "source": [
    "def bit_to_num(bvec):\n",
    "    s = bvec[0]\n",
    "    cvec = bvec[1:12]\n",
    "    fvec = bvec[12:]\n",
    "    cpows = np.arange(11)\n",
    "    fpows = -np.arange(1,53)\n",
    "    ctil = np.sum(cvec*(2.**cpows[::-1])) - 1023\n",
    "    ftil = np.sum(fvec*(2.**fpows))\n",
    "    num = ((-1.)**s) * (2.**ctil) * (1.+ftil)\n",
    "    return num"
   ]
  },
  {
   "cell_type": "code",
   "execution_count": 11,
   "metadata": {},
   "outputs": [
    {
     "name": "stdout",
     "output_type": "stream",
     "text": [
      "0.0999999999999999917\n",
      "0.1000000000000000056\n"
     ]
    }
   ],
   "source": [
    "cvec = np.array([0,1,1,1,1,1,1,1,0,1,1])\n",
    "fvec = np.array([1,0,0,1,1,0,0,1,1,0,0,1,1,0,0,1,1,0,0,1,1,0,0,1,1,0,0,1,1,0,0,1,1,0,0,1,1,0,0,1,1,0,0,1,1,0,0,1,1,0,0,1])\n",
    "frup = np.array([1,0,0,1,1,0,0,1,1,0,0,1,1,0,0,1,1,0,0,1,1,0,0,1,1,0,0,1,1,0,0,1,1,0,0,1,1,0,0,1,1,0,0,1,1,0,0,1,1,0,1,0])\n",
    "\n",
    "bvec = np.zeros(64)\n",
    "brup = np.zeros(64)\n",
    "bvec[1:] = np.concatenate((cvec,fvec))\n",
    "brup[1:] = np.concatenate((cvec,frup))\n",
    "\n",
    "print(\"%1.19f\" %bit_to_num(bvec))\n",
    "print(\"%1.19f\" %bit_to_num(brup))"
   ]
  },
  {
   "cell_type": "markdown",
   "metadata": {},
   "source": [
    "Looking at the bit-strings and the final results, we see two very close approximations to $.1$ which are themselves as close together in the floating-point representation as they can get.  So while $.1$ itself cannot be represented in floating-point directly, we can get very, very close from both below and above.  "
   ]
  },
  {
   "cell_type": "markdown",
   "metadata": {},
   "source": [
    "**Problem 4** (10 pts): Write a program which takes in a decimal number and returns its 64-bit representation.  (6pts)  Use the examples above from **Problem 3** to verify your program is working. (4pts)  "
   ]
  },
  {
   "cell_type": "markdown",
   "metadata": {},
   "source": [
    "**Problem 5** (10 pts): Given that $\\sin(x)$ has the Maclaurin series\n",
    "\n",
    "$$\n",
    "\\sin(x) = \\sum_{m=0}^{\\infty}\\frac{(-1)^{m}x^{2m+1}}{(2m+1)!}\n",
    "$$\n",
    "\n",
    "for the function below, what causes the while loop to terminate (2 pts)?  For $x = \\pi/2, ~11\\pi/2, ~ 21\\pi/2, ~ 31\\pi/2$, \n",
    "\n",
    "* How accurate is the computed result? (2 pts)\n",
    "* How many terms are required? (2 pts)\n",
    "* What is the largest term in the series? (2 pts)  \n",
    "\n",
    "What do you conclude about the use of floating-point arithmetic and power series to evaluate functions?  (2 pts)"
   ]
  },
  {
   "cell_type": "code",
   "execution_count": null,
   "metadata": {},
   "outputs": [],
   "source": [
    "def s = psin(x):\n",
    "    s = 0.\n",
    "    t = x\n",
    "    n = 1\n",
    "    x2 = -x**2.\n",
    "    while s+t != s:\n",
    "        s += t\n",
    "        t *= x2/((n+2.)*(n+1.))\n",
    "        n += 2"
   ]
  }
 ],
 "metadata": {
  "kernelspec": {
   "display_name": "Python 3 (ipykernel)",
   "language": "python",
   "name": "python3"
  },
  "language_info": {
   "codemirror_mode": {
    "name": "ipython",
    "version": 3
   },
   "file_extension": ".py",
   "mimetype": "text/x-python",
   "name": "python",
   "nbconvert_exporter": "python",
   "pygments_lexer": "ipython3",
   "version": "3.9.13"
  }
 },
 "nbformat": 4,
 "nbformat_minor": 2
}
