{
 "cells": [
  {
   "cell_type": "code",
   "execution_count": 1,
   "id": "0fa68f49",
   "metadata": {},
   "outputs": [],
   "source": [
    "import numpy as np\n",
    "import matplotlib.pyplot as plt\n",
    "%matplotlib inline"
   ]
  },
  {
   "cell_type": "markdown",
   "id": "9bd0d132",
   "metadata": {},
   "source": [
    "## One-Sided Differencing \n",
    "\n",
    "So, suppose I give you the data $(x_{j},f_{j}),(x_{j+1},f_{j+1}),(x_{j+2},f_{j+2})$, and you need to build an approximation to $f'(x_{j})$.  Suppose that the nodes are equispaced so that $x_{j+1}-x_{j}=\\delta x$ for all $j$.\n",
    "\n",
    "**Problem 1**: Find the interpolatory polynomial from the given data.  Write your answer in terms of $\\delta x$ (you'll thank me later).\n",
    "\n",
    "**Problem 2**: Show that the derivative approximation using your answer from Problem 1 comes out to\n",
    "\n",
    "$$\n",
    "f'(x_{j}) \\approx \\frac{1}{\\delta x}\\left(-\\frac{3}{2}f_{j} + 2f_{j+1} - \\frac{1}{2}f_{j+2} \\right)\n",
    "$$\n",
    "\n",
    "**Problem 3**: Using Taylor series arguments, find an estimate of the error in your derivative approximation.  Note, for $f_{j+2}$ you'll need to use\n",
    "\n",
    "$$\n",
    "f_{j+2} = f(x_{j}+2\\delta x) = f_{j} + f'(x_{j})(2\\delta x) + \\frac{1}{2}f''(x_{j})\\left(2\\delta x \\right)^{2} + \\mathcal{O}((\\delta x)^{3})\n",
    "$$\n",
    "\n",
    "**Problem 4**: Using the example $f(x)=\\sin(x)$ on $x\\in[0,1]$, implement your derivative approximation and show that your error estimate is correct.  Use the code from Lecture 8 to help get you started.  "
   ]
  },
  {
   "cell_type": "code",
   "execution_count": null,
   "id": "9aefd818",
   "metadata": {},
   "outputs": [],
   "source": []
  }
 ],
 "metadata": {
  "kernelspec": {
   "display_name": "Python 3 (ipykernel)",
   "language": "python",
   "name": "python3"
  },
  "language_info": {
   "codemirror_mode": {
    "name": "ipython",
    "version": 3
   },
   "file_extension": ".py",
   "mimetype": "text/x-python",
   "name": "python",
   "nbconvert_exporter": "python",
   "pygments_lexer": "ipython3",
   "version": "3.9.7"
  }
 },
 "nbformat": 4,
 "nbformat_minor": 5
}
