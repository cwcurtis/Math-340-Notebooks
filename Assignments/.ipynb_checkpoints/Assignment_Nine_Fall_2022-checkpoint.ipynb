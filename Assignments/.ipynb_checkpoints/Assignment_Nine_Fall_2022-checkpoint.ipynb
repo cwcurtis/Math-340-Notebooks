{
 "cells": [
  {
   "cell_type": "code",
   "execution_count": 86,
   "metadata": {
    "collapsed": true
   },
   "outputs": [],
   "source": [
    "import numpy as np\n",
    "import matplotlib.pyplot as plt\n",
    "%matplotlib inline"
   ]
  },
  {
   "cell_type": "markdown",
   "metadata": {},
   "source": [
    "**Problem 3**: 10 pts - Write a program (see the Lecture 7 notes for help) which takes in a number and converts it into its base\n",
    "“b” expansion for up to base 16 (6 pts). In other words, if I give you some\n",
    "number, say x, find the expansion\n",
    "$$\n",
    "x = \\mbox{sgn}(x)\\sum_{j=−m}^{n} t_j b^j, ~0 ≤ t_j ≤ b − 1.\n",
    "$$\n",
    "\n",
    "Briefly explain your reasoning behind you code. (2 pts) \n",
    "\n",
    "Compare the representations of .1 in base 3, 8, and 16. Comment on any interesting patterns that you observe. (2 pts) \n",
    "\n",
    "Note, for bases 11-16, follow hexadecimal conventions, which means instead of using numbers above 9, you use letters in the following fashion:\n",
    "\\begin{array}{ccc}\n",
    "10 & = & A\\\\\n",
    "11 & = & B\\\\\n",
    "12 & = & C\\\\\n",
    "13 & = & D\\\\\n",
    "14 & = & E\\\\\n",
    "15 & = & F\n",
    "\\end{array}"
   ]
  },
  {
   "cell_type": "code",
   "execution_count": 87,
   "metadata": {
    "collapsed": true
   },
   "outputs": [],
   "source": [
    "def integer_conv(d,b):\n",
    "    # d is the value you are trying to convert with respect to base b.\n",
    "    bcars = ['0','1','2','3','4','5','6','7','8','9','A','B','C','D','E','F']\n",
    "    bstr = '' # Define a string with an empty character.\n",
    "    while d>0:\n",
    "        b0 = \n",
    "        bstr+=\n",
    "        d = \n",
    "    return bstr[::-1]"
   ]
  },
  {
   "cell_type": "code",
   "execution_count": 120,
   "metadata": {
    "collapsed": true
   },
   "outputs": [],
   "source": [
    "def decimal_conv(r,b):\n",
    "    # r is the value you are trying to convert with respect to base b.\n",
    "    bcars = ['0','1','2','3','4','5','6','7','8','9','A','B','C','D','E','F']\n",
    "    bstr = ''\n",
    "    rorig = r\n",
    "    cnt = 1\n",
    "    while rorig > 1e-16:\n",
    "        b0 = \n",
    "        bstr+=\n",
    "        r = \n",
    "        rorig += \n",
    "        cnt += 1\n",
    "    return bstr"
   ]
  },
  {
   "cell_type": "code",
   "execution_count": 121,
   "metadata": {
    "collapsed": true
   },
   "outputs": [],
   "source": [
    "def base_conv(x,b):\n",
    "    dval = np.floor(x) # The integer part of x\n",
    "    rval = x-dval # The decimal part of x\n",
    "    if dval>0:\n",
    "        int_str = integer_conv(dval,b)\n",
    "    else:\n",
    "        int_str=''\n",
    "    if rval>0:    \n",
    "        dec_str = decimal_conv(rval,b)\n",
    "    else:\n",
    "        dec_str = ''\n",
    "    return int_str+'.'+dec_str # Join the two strings corresponding to the integer and decimal part of your number.  "
   ]
  }
 ],
 "metadata": {
  "kernelspec": {
   "display_name": "Python 3 (ipykernel)",
   "language": "python",
   "name": "python3"
  },
  "language_info": {
   "codemirror_mode": {
    "name": "ipython",
    "version": 3
   },
   "file_extension": ".py",
   "mimetype": "text/x-python",
   "name": "python",
   "nbconvert_exporter": "python",
   "pygments_lexer": "ipython3",
   "version": "3.9.7"
  }
 },
 "nbformat": 4,
 "nbformat_minor": 2
}
