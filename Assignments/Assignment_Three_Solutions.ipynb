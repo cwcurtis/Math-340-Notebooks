{
 "cells": [
  {
   "cell_type": "code",
   "execution_count": 7,
   "id": "60e312dc",
   "metadata": {},
   "outputs": [],
   "source": [
    "import numpy as np\n",
    "import matplotlib.pyplot as plt\n",
    "import scipy.integrate as spqd\n",
    "%matplotlib inline"
   ]
  },
  {
   "cell_type": "markdown",
   "id": "55c92d37",
   "metadata": {},
   "source": [
    "## Functions and Derivatives"
   ]
  },
  {
   "cell_type": "code",
   "execution_count": 25,
   "id": "020420a6",
   "metadata": {},
   "outputs": [],
   "source": [
    "f0 = lambda x: np.sin(np.cos(x))\n",
    "f1 = lambda x: -np.sin(x)*np.cos(np.cos(x))\n",
    "f2 = lambda x: -(np.sin(x))**2. * f0(x) - np.cos(x) * np.cos(np.cos(x)) \n",
    "f3 = lambda x: np.sin(x) * ( ((np.sin(x))**2. + 1)*np.cos(np.cos(x)) - 3.*np.cos(x)*np.sin(np.cos(x)) )\n",
    "f4 = lambda x: -3.*(np.cos(x))**2.*np.sin(np.cos(x)) + (6.*(np.sin(x))**2. + 1.)*np.cos(np.cos(x))*np.cos(x) + (np.sin(x))**2. *(np.sin(x)**2.+4)*np.sin(np.cos(x))"
   ]
  },
  {
   "cell_type": "markdown",
   "id": "8d336237",
   "metadata": {},
   "source": [
    "## Taylor Series Expansions"
   ]
  },
  {
   "cell_type": "code",
   "execution_count": 27,
   "id": "87871c12",
   "metadata": {},
   "outputs": [],
   "source": [
    "T2 = lambda x, x0: f0(x0) + f1(x0)*(x-x0) + f2(x0)*(x-x0)**2./2.\n",
    "T3 = lambda x, x0: T2(x, x0) + f3(x0)*(x-x0)**3./6.\n",
    "T4 = lambda x, x0: T3(x, x0) + f4(x0)*(x-x0)**4./24. "
   ]
  },
  {
   "cell_type": "markdown",
   "id": "1dfa7202",
   "metadata": {},
   "source": [
    "## Integrals of Taylor Expansions"
   ]
  },
  {
   "cell_type": "code",
   "execution_count": 28,
   "id": "e7af5d10",
   "metadata": {},
   "outputs": [],
   "source": [
    "IT2 = lambda x0, a, b: f0(x0)*(b-a) + f1(x0)/2.*( (b-x0)**2. - (a-x0)**2. ) + f2(x0)/6.*( (b-x0)**3. - (a-x0)**3. )\n",
    "IT3 = lambda x0, a, b: IT2(x0, a, b) + f3(x0)/24.*( (b-x0)**4. - (a-x0)**4. )\n",
    "IT4 = lambda x0, a, b: IT3(x0, a, b) + f4(x0)/120.*( (b-x0)**5. - (a-x0)**5. )"
   ]
  },
  {
   "cell_type": "markdown",
   "id": "10011a4a",
   "metadata": {},
   "source": [
    "**Problem 1**: For the integral \n",
    "\n",
    "$$\n",
    "I = \\int_{0}^{\\pi/2}\\sin(\\cos(x)) dx\n",
    "$$\n",
    "\n",
    "<ol>\n",
    "    <li> (1pt) Using `spqd' as in the notes, find a very accurate approximation to $I$.\n",
    "    <li> (3pts) Using the second order Taylor series approximation $T_{2}(x;0)$, find an approximation to $I$.\n",
    "    <li> (3pts) Using the fourth order Taylor series approximation $T_{4}(x;0)$, find an approximation to $I$.\n",
    "    <li> (3pts) Separating the interval of integration in half, use $T_{2}(x;0)$ and $T_{2}(x;\\pi/4)$ to approximate $I$.\n",
    "</ol>\n",
    "\n",
    "Show all relevant computations and results as well as the code you use to compute everything.  Finally, comment on and compare your results (4pts).  Which was the most accurate Taylor series approximation and why?  Support your argument with plots of the various approximations (4pts) (see the notes for help).  "
   ]
  },
  {
   "cell_type": "markdown",
   "id": "b3685ce0",
   "metadata": {},
   "source": [
    "_Answer to Problem 1.1_: So for the 'true' answer, we have:"
   ]
  },
  {
   "cell_type": "code",
   "execution_count": 29,
   "id": "7a83d4b3",
   "metadata": {},
   "outputs": [
    {
     "name": "stdout",
     "output_type": "stream",
     "text": [
      "The integral is given by I=0.893243740975026\n"
     ]
    }
   ],
   "source": [
    "Ival = spqd.quad(f0, 0., np.pi/2.)\n",
    "print(\"The integral is given by I=%1.15f\" %Ival[0])"
   ]
  },
  {
   "cell_type": "markdown",
   "id": "5fb4a29d",
   "metadata": {},
   "source": [
    "_Answer to Problem 1.2_: Using our code from above, we see that "
   ]
  },
  {
   "cell_type": "code",
   "execution_count": 35,
   "id": "3904ed23",
   "metadata": {},
   "outputs": [
    {
     "name": "stdout",
     "output_type": "stream",
     "text": [
      "The second order approximation starting at 0 is I_a=0.972763640650071\n",
      "The absolute error in this approximation is E=7.95e-02\n"
     ]
    }
   ],
   "source": [
    "Ivaprx1 = IT2(0., 0., np.pi/2.)\n",
    "print(\"The second order approximation starting at 0 is I_a=%1.15f\" %Ivaprx1)\n",
    "print(\"The absolute error in this approximation is E=%1.2e\" %np.abs(Ival[0]-Ivaprx1))"
   ]
  },
  {
   "cell_type": "markdown",
   "id": "4cdd9616",
   "metadata": {},
   "source": [
    "It's straightforward to show that \n",
    "\n",
    "$$\n",
    "T_{2}(x;0) = \\sin(1) - \\frac{1}{2}\\cos(1)x^{2}\n",
    "$$\n",
    "\n",
    "so that \n",
    "\n",
    "$$\n",
    "I \\approx \\int_{0}^{\\pi/2}T_{2}(x;0)dx = \\sin(1)\\frac{\\pi}{2} - \\frac{1}{6}\\cos(1)\\left(\\frac{\\pi}{2}\\right)^{3}\n",
    "$$\n",
    "\n",
    "Using this, we see that this gives us the result:"
   ]
  },
  {
   "cell_type": "code",
   "execution_count": 32,
   "id": "acdb9292",
   "metadata": {},
   "outputs": [
    {
     "name": "stdout",
     "output_type": "stream",
     "text": [
      "0.9727636406500714\n"
     ]
    }
   ],
   "source": [
    "print(np.sin(1.)*np.pi/2. - np.cos(1.)/6.*(np.pi/2.)**3.)"
   ]
  },
  {
   "cell_type": "markdown",
   "id": "1c5faebc",
   "metadata": {},
   "source": [
    "So now we have some real confidence that we're doing the right thing with our lambda functions from above.  Also the approximation is pretty mediocre, being only within about 10%."
   ]
  },
  {
   "cell_type": "markdown",
   "id": "18678a01",
   "metadata": {},
   "source": [
    "_Answer to Problem 1.3_: Using our lambda functions from above, we get that"
   ]
  },
  {
   "cell_type": "code",
   "execution_count": 38,
   "id": "dd0bb4e5",
   "metadata": {},
   "outputs": [
    {
     "name": "stdout",
     "output_type": "stream",
     "text": [
      "The fourth order approximation starting at 0 is I_a=0.814644652303694\n",
      "The absolute error in this approximation is E=7.86e-02\n"
     ]
    }
   ],
   "source": [
    "Ivaprx2 = IT4(0., 0., np.pi/2.)\n",
    "print(\"The fourth order approximation starting at 0 is I_a=%1.15f\" %Ivaprx2)\n",
    "print(\"The absolute error in this approximation is E=%1.2e\" %np.abs(Ival[0]-Ivaprx2))"
   ]
  },
  {
   "cell_type": "markdown",
   "id": "0cac2c93",
   "metadata": {},
   "source": [
    "So taking a higher order approximation to our function did not produce a better result.  "
   ]
  },
  {
   "cell_type": "markdown",
   "id": "c79a8f46",
   "metadata": {},
   "source": [
    "_Answer to Problem 1.4_"
   ]
  },
  {
   "cell_type": "code",
   "execution_count": 53,
   "id": "3f875717",
   "metadata": {},
   "outputs": [
    {
     "name": "stdout",
     "output_type": "stream",
     "text": [
      "The split interval approximation is I_a=0.892050739089772\n",
      "The absolute error in this approximation is E=1.19e-03\n"
     ]
    }
   ],
   "source": [
    "Ivaprx3 = IT2(0., 0., np.pi/4.)\n",
    "Ivaprx4 = IT2(np.pi/4., np.pi/4., np.pi/2.)\n",
    "Ivaprxtot = Ivaprx3 + Ivaprx4\n",
    "print(\"The split interval approximation is I_a=%1.15f\" %Ivaprxtot)\n",
    "print(\"The absolute error in this approximation is E=%1.2e\" %np.abs(Ival[0]-Ivaprxtot))"
   ]
  },
  {
   "cell_type": "markdown",
   "id": "f24a872f",
   "metadata": {},
   "source": [
    "So we see that splitting the interval in half and then using second order approximations lowers the error by over a factor of ten.  So that's nice."
   ]
  },
  {
   "cell_type": "markdown",
   "id": "0d039e1c",
   "metadata": {},
   "source": [
    "Again, checking ourselves, we find that \n",
    "\n",
    "$$\n",
    "T_{2}(x;\\pi/4) = \\sin\\left(\\frac{1}{\\sqrt{2}}\\right) -\\frac{1}{\\sqrt{2}}\\cos\\left(\\frac{1}{\\sqrt{2}}\\right)\\left(x-\\frac{\\pi}{4}\\right) - \\frac{1}{2}\\left(\\frac{1}{2}\\sin\\left(\\frac{1}{\\sqrt{2}}\\right) + \\frac{1}{\\sqrt{2}}\\cos\\left(\\frac{1}{\\sqrt{2}}\\right) \\right)\\left(x-\\frac{\\pi}{4}\\right)^{2}.\n",
    "$$\n",
    "\n",
    "Checking our work then, we find:"
   ]
  },
  {
   "cell_type": "code",
   "execution_count": 71,
   "id": "bfe28da2",
   "metadata": {},
   "outputs": [
    {
     "name": "stdout",
     "output_type": "stream",
     "text": [
      "Checking our work, we find that: 0.892050739089772\n"
     ]
    }
   ],
   "source": [
    "ssq = np.sin(1./np.sqrt(2.))\n",
    "csq = np.cos(1./np.sqrt(2.))\n",
    "Iexpt1 = np.sin(1.)*np.pi/4. - np.cos(1.)/6.*(np.pi/4.)**3.\n",
    "Iexpt2 = ssq*np.pi/4. - csq/(2.*np.sqrt(2.))*(np.pi/4.)**2. - (.5*ssq+csq/np.sqrt(2.))/6.*(np.pi/4.)**3.\n",
    "print(\"Checking our work, we find that: %1.15f\" %(Iexpt1+Iexpt2))"
   ]
  },
  {
   "cell_type": "markdown",
   "id": "62d5cc2e",
   "metadata": {},
   "source": [
    "So again, we find that our lambda functions and more explicit computations get us the same result.  "
   ]
  },
  {
   "cell_type": "markdown",
   "id": "fbf135c9",
   "metadata": {},
   "source": [
    "_Discussion and Plots for Problem 1_"
   ]
  },
  {
   "cell_type": "code",
   "execution_count": 66,
   "id": "4c00f5ec",
   "metadata": {},
   "outputs": [
    {
     "data": {
      "image/png": "[encoded data removed]",
      "text/plain": [
       "<Figure size 1152x576 with 1 Axes>"
      ]
     },
     "metadata": {
      "needs_background": "light"
     },
     "output_type": "display_data"
    }
   ],
   "source": [
    "xvals = np.linspace(0.,np.pi/2.,int(1e3))\n",
    "xvalshlf = np.linspace(0.,np.pi/4.,int(1e3))\n",
    "xvalsothlf = np.linspace(np.pi/4.,np.pi/2.,int(1e3))\n",
    "plt.plot(xvals,f0(xvals),color='k',ls='-',label=\"$f(x)$\")\n",
    "plt.plot(xvals,T2(xvals,0.),color='r',ls='--',label=\"$T_{2}(x;0)$\")\n",
    "plt.plot(xvals,T4(xvals,0.),color='b',ls='-.',label=\"$T_{4}(x;0)$\")\n",
    "plt.plot(xvalshlf,T2(xvalshlf,0.),color='g',ls='--',label=\"$T_{2}(x;0)$\")\n",
    "plt.plot(xvalsothlf,T2(xvalsothlf,np.pi/4.),color='g',ls='--',label=r\"$T_{2}(x;\\pi/4)$\")\n",
    "plt.legend()\n",
    "plt.xlabel('x')\n",
    "fig=plt.gcf() # get current figure\n",
    "fig.set_size_inches(16,8) # optional size"
   ]
  },
  {
   "cell_type": "markdown",
   "id": "78a3a481",
   "metadata": {},
   "source": [
    "So we see several interesting features here.  While $T_{4}(x;0)$ is a better approximation for longer than $T_{2}(x;0)$, it turns out $\\pi/2$ is too far for either to ensure that we get good approximations.  "
   ]
  },
  {
   "cell_type": "markdown",
   "id": "fbeb778c",
   "metadata": {},
   "source": [
    "**Problem 2**: For the integral \n",
    "\n",
    "$$\n",
    "I = \\int_{0}^{\\pi/2}\\sin(\\cos(x)) dx\n",
    "$$\n",
    "\n",
    "we will now generate approximations using midpoints of intervals.  \n",
    "\n",
    "<ol>\n",
    "    <li> (3pts) Using the second order Taylor series approximation $T_{2}(x;\\pi/4)$, find an approximation to $I$.\n",
    "    <li> (3pts) Using the third order Taylor series approximation $T_{3}(x;\\pi/4)$, find an approximation to $I$.\n",
    "    <li> (3pts) Separating the interval of integration in half, use $T_{2}(x;\\pi/8)$ and $T_{2}(x;3\\pi/8)$ to approximate $I$.\n",
    "</ol>\n",
    "\n",
    "Show all relevant computations and results as well as the code you use to compute everything.  Finally, comment on and compare your results (4pts).  Which was the most accurate Taylor series approximation and why?  Support your argument with plots of the various approximations (4pts) (see the notes for help).  "
   ]
  },
  {
   "cell_type": "markdown",
   "id": "30e505dd",
   "metadata": {},
   "source": [
    "_Answer to Problem 2.1_"
   ]
  },
  {
   "cell_type": "code",
   "execution_count": 55,
   "id": "bbed00e5",
   "metadata": {},
   "outputs": [
    {
     "name": "stdout",
     "output_type": "stream",
     "text": [
      "The second order approximation around the midpoint of the interval gives I_a=0.881178656580230\n",
      "The absolute error in this approximation is E=1.21e-02\n"
     ]
    }
   ],
   "source": [
    "Ivaprx5 = IT2(np.pi/4., 0., np.pi/2.)\n",
    "print(\"The second order approximation around the midpoint of the interval gives I_a=%1.15f\" %Ivaprx5)\n",
    "print(\"The absolute error in this approximation is E=%1.2e\" %np.abs(Ival[0]-Ivaprx5))"
   ]
  },
  {
   "cell_type": "markdown",
   "id": "6d4bf427",
   "metadata": {},
   "source": [
    "_Answer to Problem 2.2_"
   ]
  },
  {
   "cell_type": "code",
   "execution_count": 56,
   "id": "f1b3412b",
   "metadata": {},
   "outputs": [
    {
     "name": "stdout",
     "output_type": "stream",
     "text": [
      "The third order approximation around the midpoint of the interval gives I_a=0.881178656580230\n",
      "The absolute error in this approximation is E=1.21e-02\n"
     ]
    }
   ],
   "source": [
    "Ivaprx6 = IT3(np.pi/4., 0., np.pi/2.)\n",
    "print(\"The third order approximation around the midpoint of the interval gives I_a=%1.15f\" %Ivaprx6)\n",
    "print(\"The absolute error in this approximation is E=%1.2e\" %np.abs(Ival[0]-Ivaprx6))"
   ]
  },
  {
   "cell_type": "markdown",
   "id": "9a285d94",
   "metadata": {},
   "source": [
    "_Answer to Problem 2.3_"
   ]
  },
  {
   "cell_type": "code",
   "execution_count": 57,
   "id": "4b471f38",
   "metadata": {},
   "outputs": [
    {
     "name": "stdout",
     "output_type": "stream",
     "text": [
      "The split interval approximation is I_a=0.892781871122244\n",
      "The absolute error in this approximation is E=4.62e-04\n"
     ]
    }
   ],
   "source": [
    "Ivaprx7 = IT2(np.pi/8., 0., np.pi/4.)\n",
    "Ivaprx8 = IT2(3.*np.pi/8., np.pi/4., np.pi/2.)\n",
    "Ivaprxtot2 = Ivaprx7 + Ivaprx8\n",
    "print(\"The split interval approximation is I_a=%1.15f\" %Ivaprxtot2)\n",
    "print(\"The absolute error in this approximation is E=%1.2e\" %np.abs(Ival[0]-Ivaprxtot2))"
   ]
  },
  {
   "cell_type": "markdown",
   "id": "cc0dace6",
   "metadata": {},
   "source": [
    "_Discussion and Plots for Problem 2_"
   ]
  },
  {
   "cell_type": "code",
   "execution_count": 67,
   "id": "552a6280",
   "metadata": {},
   "outputs": [
    {
     "data": {
      "image/png": "[encoded data removed]",
      "text/plain": [
       "<Figure size 1152x576 with 1 Axes>"
      ]
     },
     "metadata": {
      "needs_background": "light"
     },
     "output_type": "display_data"
    }
   ],
   "source": [
    "plt.plot(xvals,f0(xvals),color='k',ls='-',label=\"$f(x)$\")\n",
    "plt.plot(xvals,T2(xvals,np.pi/4.),color='r',ls='--',label=r\"$T_{2}(x;\\pi/4)$\")\n",
    "plt.plot(xvals,T3(xvals,np.pi/4.),color='b',ls='-.',label=r\"$T_{3}(x;\\pi/4)$\")\n",
    "plt.plot(xvalshlf,T2(xvalshlf,np.pi/8.),color='g',ls='--',label=r\"$T_{2}(x;\\pi/8)$\")\n",
    "plt.plot(xvalsothlf,T2(xvalsothlf,3.*np.pi/8.),color='g',ls='--',label=r\"$T_{2}(x;3\\pi/8)$\")\n",
    "plt.legend()\n",
    "plt.xlabel('x')\n",
    "fig=plt.gcf() # get current figure\n",
    "fig.set_size_inches(16,8) # optional size"
   ]
  },
  {
   "cell_type": "markdown",
   "id": "799b9287",
   "metadata": {},
   "source": [
    "So by recentering our approximations, we get at least a power of ten improvement in our approximations.  By dividing our interval down in half, we get two powers of ten improvement in our approximation.  Thus overall, we see that using well placed, relatively low order approximations over reasonably small intervals is best in contrast to using higher-order approximations over longer intervals.  But again, placement seems to be more important than anything.  "
   ]
  },
  {
   "cell_type": "code",
   "execution_count": null,
   "id": "39ead71e",
   "metadata": {},
   "outputs": [],
   "source": []
  }
 ],
 "metadata": {
  "kernelspec": {
   "display_name": "Python 3 (ipykernel)",
   "language": "python",
   "name": "python3"
  },
  "language_info": {
   "codemirror_mode": {
    "name": "ipython",
    "version": 3
   },
   "file_extension": ".py",
   "mimetype": "text/x-python",
   "name": "python",
   "nbconvert_exporter": "python",
   "pygments_lexer": "ipython3",
   "version": "3.9.13"
  }
 },
 "nbformat": 4,
 "nbformat_minor": 5
}
