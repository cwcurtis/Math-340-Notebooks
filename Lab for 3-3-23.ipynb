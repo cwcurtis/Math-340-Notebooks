{
 "cells": [
  {
   "cell_type": "code",
   "execution_count": 1,
   "id": "8574051e",
   "metadata": {},
   "outputs": [],
   "source": [
    "import numpy as np"
   ]
  },
  {
   "cell_type": "markdown",
   "id": "1ca95147",
   "metadata": {},
   "source": [
    "**Problem 1**: Following this week's lecture, suppose I give you a natural number in base-3, so that \n",
    "$$\n",
    "x = \\sum_{j=0}^{N}t_{j}3^{j}, ~ t_{j} = 0, 1, 2.\n",
    "$$\n",
    "Write a program which takes in $x$ and returns its base-3 representation.  Test it and show that you program is working correctly.  "
   ]
  },
  {
   "cell_type": "markdown",
   "id": "5aacdb1c",
   "metadata": {},
   "source": [
    "**Problem 2**: Now suppose I give you a decimal, so that $0\\leq x<1$ and so that it has the base-3 representation \n",
    "$$\n",
    "x = \\sum_{j=-\\infty}^{-1}t_{j}3^{j}, ~ t_{j} = 0, 1, 2.\n",
    "$$\n",
    "Write a program which takes in $x$ and returns its base-3 representation.  Think of some examples to test your program.  Think carefully about your stopping criteria.  How small of a number can you accurately represent?  "
   ]
  },
  {
   "cell_type": "code",
   "execution_count": null,
   "id": "3f3073cd",
   "metadata": {},
   "outputs": [],
   "source": []
  }
 ],
 "metadata": {
  "kernelspec": {
   "display_name": "Python 3 (ipykernel)",
   "language": "python",
   "name": "python3"
  },
  "language_info": {
   "codemirror_mode": {
    "name": "ipython",
    "version": 3
   },
   "file_extension": ".py",
   "mimetype": "text/x-python",
   "name": "python",
   "nbconvert_exporter": "python",
   "pygments_lexer": "ipython3",
   "version": "3.9.13"
  }
 },
 "nbformat": 4,
 "nbformat_minor": 5
}
