{
 "cells": [
  {
   "cell_type": "code",
   "execution_count": 8,
   "id": "eb76c3ef",
   "metadata": {},
   "outputs": [],
   "source": [
    "import numpy as np\n",
    "import matplotlib.pyplot as plt\n",
    "import scipy.integrate as spqd\n",
    "\n",
    "%matplotlib inline"
   ]
  },
  {
   "cell_type": "code",
   "execution_count": 9,
   "id": "f41f6020",
   "metadata": {},
   "outputs": [],
   "source": [
    "def adap_quad_comp(f,a,b,c,fa,fb,fc,Aab,tol):    \n",
    "    d = (a+c)/2.\n",
    "    e = (b+c)/2.\n",
    "    fd = f(d)\n",
    "    fe = f(e)\n",
    "    dx3 = (d-a)/3.\n",
    "    Aac = dx3*(fa+4.*fd+fc)\n",
    "    Acb = dx3*(fc+4.*fe+fb)\n",
    "    if np.abs(Aab-(Aac+Acb))<=tol: \n",
    "        return (16./15.*(Aac+Acb)-Aab/15.)\n",
    "    else:  \n",
    "        F1 = adap_quad_comp(f,a,c,d,fa,fc,fd,Aac,tol)\n",
    "        F2 = adap_quad_comp(f,c,b,e,fc,fb,fe,Acb,tol)\n",
    "        return F1 + F2\n",
    "    \n",
    "def adap_quad(f,a,b,tol):\n",
    "    c = (a+b)/2.\n",
    "    fa = f(a)\n",
    "    fb = f(b)\n",
    "    fc = f(c)\n",
    "    dx3 = (c-a)/3.\n",
    "    Aab = dx3*(fa+4.*fc+fb)\n",
    "    ival = adap_quad_comp(f,a,b,c,fa,fb,fc,Aab,tol)    \n",
    "    return ival"
   ]
  },
  {
   "cell_type": "markdown",
   "id": "814da231",
   "metadata": {},
   "source": [
    "**Problem 1** (13 pts): Suppose for the integral $T_{[a,b]}(f) = \\int_{a}^{b}f(x)dx$, we approximate it with the _midpoint method_, which for mesh $\\left\\{x_{j}\\right\\}_{j=0}^{N}$ where \n",
    "\n",
    "$$\n",
    "x_{j} = a + j\\delta x, ~ \\delta x = \\frac{b-a}{N},\n",
    "$$\n",
    "\n",
    "is given by \n",
    "\n",
    "$$\n",
    "A_{[a,b]}(f) = \\delta x \\sum_{j=0}^{N-1}f\\left(x_{j+1/2}\\right), ~ \\text{where}~ x_{j+1/2}=\\frac{1}{2}(x_{j}+x_{j+1}) = x_{j} + \\frac{\\delta x}{2} = x_{j+1} - \\frac{\\delta x}{2}.\n",
    "$$\n",
    "\n",
    "* (5pts) Prove using Taylor-series based methods that the local error is $\\mathcal{O}(\\delta x^{3})$.  **Hint**, you'll need to introduce $T_{1}(x;x_{j+1/2}$ where\n",
    "\n",
    "$$\n",
    "T_{1}(x;x_{j+1/2}) = f(x_{j+1/2}) + f'(x_{j+1/2})(x-x_{j+1/2}).\n",
    "$$\n",
    "\n",
    "* (3pts) Prove that the global error is $\\mathcal{O}(\\delta x^{2})$\n",
    "* (5pts) Choose a test function and provide numerical experiments which confirm that the theoretical global error is $\\mathcal{O}(\\delta x^{2})$."
   ]
  },
  {
   "cell_type": "markdown",
   "id": "c8058b33",
   "metadata": {},
   "source": [
    "**Problem 2** (10 pts): Given that $\\cos(x)$ has the Maclaurin series\n",
    "\n",
    "$$\n",
    "\\cos(x) = \\sum_{m=0}^{\\infty}\\frac{(-1)^{m}x^{2m}}{(2m)!}\n",
    "$$\n",
    "\n",
    "for the function below, what causes the while loop to terminate (2 pts)?  For $x = \\pi, ~5\\pi, ~ 10\\pi, ~ 15\\pi$, \n",
    "\n",
    "* How accurate is the computed result? (2 pts)\n",
    "* How many terms are required? (2 pts)\n",
    "* What is the largest term in the series? (2 pts)  \n",
    "\n",
    "What do you conclude about the use of floating-point arithmetic and power series to evaluate functions?  (2 pts)"
   ]
  },
  {
   "cell_type": "code",
   "execution_count": 3,
   "id": "314c5a09",
   "metadata": {},
   "outputs": [],
   "source": [
    "def pcos(x):\n",
    "    s = 1.\n",
    "    t = 1.\n",
    "    n = 2\n",
    "    x2 = -x**2.\n",
    "    while s+t != s:\n",
    "        t *= x2/(n*(n-1.))\n",
    "        s += t\n",
    "        n += 2\n",
    "    return s"
   ]
  },
  {
   "cell_type": "markdown",
   "id": "816d8de5",
   "metadata": {},
   "source": [
    "**Problem 3**: (7 pts) Use the adaptive quadrature algorithm to evaluate \n",
    "\n",
    "$$\n",
    "\\int_{-3}^{4} \\frac{dt}{\\sqrt{|\\sin\\left(|t|\\right)|}}.\n",
    "$$\n",
    "\n",
    "State how you arrive at your result i.e. what tolerances do you choose and what degree of accuracy can you argue that they provide you? (5pts)  Why do you not encounter divide-by-zero difficulties at $t=0$? (2pts)\n",
    "\n",
    "As an aside, if we want a good reference value to compare against, we need to break the integral up around its singularities so that \n",
    "\n",
    "$$\n",
    "    \\int_{-3}^{4} \\frac{dt}{\\sqrt{|\\sin\\left(|t|\\right)|}} = 2.*\\lim_{\\epsilon\\rightarrow 0^{+}}\\int_{\\epsilon}^{3}\\frac{dt}{\\sqrt{|\\sin\\left(t\\right)|}} + \\lim_{\\epsilon\\rightarrow 0^{+}}\\int_{3}^{\\pi - \\epsilon}\\frac{dt}{\\sqrt{|\\sin\\left(t\\right)|}} + \\lim_{\\epsilon\\rightarrow 0^{+}}\\int_{\\pi + \\epsilon}^{4}\\frac{dt}{\\sqrt{|\\sin\\left(t\\right)|}}.\n",
    "$$\n",
    "\n",
    "So this motivates defining the function"
   ]
  },
  {
   "cell_type": "code",
   "execution_count": 14,
   "id": "077d3e3c",
   "metadata": {},
   "outputs": [],
   "source": [
    "fun = lambda t: 1./np.sqrt(np.abs(np.sin(t)))\n",
    "int_true = lambda ep: (2.*spqd.quad(fun, ep, 3.)[0] + spqd.quad(fun,3.,np.pi-ep)[0] + spqd.quad(fun,np.pi+ep,4.)[0])"
   ]
  },
  {
   "cell_type": "markdown",
   "id": "2c50926c",
   "metadata": {},
   "source": [
    "If we then search over a range of different values of $\\epsilon$, we can avoid any singularities and find a reasonable approximation to which the above integral should converge.  "
   ]
  },
  {
   "cell_type": "code",
   "execution_count": 24,
   "id": "cd4bfb44",
   "metadata": {},
   "outputs": [
    {
     "name": "stdout",
     "output_type": "stream",
     "text": [
      "Best Estimate of Integral to Use for the Rest of This Problem: 11.61189384365786\n"
     ]
    },
    {
     "data": {
      "image/png": "[encoded data removed]",
      "text/plain": [
       "<Figure size 640x480 with 1 Axes>"
      ]
     },
     "metadata": {},
     "output_type": "display_data"
    }
   ],
   "source": [
    "pows = np.arange(1,16)\n",
    "epvals = 10.**(-pows)\n",
    "ivals = np.zeros(epvals.size)\n",
    "for jj in range(epvals.size):\n",
    "    ivals[jj] = int_true(epvals[jj])\n",
    "plt.plot(pows, ivals)\n",
    "plt.xlabel(r\"$-\\log_{10}\\epsilon$\")\n",
    "plt.ylabel(r\"Approximation to Integral\")\n",
    "true_integral = int_true(epvals[-1])\n",
    "print(\"Best Estimate of Integral to Use for the Rest of This Problem: %2.14f\" %true_integral)"
   ]
  },
  {
   "cell_type": "markdown",
   "id": "4696695e",
   "metadata": {},
   "source": [
    "So as we see, by decreasing $epsilon$ from $10^{-1}$ to $10^{-16}$, our result clearly converges to $11.61189384365786$."
   ]
  },
  {
   "cell_type": "markdown",
   "id": "7b57a057",
   "metadata": {},
   "source": [
    "**Problem 4**: 10 pts - For the function\n",
    "\n",
    "$$\n",
    "f(x) = \\frac{\\cos(x^{2})}{1+\\sin^{2}(x^{2})}, ~ 0 \\leq x \\leq 2\\pi\n",
    "$$\n",
    "\n",
    "a) (2pts) Using an equispaced set of $10$ nodes, generate the Lagrange interpolating polynomial to $f(x)$.  Generate a plot which shows how the error in your approximation varies over the interval.  \n",
    "\n",
    "b) (2pts) Using an equispaced set of $20$ nodes, generate the Lagrange interpolating polynomial to $f(x)$.  Generate a plot which shows how the error in your approximation varies over the interval.  \n",
    "\n",
    "c) (2pts) At what number of equispaced nodes does your Lagrange interpolation approximation break down?  \n",
    "\n",
    "d) (4pts) Does using Chebyshev points help resolve the issues you saw in c) ?  Provide examples to verify your claim."
   ]
  },
  {
   "cell_type": "code",
   "execution_count": null,
   "id": "169ddce5",
   "metadata": {},
   "outputs": [],
   "source": []
  }
 ],
 "metadata": {
  "kernelspec": {
   "display_name": "Python 3 (ipykernel)",
   "language": "python",
   "name": "python3"
  },
  "language_info": {
   "codemirror_mode": {
    "name": "ipython",
    "version": 3
   },
   "file_extension": ".py",
   "mimetype": "text/x-python",
   "name": "python",
   "nbconvert_exporter": "python",
   "pygments_lexer": "ipython3",
   "version": "3.9.13"
  }
 },
 "nbformat": 4,
 "nbformat_minor": 5
}
