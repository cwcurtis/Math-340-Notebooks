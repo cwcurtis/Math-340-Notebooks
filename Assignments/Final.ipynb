{
 "cells": [
  {
   "cell_type": "code",
   "execution_count": null,
   "id": "197ad7b5",
   "metadata": {},
   "outputs": [],
   "source": [
    "import numpy as np\n",
    "import matplotlib.pyplot as plt\n",
    "from scipy.sparse import spdiags\n",
    "from scipy.sparse.linalg import spsolve\n",
    "from scipy.sparse.linalg import eigsh\n",
    "from scipy.sparse import identity as sid\n",
    "%matplotlib inline"
   ]
  },
  {
   "cell_type": "code",
   "execution_count": null,
   "id": "cf783442",
   "metadata": {},
   "outputs": [],
   "source": [
    "def trap_method(a,b,yvals):\n",
    "    Nm1 = yvals.size    \n",
    "    return (b-a)/(Nm1) * np.sum(yvals)"
   ]
  },
  {
   "cell_type": "markdown",
   "id": "4c7f5399",
   "metadata": {},
   "source": [
    "**Problem 1**: (20pts) In quantum mechanics, it is really common to see boundary value problems of the form \n",
    "\n",
    "$$\n",
    "-\\epsilon\\frac{d^{2}y}{dx^2} + \\cos(\\pi x)y = Ey, ~ y(-1) = y(1).\n",
    "$$\n",
    "\n",
    "where $0\\leq \\epsilon \\ll 1$, i.e. we let $\\epsilon$ be a small positive parameter.  $E\\geq 0$ is the _energy_ of a particle trapped in an oscillating potential well $V(x) = \\cos(\\pi x)$, which is formed in crystal lattices of metals.  We likewise use _periodic-boundary conditions_ by setting \n",
    "\n",
    "$$\n",
    "y(-1) = y(1).\n",
    "$$\n",
    "\n",
    "We desribe the probability of a particle being in the interval $[-1,a]$, $a<1$ via the formula\n",
    "\n",
    "$$\n",
    "P(-1\\leq x \\leq a) = \\int_{-1}^{a} \\tilde{y}(x) ~dx, ~ \\tilde{y}(x) = \\frac{y^{2}(x)}{\\int_{-1}^{1}y^{2}(x)~dx}\n",
    "$$\n",
    "\n",
    "1a) (10pts) Using second-order centered-difference approximations and spdiags, write code which discretizes the operator $-\\epsilon\\frac{d^{2}y}{dx^2} + \\cos(\\pi x)y\\approx A{\\bf y}$, where ${\\bf y}=\\left(y_{1} ~y_{2}\\cdots y_{N-1}\\right)^{T}$, $y_{j}=y(x_{j})$.  Note, the periodic boundary conditions are implemented as \n",
    "\n",
    "$$\n",
    "y_{0} = y_{N-1}, ~ y_{N} = y_{1}.\n",
    "$$\n",
    "\n",
    "This means that we have entries in the very top and the very bottom corners of our sparse matrix.  \n",
    "\n",
    "1b) (5pts) You have now formed a discrete eigenvalue problem $A{\\bf y} = E{\\bf y}$.  Using the code below find the first 10 eigenvalues of the discretized equations.  For $\\epsilon=1,.1,.01$ and $.001$, describe via a well designed plot how the first ten energy levels change as you decrease $\\epsilon$.  \n",
    "\n",
    "1c) (5pts) For $\\epsilon=.01$, compare the associated probability distributions $\\tilde{y}(x)$ for the first three energy levels.  How do the likelihoods of where a particle would be found change with changing energy?  Note, you'll need to use the Trapezoid Method (code included above) to compute the integrals used in defining $\\tilde{y}(x)$."
   ]
  },
  {
   "cell_type": "code",
   "execution_count": null,
   "id": "7df4b5de",
   "metadata": {},
   "outputs": [],
   "source": [
    "def eval_find(xvals,epvl):\n",
    "    # xvals is your mesh.  epvl is your epsilon value.\n",
    "    Np1 = xvals.size # this is N+1\n",
    "    dx = # you add code here\n",
    "    idx2 = # you add code here\n",
    "    \n",
    "    diag = # you add code here for the k=0 diagonal\n",
    "    odiagp1 = # you add code here for the k=1 diagonal\n",
    "    odiagn1 = # you add code here for the k=-1 diagonal\n",
    "    odiagNp = # you add code here for the k=Np1-3 diagonal (the top corner)\n",
    "    odiagNn = # you add code here for the k=-(Np1-3) diagonal (the bottom corner)\n",
    "        \n",
    "    # if you've everything correctly, this should just work from here on out\n",
    "    data = np.array([odiagNn, odiagn1, diag, odiagp1, odiagNp])    \n",
    "    dvals = np.array([-(Np1-3),-1,0,1,(Np1-3)])  \n",
    "    Amat = spdiags(data, dvals, Np1-2, Np1-2)\n",
    "    energy_values, ysols = eigsh(Amat,10,which='SM',mode='buckling') # return energies and corresponding y(x_j) solutions\n",
    "   \n",
    "    return energy_values, ysols\n",
    "\n",
    "Nvls = \n",
    "xvals = np.linspace(-1.,1.,Nvls+1)\n",
    "\n",
    "# This is just meant to get you started.  You'll need to think more about how to generate all the necessary plots.  \n",
    "energy_values, ysols = eval_find(xvals,.1)\n",
    "plt.scatter(np.arange(energy_values.size),energy_values[:])\n",
    "plt.xlabel(\"$n$\")\n",
    "plt.ylabel(\"$E_{n}$\") "
   ]
  },
  {
   "cell_type": "code",
   "execution_count": null,
   "id": "cfceec5e",
   "metadata": {},
   "outputs": [],
   "source": [
    "# Plot ysols[:,0] which corresponds to energy_values[0]\n",
    "plt.plot(xvals[1:-1],ysols[:,0]) "
   ]
  },
  {
   "cell_type": "markdown",
   "id": "7eadf9a1",
   "metadata": {},
   "source": [
    "**Problem 2**: 10 pts - For non-negative integer $n$, and $x\\in[-1,1]$, define the function $T_{n}(x)=\\cos(n\\cos^{-1}(x))$.  \n",
    "<ol>\n",
    "        <li> (1pt) Show that $T_{0}(x)=1$\n",
    "        <li> (1pt) Show that $T_{1}(x)=x$\n",
    "        <li> (1pt) Show that $T_{2}(x)=2x^{2}-1$\n",
    "        <li> (1pt) Show that $\\sin(\\cos^{-1}(x))=\\sqrt{1-x^{2}}$            \n",
    "        <li> (3pts) Using trignometric addition formulas, show that $T_{n+1}(x)=2xT_{n}(x) - T_{n-1}(x)$\n",
    "        <li> (2pts) Using induction then, show that $T_{n}(x)$ is an $n^{th}$-degree polynomial.\n",
    "</ol>\n",
    "\n",
    "For this reason, we call $T_{n}(x)$ the _Chebyshev_ polynomials.  "
   ]
  },
  {
   "cell_type": "markdown",
   "id": "e62ea27f",
   "metadata": {},
   "source": [
    "**Problem 3**: 10 pts - For the Chebyshev points \n",
    "\n",
    "$$\n",
    "x_{j} = \\cos\\left(\\frac{2j+1}{2n+2}\\pi\\right), ~ j=0,\\cdots,n\n",
    "$$\n",
    "\n",
    "<ol>\n",
    "    <li> (3pts) Show that $T_{n+1}(x_{j})=0$.  \n",
    "    <li> (3pt) Using the Fundamental Theorem of Algebra, show that \n",
    "        $$\n",
    "        T_{n+1}(x) = c \\prod_{j=0}^{n}(x-x_{j})\n",
    "        $$\n",
    "        where $c$ is some constant.  \n",
    "    <li> (4pts) For the affiliated interpolating polynomial, say $p_{n}(x)$ where\n",
    "        $$\n",
    "        p_{n}(x) = \\sum_{j=0}^{n}f_{j}L_{j}(x).\n",
    "        $$\n",
    "        Show using l'Hopital's rule and the fact that $L_{j}(x_{j})=1$ that  \n",
    "        $$\n",
    "        L_{j}(x) = \\frac{T_{n+1}(x)}{(x-x_{j})T'_{n+1}(x_{j})}\n",
    "        $$     \n",
    "</ol>"
   ]
  },
  {
   "cell_type": "markdown",
   "id": "b599b8c0",
   "metadata": {},
   "source": [
    "**Problem 4**: 15 pts - Given $T_{n+1}(x)=\\cos((n+1)\\cos^{-1}(x))$:\n",
    "<ol>\n",
    "    <li> Show that (2pts)\n",
    "        $$\n",
    "        \\frac{d}{dx}T_{n+1}(x) = (n+1)\\frac{\\sin((n+1)\\cos^{-1}(x))}{\\sqrt{1-x^{2}}}\n",
    "        $$\n",
    "    <li> Show then that (2pts)\n",
    "        $$T'_{n+1}(x_{k}) = \\frac{(n+1)(-1)^{k}}{\\sqrt{1-x_{k}^{2}}}$$\n",
    "    <li> Thus show that for $k\\neq j$ that (2pts)\n",
    "        $$L_{j}'(x_{k}) =   \\frac{(-1)^{k+j}}{x_{k}-x_{j}}\\sqrt{\\frac{1-x_{j}^{2}}{1-x_{k}^{2}}}$$    \n",
    "    <li> (Extra Credit +3, all or nothing) Using l'Hopital's rule, show (this can be quite tricky) that \n",
    "        $$\n",
    "        \\lim_{x\\rightarrow x_{j}}L'_{j}(x) = \\frac{T''(x_{j})}{2T'(x_{j})}\n",
    "        $$\n",
    "    <li> Thus show that (2pts)\n",
    "        $$\n",
    "        L'_{j}(x_{j}) = \\frac{x_{j}}{2(1-x_{j}^{2})}\n",
    "        $$\n",
    "</ol>\n",
    "\n",
    "Thus we now have the formula \n",
    "$$\n",
    "L_{j}'(x_{k}) = \\left\\{\n",
    "\\begin{array}{lr}\n",
    "\\frac{(-1)^{k+j}}{x_{k}-x_{j}}\\sqrt{\\frac{1-x_{j}^{2}}{1-x_{k}^{2}}} & k\\neq j\\\\\n",
    "& \\\\\n",
    "\\frac{x_{j}}{2(1-x_{j}^{2})} & k=j\n",
    "\\end{array}\n",
    "\\right.\n",
    "$$\n",
    "\n",
    "so for given function $f(x)$, we can approximate $f'(x_{k})$ via the formula\n",
    "$$\n",
    "f'(x_{k})\\approx p_{n}'(x_{k}) = \\sum_{j=0}^{n}L'_{j}(x_{k})f_{j},\n",
    "$$\n",
    "which written in matrix/vector form is \n",
    "$$\n",
    "\\begin{pmatrix}f'(x_{0})\\\\f'(x_{1})\\\\\\vdots\\\\f'(x_{n})\\end{pmatrix} \\approx {\\bf D} \\begin{pmatrix}f_{0}\\\\f_{1}\\\\\\vdots\\\\f_{n}\\end{pmatrix}, ~ {\\bf D}_{kj} = L'_{j}(x_{k}).\n",
    "$$\n",
    "The code below builds ${\\bf D}$ for you.  For the remainder of this problem, choose a test function $f(x)$, explain your choice, and then explore the error in using ${\\bf D}$ to approximate the derivative of $f(x)$ for several choices of $N$.  Explain any trends or other features you observe in your experiments.  (7 pts)"
   ]
  },
  {
   "cell_type": "code",
   "execution_count": null,
   "id": "20e6e6c9",
   "metadata": {},
   "outputs": [],
   "source": [
    "def build_dmat(cheb_pts):\n",
    "    Np1 = cheb_pts.size\n",
    "    Dmat = np.zeros((Np1,Np1))\n",
    "    cvec = 1. - cheb_pts**2.\n",
    "    Dmat += np.diag(cheb_pts/(2.*cvec))\n",
    "    sclmat = np.sqrt(np.tile(1./cvec.reshape(-1,1),(1,Np1))*np.tile(cvec,(Np1,1)))\n",
    "    for kk in range(Np1):\n",
    "        for jj in range(kk+1, Np1):            \n",
    "            dif = 1./(cheb_pts[kk]-cheb_pts[jj])\n",
    "            Dmat[kk,jj] = (-1.)**(jj+kk) * dif * sclmat[kk,jj] \n",
    "            Dmat[jj,kk] = (-1.)**(jj+kk+1) * dif * sclmat[jj,kk]\n",
    "    return Dmat"
   ]
  },
  {
   "cell_type": "code",
   "execution_count": null,
   "id": "f5eaa7cb",
   "metadata": {},
   "outputs": [],
   "source": [
    "ffun = lambda x: # pick a function to study and explain why you chose it \n",
    "dftrue = lambda x: # make sure you find the exact derivative of f "
   ]
  },
  {
   "cell_type": "code",
   "execution_count": null,
   "id": "46076a5a",
   "metadata": {},
   "outputs": [],
   "source": [
    "Npts = \n",
    "cheb_pts = np.cos( (2*np.arange(Npts+1)+1)/(2*Npts+2)*np.pi )\n",
    "Dmat = build_dmat(cheb_pts)\n",
    "# Test your derivative and explore the error for various values of Npts.  \n",
    "# Make sure you refer to the Lecture_Nine notes for how to do matrix/vector products\n",
    "# correctly.  "
   ]
  },
  {
   "cell_type": "code",
   "execution_count": null,
   "id": "58c880a0",
   "metadata": {},
   "outputs": [],
   "source": []
  }
 ],
 "metadata": {
  "kernelspec": {
   "display_name": "Python 3 (ipykernel)",
   "language": "python",
   "name": "python3"
  },
  "language_info": {
   "codemirror_mode": {
    "name": "ipython",
    "version": 3
   },
   "file_extension": ".py",
   "mimetype": "text/x-python",
   "name": "python",
   "nbconvert_exporter": "python",
   "pygments_lexer": "ipython3",
   "version": "3.9.13"
  }
 },
 "nbformat": 4,
 "nbformat_minor": 5
}
