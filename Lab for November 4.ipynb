{
 "cells": [
  {
   "cell_type": "code",
   "execution_count": 1,
   "id": "ab07a173",
   "metadata": {},
   "outputs": [],
   "source": [
    "import numpy as np\n",
    "import matplotlib.pyplot as plt\n",
    "%matplotlib inline"
   ]
  },
  {
   "cell_type": "markdown",
   "id": "ad5b65ec",
   "metadata": {},
   "source": [
    "## Lagrange Interpolation: Implementation \n",
    "\n",
    "For the interpolatory data \n",
    "\n",
    "$$\n",
    "\\left\\{x_{j},f_{j} \\right\\}_{j=0}^{n}\n",
    "$$\n",
    "\n",
    "we showed in class that the polynomial $P_{n}(x)$, where \n",
    "\n",
    "$$\n",
    "P_{n}(x) = \\sum_{j=0}^{n} f_{j}L_{j}^{(n)}(x),\n",
    "$$\n",
    "\n",
    "where the functions $L_{j}^{(n)}(x)$ are themselves $n^{th}$-order polynomials which are defined so that \n",
    "\n",
    "$$\n",
    "L_{j}^{(n)}(x_{j}) = 1, ~ L_{j}^{(n)}(x_{k}) = 0, ~k\\neq j,\n",
    "$$\n",
    "\n",
    "gives us our desired interpolating polynomial.  \n",
    "\n",
    "We found the polynomials $L^{(n)}_{j}(x)$ via the formula\n",
    "\n",
    "$$\n",
    "L_{j}^{(n)}(x) = \\frac{\\prod_{l\\neq j}^{n}(x-x_{l})}{\\prod_{l\\neq j}^{n}(x_{j}-x_{l})}.\n",
    "$$\n",
    "\n",
    "Again, to understand this, we look at the $n=1$ and $n=2$ cases.  For the $n=1$ case, we have \n",
    "\n",
    "$$\n",
    "L^{(1)}_{0}(x) = \\frac{x-x_{1}}{x_{0}-x_{1}}, ~ L^{(1)}_{1}(x) = \\frac{x-x_{0}}{x_{1}-x_{0}}.\n",
    "$$\n",
    "\n",
    "We clearly see in this case that \n",
    "$$\n",
    "L^{(1)}_{0}(x_{0}) = 1, ~ L^{(1)}_{0}(x_{1}) = 0, ~~L^{(1)}_{1}(x_{0}) = 0, ~ L^{(1)}_{1}(x_{1}) = 1.\n",
    "$$\n",
    "\n",
    "Likewise, if we go to $n=2$, we need three different quadratic functions which, using either the formula or our intuition, we realize are \n",
    "\n",
    "$$\n",
    "L^{(2)}_{0}(x) = \\frac{(x-x_{1})(x-x_{2})}{(x_{0}-x_{1})(x_{0}-x_{2})}, ~ L^{(2)}_{1}(x) = \\frac{(x-x_{0})(x-x_{2})}{(x_{1}-x_{0})(x_{1}-x_{2})}, ~ L^{(2)}_{2}(x) = \\frac{(x-x_{0})(x-x_{1})}{(x_{2}-x_{1})(x_{2}-x_{1})}.\n",
    "$$\n",
    "\n",
    "So as we see, we can build $P_{n}(x)$ from the weighted $L^{(n)}_{j}(x)$ functions, which act as a _basis_ for our interpolating polynomial.  The question then is, how can we numerically determine the functions $L^{(n)}_{j}(x)$.  \n",
    "\n",
    "This is where we code...  Note, the point of interpolation is to generate approximations $p_n(x)$ for $x$ which are not already _node points_ given by the $x_{j}$.  We call a general $x$ a _query point_ to mark this distinction.  "
   ]
  },
  {
   "cell_type": "code",
   "execution_count": null,
   "id": "22251004",
   "metadata": {},
   "outputs": [],
   "source": [
    "# This function finds L_j(x)\n",
    "# Inputs: node points (I also call them mesh points) xnodes, index jj, and query point xquery\n",
    "\n",
    "def lfun(xnodes,jj,xquery):\n",
    "    lvals = np.ones(xquery.size)\n",
    "    # Find the j^th node\n",
    "    xnodesjj = # add code here \n",
    "    # We need to build a list of node points which does not include xjj\n",
    "    xnodesrem = # add code here\n",
    "    xnodesrem = np.append(xnodesrem,# add code here )\n",
    "    denominator = np.prod(# add code here)\n",
    "    for val in xnodesrem:\n",
    "        lvals *= (xquery-val)\n",
    "    return lvals/denominator"
   ]
  },
  {
   "cell_type": "code",
   "execution_count": null,
   "id": "1ef21e8a",
   "metadata": {},
   "outputs": [],
   "source": [
    "# This function finds p_n(x)\n",
    "# Inputs: data points xnodes and fvals, and query point x\n",
    "\n",
    "def lagrange_interpolator(xnodes,fvals,xquery):\n",
    "    n = fvals.size\n",
    "    ipoly = np.zeros(xquery.size)\n",
    "    for jj in range(n):\n",
    "        ipoly += # add code here \n",
    "    return ipoly"
   ]
  },
  {
   "cell_type": "markdown",
   "id": "94ef619c",
   "metadata": {},
   "source": [
    "To test our code, we use the function \n",
    "\n",
    "$$\n",
    "f(x) = \\frac{1}{1+x^{2}}, ~ -1\\leq x \\leq 1.\n",
    "$$\n",
    "\n",
    "**Problem One**: Using equally-spaced node points $x_{j}\\in[-1,1]$, find the error using the Lagrange interpolating polynomial $p_{10}(x)$ (i.e. use $n=10$).  "
   ]
  },
  {
   "cell_type": "code",
   "execution_count": null,
   "id": "faf38dfa",
   "metadata": {},
   "outputs": [],
   "source": [
    "ftest = lambda x: 1./(1.+x**2.)\n",
    "xquery = np.linspace(-1.,1.,int(1e3)+1) # we build an array of 1001 equally spaced query points (so 1000 intervals).  \n",
    "ftrue = ftest(xquery) # this generates our \"true\" function values"
   ]
  },
  {
   "cell_type": "code",
   "execution_count": null,
   "id": "e329d958",
   "metadata": {},
   "outputs": [],
   "source": [
    "# now we generate our data set we use to build the Lagrange interpolating polynomial for n=10\n",
    "xnodes = # add code here\n",
    "\n",
    "# now we generate our data set we use to build the Lagrange interpolating polynomial for n=10    \n",
    "fvals = # add code here \n",
    "\n",
    "# build interpolating approximation over query points    \n",
    "finterp = lagrange_interpolator(xnodes,fvals,xquery)\n",
    "    \n",
    "# plot the log of the error against the query points     \n",
    "plt.plot(xquery,np.ma.log10(np.abs(ftrue-finterp)),ls='-',color='k')"
   ]
  },
  {
   "cell_type": "markdown",
   "id": "5f2d0e1e",
   "metadata": {},
   "source": [
    "**Problem Two**: Using equally-spaced node points $x_{j}\\in[-1,1]$, find the error using the Lagrange interpolating polynomial $p_{20}(x)$ (i.e. use $n=20$).  Compare your results to $n=10$."
   ]
  },
  {
   "cell_type": "code",
   "execution_count": null,
   "id": "49c17823",
   "metadata": {},
   "outputs": [],
   "source": [
    "xnodes = np.linspace(-1.,1.,#add code here)\n",
    "fvals = ftest(xnodes)\n",
    "finterp = lagrange_interpolator(xnodes,fvals,xquery)\n",
    "plt.plot(xquery,np.ma.log10(np.abs(ftrue-finterp)),ls='-',color='k')"
   ]
  },
  {
   "cell_type": "markdown",
   "id": "a42289b5",
   "metadata": {},
   "source": [
    "**Problem Three**: Using equally-spaced node points $x_{j}\\in[-1,1]$, find the error using the Lagrange interpolating polynomial $p_{40}(x)$ (i.e. use $n=40$).  Compare your results to $n=10$ and $n=20$."
   ]
  },
  {
   "cell_type": "code",
   "execution_count": null,
   "id": "5b22e662",
   "metadata": {},
   "outputs": [],
   "source": [
    "xnodes = np.linspace(-1.,1.,#add code here)\n",
    "fvals = ftest(xnodes)\n",
    "finterp = lagrange_interpolator(xnodes,fvals,xquery)\n",
    "plt.plot(xquery,np.ma.log10(np.abs(ftrue-finterp)),ls='-',color='k')"
   ]
  },
  {
   "cell_type": "markdown",
   "id": "426b1b05",
   "metadata": {},
   "source": [
    "**Problem Four**: Using equally-spaced node points $x_{j}\\in[-1,1]$, find the error using the Lagrange interpolating polynomial $p_{80}(x)$ (i.e. use $n=80$).  Compare your results to $n=10$, $n=20$, and $n=40$."
   ]
  },
  {
   "cell_type": "code",
   "execution_count": null,
   "id": "cc490d12",
   "metadata": {},
   "outputs": [],
   "source": [
    "xnodes = np.linspace(-1.,1.,#add code here)\n",
    "fvals = ftest(xnodes)\n",
    "finterp = lagrange_interpolator(xnodes,fvals,xquery)\n",
    "plt.plot(xquery,np.ma.log10(np.abs(ftrue-finterp)),ls='-',color='k')"
   ]
  },
  {
   "cell_type": "markdown",
   "id": "c12d430e",
   "metadata": {},
   "source": [
    "Having done these experiments, how would you describe the overall usefulness of Lagrange interpolation?"
   ]
  },
  {
   "cell_type": "code",
   "execution_count": null,
   "id": "e6a14d6b",
   "metadata": {},
   "outputs": [],
   "source": []
  }
 ],
 "metadata": {
  "kernelspec": {
   "display_name": "Python 3 (ipykernel)",
   "language": "python",
   "name": "python3"
  },
  "language_info": {
   "codemirror_mode": {
    "name": "ipython",
    "version": 3
   },
   "file_extension": ".py",
   "mimetype": "text/x-python",
   "name": "python",
   "nbconvert_exporter": "python",
   "pygments_lexer": "ipython3",
   "version": "3.9.7"
  }
 },
 "nbformat": 4,
 "nbformat_minor": 5
}
