{
 "cells": [
  {
   "cell_type": "code",
   "execution_count": 2,
   "metadata": {},
   "outputs": [],
   "source": [
    "import numpy as np\n",
    "import matplotlib.pyplot as plt\n",
    "from time import time\n",
    "%matplotlib inline"
   ]
  },
  {
   "cell_type": "markdown",
   "metadata": {},
   "source": [
    "**Problem 1**: 7 pts- Using\n",
    "\n",
    "$$\n",
    "\\cos(x) = \\sum_{j=0}^{\\infty}\\frac{(-1)^{j}}{(2j)!}x^{2j},\n",
    "$$\n",
    "\n",
    "derive a Taylor series for $\\cos(x^{2})$ around $x=0$.  Write a code which computes the Taylor series of $\\cos(x^{2})$ using recursion and a tolerance based while loop approach.(4pts)  On the interval $[0,\\pi]$, plot the semi-log error in your approximation for tolerance values $10^{-4}$, $10^{-6}$, and $10^{-8}$. Describe your graphs and comment on any trends you observe.(3pts)"
   ]
  },
  {
   "cell_type": "markdown",
   "metadata": {},
   "source": [
    "_Answers to Problem 1_"
   ]
  },
  {
   "cell_type": "code",
   "execution_count": null,
   "metadata": {},
   "outputs": [],
   "source": []
  },
  {
   "cell_type": "markdown",
   "metadata": {},
   "source": [
    "**Problem 2**: 7 pts- An important function in physics is the Airy function given by the Taylor Series\n",
    "\n",
    "$$\n",
    "y_{1}(x) = 1 + \\sum_{m=1}^{\\infty}c_{m}x^{3m}, ~ c_{m} = \\prod_{l=1}^{m} \\frac{1}{(3l-1)(3l)}.\n",
    "$$\n",
    "\n",
    "Note the coefficients $c_{m}$ follow the pattern\n",
    "\n",
    "\\begin{align}\n",
    "c_{1} = & \\prod_{l=1}^{1} \\frac{1}{(3l-1)(3l)} = \\frac{1}{2\\cdot 3}\\\\\n",
    "c_{2} = & \\prod_{l=1}^{2} \\frac{1}{(3l-1)(3l)} = \\frac{1}{2\\cdot 3 \\cdot 5 \\cdot 6}\n",
    "\\end{align}\n",
    "\n",
    "Using recursion and a tolerance based while loop approach, write a code which makes two separate plots, one for $-L_{x}\\leq x \\leq 0$ and one for $0\\leq x \\leq L_{x}$, where $L_{x}$ is a user specified value (4pts).  Provide plots for $L_{x}=5,15$ and for tolerances $10^{-8}$ and $10^{-10}$. and describe the phenomena you see in the eight different plots. (3pts)"
   ]
  },
  {
   "cell_type": "markdown",
   "metadata": {},
   "source": [
    "_Answers to Problem 2_"
   ]
  },
  {
   "cell_type": "code",
   "execution_count": null,
   "metadata": {},
   "outputs": [],
   "source": [
    "# In order to get different graphs to appear at the same time you will need to use subplot.  This gets used like\n",
    "\n",
    "xpos05 = np.linspace(0.,5.,int(1e3))\n",
    "ypos051 = # use the function you define for tol=1e-8\n",
    "ypos052 = # use the function you define for tol=1e-10 \n",
    "\n",
    "plt.subplot(2,1,1)\n",
    "plt.plot(xpos05,ypos051)\n",
    "plt.xlabel('$x$')\n",
    "plt.ylabel('$y_{1}(x)$')\n",
    "plt.title('Tolerance Value is %1.2e' %1e-8)\n",
    "\n",
    "plt.subplot(2,1,2)\n",
    "plt.plot(xpos05,ypos052)\n",
    "plt.xlabel('$x$')\n",
    "plt.ylabel('$y_{1}(x)$')\n",
    "plt.title('Tolerance Value is %1.2e' %1e-10)\n",
    "\n",
    "plt.tight_layout()"
   ]
  },
  {
   "cell_type": "code",
   "execution_count": null,
   "metadata": {},
   "outputs": [],
   "source": [
    "xpos15 = np.linspace(0.,15.,int(1e3))\n",
    "ypos151 = # use the function you define for tol=1e-8\n",
    "ypos152 = # use the function you define for tol=1e-10\n",
    "\n",
    "plt.subplot(2,1,1)\n",
    "plt.plot(xpos15,ypos151)\n",
    "plt.xlabel('$x$')\n",
    "plt.ylabel('$y_{1}(x)$')\n",
    "plt.title('Tolerance Value is %1.2e' %1e-8)\n",
    "\n",
    "plt.subplot(2,1,2)\n",
    "plt.plot(xpos15,ypos152)\n",
    "plt.xlabel('$x$')\n",
    "plt.ylabel('$y_{1}(x)$')\n",
    "plt.title('Tolerance Value is %1.2e' %1e-10)\n",
    "\n",
    "plt.tight_layout()"
   ]
  },
  {
   "cell_type": "code",
   "execution_count": null,
   "metadata": {
    "collapsed": true
   },
   "outputs": [],
   "source": [
    "xneg05 = np.linspace(-5.,0.,int(1e3))\n",
    "yneg051 = # use the function you define for tol=1e-8\n",
    "yneg052 = # use the function you define for tol=1e-10 \n",
    "\n",
    "plt.subplot(2,1,1)\n",
    "plt.plot(xneg05,yneg051)\n",
    "plt.xlabel('$x$')\n",
    "plt.ylabel('$y_{1}(x)$')\n",
    "plt.title('Tolerance Value is %1.2e' %1e-8)\n",
    "\n",
    "plt.subplot(2,1,2)\n",
    "plt.plot(xneg05,yneg052)\n",
    "plt.xlabel('$x$')\n",
    "plt.ylabel('$y_{1}(x)$')\n",
    "plt.title('Tolerance Value is %1.2e' %1e-10)\n",
    "\n",
    "plt.tight_layout()"
   ]
  },
  {
   "cell_type": "code",
   "execution_count": null,
   "metadata": {
    "collapsed": true
   },
   "outputs": [],
   "source": [
    "xneg15 = np.linspace(-15.,0.,int(1e3))\n",
    "yneg151 = # use the function you define for tol=1e-8\n",
    "yneg152 = # use the function you define for tol=1e-10 \n",
    "\n",
    "plt.subplot(2,1,1)\n",
    "plt.plot(xneg15,yneg151)\n",
    "plt.xlabel('$x$')\n",
    "plt.ylabel('$y_{1}(x)$')\n",
    "plt.title('Tolerance Value is %1.2e' %1e-8)\n",
    "\n",
    "plt.subplot(2,1,2)\n",
    "plt.plot(xneg15,yneg152)\n",
    "plt.xlabel('$x$')\n",
    "plt.ylabel('$y_{1}(x)$')\n",
    "plt.title('Tolerance Value is %1.2e' %1e-10)\n",
    "\n",
    "plt.tight_layout()"
   ]
  },
  {
   "cell_type": "markdown",
   "metadata": {},
   "source": [
    "_Provide Summary of Results for Problem 2 Here_"
   ]
  },
  {
   "cell_type": "markdown",
   "metadata": {},
   "source": [
    "**Problem 3**: 5 pts- If we list all the natural numbers below 10 that are multiples of 3 or 5, we get 3, 5, 6, and 9.  The sum of these multiples is 23.  Find the sum of all multiples of 3 or 5 below 100.  Note, you will need to make use of the mod command `%`, which in effect finds remainders from division.  Note the use below. Likewise you will also need to use the logical operation `or`. "
   ]
  },
  {
   "cell_type": "code",
   "execution_count": null,
   "metadata": {},
   "outputs": [],
   "source": [
    "# How to use %\n",
    "\n",
    "print 1%2\n",
    "print 2%2\n",
    "print 3%2\n",
    "print 4%2\n",
    "print\n",
    "print 11%5\n",
    "print 12%5\n",
    "print 13%5\n",
    "print 14%5\n",
    "print 15%5"
   ]
  },
  {
   "cell_type": "markdown",
   "metadata": {},
   "source": [
    "_Answer to Problem 3_  "
   ]
  },
  {
   "cell_type": "markdown",
   "metadata": {},
   "source": [
    "**Problem 4**: 5 pts - Using a for loop based approach, write a program which finds \n",
    "\n",
    "$$\n",
    "\\frac{1}{n}\\sum_{j=1}^{n} \\left(\\left(\\frac{j}{n}\\right)^{4} + 3\\left(\\frac{j}{n}\\right)^{2} \\right)\n",
    "$$\n",
    "\n",
    "for any positive integer n.  Generate a labeled plot of the results of your function for $1\\leq n \\leq 100$, where $n$ will be on the $x$-axis, while the results of your function will appear on the $y$-axis.  Describe any trends you see from your graph.       "
   ]
  },
  {
   "cell_type": "markdown",
   "metadata": {},
   "source": [
    "_Answer to Problem 4_"
   ]
  },
  {
   "cell_type": "markdown",
   "metadata": {
    "collapsed": true
   },
   "source": [
    "**Problem 5**: 5 pts - Using a vectorized approach, which means no for loops, write a program which finds \n",
    "\n",
    "$$\n",
    "\\frac{1}{n}\\sum_{j=1}^{n} \\left(\\left(\\frac{j}{n}\\right)^{4} + 3\\left(\\frac{j}{n}\\right)^{2} \\right)\n",
    "$$\n",
    "\n",
    "for any positive integer n (3pts).  Using `time()`, run several different tests using different values of $n$ to determine how much faster your code is than that used in the previous problem.  For what value of $n$ do you finally see a significant difference in time?  Note, plots are far more preferable than just writing a particular number.  Build a case for your decision please. (3pts)    "
   ]
  },
  {
   "cell_type": "markdown",
   "metadata": {},
   "source": [
    "_Answer to Problem 5_"
   ]
  },
  {
   "cell_type": "code",
   "execution_count": 5,
   "metadata": {},
   "outputs": [],
   "source": [
    "def boring_sum(n):\n",
    "    tot = 0.\n",
    "    for jj in range(1, int(n)+1):\n",
    "        tot += (jj/n)**4. + 3.*(jj/n)**2.\n",
    "    return tot/n"
   ]
  },
  {
   "cell_type": "code",
   "execution_count": 6,
   "metadata": {},
   "outputs": [],
   "source": [
    "def vector_sum(n):\n",
    "    jvals = 1./n * np.arange(1, int(n)+1)\n",
    "    tot = np.sum(jvals**4. + 3. * jvals**2.)\n",
    "    return tot/n"
   ]
  },
  {
   "cell_type": "code",
   "execution_count": 14,
   "metadata": {},
   "outputs": [],
   "source": [
    "nmax = int(1e3)\n",
    "times = np.zeros(nmax)\n",
    "for nval in range(1, nmax):\n",
    "    start = time()\n",
    "    testarray = [vector_sum(n) for n in range(1, nval+1)]\n",
    "    end = time()\n",
    "    times[nval-1] = end - start"
   ]
  },
  {
   "cell_type": "code",
   "execution_count": 18,
   "metadata": {},
   "outputs": [
    {
     "data": {
      "text/plain": [
       "[<matplotlib.lines.Line2D at 0x214cff6cd30>]"
      ]
     },
     "execution_count": 18,
     "metadata": {},
     "output_type": "execute_result"
    },
    {
     "data": {
      "image/png": "[encoded data removed]",
      "text/plain": [
       "<Figure size 432x288 with 1 Axes>"
      ]
     },
     "metadata": {
      "needs_background": "light"
     },
     "output_type": "display_data"
    }
   ],
   "source": [
    "plt.plot(np.arange(1, nmax), np.ma.log10(times[:-1]))"
   ]
  },
  {
   "cell_type": "code",
   "execution_count": 10,
   "metadata": {},
   "outputs": [
    {
     "name": "stdout",
     "output_type": "stream",
     "text": [
      "Total time taken: 19.66\n"
     ]
    }
   ],
   "source": [
    "\n",
    "start = time()\n",
    "testarray = [boring_sum(n) for n in range(1, nmax+1)]\n",
    "end = time()\n",
    "print(\"Total time taken: %2.2f\" %(end-start))"
   ]
  },
  {
   "cell_type": "code",
   "execution_count": null,
   "metadata": {},
   "outputs": [],
   "source": []
  }
 ],
 "metadata": {
  "kernelspec": {
   "display_name": "Python 3 (ipykernel)",
   "language": "python",
   "name": "python3"
  },
  "language_info": {
   "codemirror_mode": {
    "name": "ipython",
    "version": 3
   },
   "file_extension": ".py",
   "mimetype": "text/x-python",
   "name": "python",
   "nbconvert_exporter": "python",
   "pygments_lexer": "ipython3",
   "version": "3.10.1"
  }
 },
 "nbformat": 4,
 "nbformat_minor": 2
}
