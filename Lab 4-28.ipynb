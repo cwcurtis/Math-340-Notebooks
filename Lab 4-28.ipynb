{
 "cells": [
  {
   "cell_type": "code",
   "execution_count": 1,
   "id": "3ef1da15",
   "metadata": {},
   "outputs": [],
   "source": [
    "import numpy as np\n",
    "import matplotlib.pyplot as plt\n",
    "from scipy.sparse import spdiags\n",
    "from scipy.sparse.linalg import spsolve\n",
    "%matplotlib inline"
   ]
  },
  {
   "cell_type": "markdown",
   "id": "b7cfe442",
   "metadata": {},
   "source": [
    "**Problem 1**: Write a function which generates the $N\\times N$ sparse matrix\n",
    "\n",
    "$$\n",
    "D_{L} = \\begin{pmatrix} 0 & 0 & 0 & \\cdots & 0 \\\\ 1 & 0 & 0 & \\cdots & 0\\\\ 0 & 1 & 0 & \\cdots & 0\\\\ \\vdots & \\vdots & \\ddots & \\ddots & 0\\\\ 0 & 0 & \\cdots & 1 & 0\\end{pmatrix}\n",
    "$$\n",
    "\n",
    "Test your code on two different examples.  Don't forget about the `.todense()` method.  "
   ]
  },
  {
   "cell_type": "code",
   "execution_count": null,
   "id": "0eeb3e52",
   "metadata": {},
   "outputs": [],
   "source": [
    "def DL(N):\n",
    "    # write your code here"
   ]
  },
  {
   "cell_type": "code",
   "execution_count": null,
   "id": "086a5513",
   "metadata": {},
   "outputs": [],
   "source": [
    "# place your examples here.  "
   ]
  },
  {
   "cell_type": "markdown",
   "id": "63072d0e",
   "metadata": {},
   "source": [
    "**Problem 2**: Write a function which generates the $N\\times N$ sparse matrix\n",
    "\n",
    "$$\n",
    "D_{U} = \\begin{pmatrix} 0 & 1 & 0 & \\cdots & 0 \\\\ 0 & 0 & 1 & \\cdots & 0\\\\ 0 & 0 & 0 & \\ddots & 0\\\\ \\vdots & \\vdots & \\ddots & \\ddots & 1\\\\ 0 & 0 & \\cdots & 0 & 0\\end{pmatrix}\n",
    "$$\n",
    "\n",
    "Test your code on two different examples.  Don't forget about the `.todense()` method.  "
   ]
  },
  {
   "cell_type": "code",
   "execution_count": null,
   "id": "25f352c3",
   "metadata": {},
   "outputs": [],
   "source": [
    "def DU(N):\n",
    "    # write your code here"
   ]
  },
  {
   "cell_type": "code",
   "execution_count": 3,
   "id": "f658dc9a",
   "metadata": {},
   "outputs": [],
   "source": [
    "# place your examples here."
   ]
  },
  {
   "cell_type": "markdown",
   "id": "bf2cf7ec",
   "metadata": {},
   "source": [
    "**Problem 3**: Given the interval $a\\leq x \\leq b$ and some function $f(x)$, for an $N+1$ point mesh $x_{j}=a + j\\delta x$, $\\delta x = (b-a)/N$, write a function which generates the left-sided derivative approximation defined by the equations:\n",
    "\n",
    "$$\n",
    "f'(x_{j}) \\approx -\\frac{3}{2\\delta x} f_{j} +\\frac{2}{\\delta x}f_{j+1} - \\frac{1}{2\\delta x}f_{j+2}, ~ 0\\leq j \\leq N-2.  \n",
    "$$\n",
    "\n",
    "Test your implementation on the function $f(x)=\\sin(x)$ for $0\\leq x \\leq 2\\pi$.  Use the notes from Lecture Nine as a guide.  "
   ]
  },
  {
   "cell_type": "code",
   "execution_count": null,
   "id": "053aee89",
   "metadata": {},
   "outputs": [],
   "source": []
  }
 ],
 "metadata": {
  "kernelspec": {
   "display_name": "Python 3 (ipykernel)",
   "language": "python",
   "name": "python3"
  },
  "language_info": {
   "codemirror_mode": {
    "name": "ipython",
    "version": 3
   },
   "file_extension": ".py",
   "mimetype": "text/x-python",
   "name": "python",
   "nbconvert_exporter": "python",
   "pygments_lexer": "ipython3",
   "version": "3.9.13"
  }
 },
 "nbformat": 4,
 "nbformat_minor": 5
}
