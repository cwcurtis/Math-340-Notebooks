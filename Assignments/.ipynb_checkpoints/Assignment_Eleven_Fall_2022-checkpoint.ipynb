{
 "cells": [
  {
   "cell_type": "code",
   "execution_count": 1,
   "id": "53490139",
   "metadata": {},
   "outputs": [],
   "source": [
    "import numpy as np\n",
    "import matplotlib.pyplot as plt\n",
    "from scipy.sparse import spdiags\n",
    "from scipy.sparse.linalg import spsolve\n",
    "%matplotlib inline"
   ]
  },
  {
   "cell_type": "markdown",
   "id": "09fced4f",
   "metadata": {},
   "source": [
    "**Problem 1**: (10 pts) In lab, we showed that if interpolated over the data $(x_{j},f_{j}),(x_{j+1},f_{j+1}),(x_{j+2},f_{j+2})$ where our nodes are equally spaced so that \n",
    "\n",
    "$$\n",
    "\\delta x = x_{j+1} - x_{j} = x_{j} - x_{j-1}\n",
    "$$\n",
    "\n",
    "then using $f(x)\\approx P_{2}(x)$, we have \n",
    "\n",
    "$$\n",
    "f'(x_{j}) \\approx \\frac{1}{\\delta x}\\left(-\\frac{3}{2}f_{j} + 2f_{j+1} - \\frac{1}{2}f_{j+2} \\right)\n",
    "$$\n",
    "\n",
    "* (5 pts) Using the same interpolation information, find an approximation to $f''(x_{j})$.  \n",
    "* (5 pts) Using $f(x) = \\cos(x)$, determine the accuracy of your centered difference approximations with respect to the magnitude of $\\delta x$ for the second derivative.  Clearly explain your methodology.  \n",
    "\n",
    "Note, in order to measure the error in our approximation, we look at points $x_{j}\\in[0, 2\\pi]$ where $\\delta x = 2\\pi/N$ so that\n",
    "\n",
    "$$\n",
    "x_{j} = \\frac{2\\pi j}{N}, ~j=0, \\cdots, N.\n",
    "$$\n",
    "\n",
    "We plot the maximum of the absolute value of the error in our approximation over our chosen interval for increasing choices of $N$."
   ]
  },
  {
   "cell_type": "markdown",
   "id": "2ef939ac",
   "metadata": {},
   "source": [
    "**Problem 2**: (10 pts)\n",
    "\n",
    "* (5 pts) Derive a centered difference approximation for $f'(x_{j})$ using the equally spaced nodes $x_{j-2}$, $x_{j-1}$, $x_{j}$, $x_{j+1}$, $x_{j+2}$, with corresponding node spacing $\\delta x$, and corresponding data $f_{j-2}$, $f_{j-1}$, $f_{j}$, $f_{j+1}$, $f_{j+2}$.  Determine the order of accuracy of your approximation again using $f(x) = \\cos(x)$.   \n",
    "\n",
    "* (5 pts) Derive a centered difference approximation for $f''(x_{j})$ using the equally spaced nodes $x_{j-2}$, $x_{j-1}$, $x_{j}$, $x_{j+1}$, $x_{j+2}$, with corresponding node spacing $\\delta x$, and corresponding data $f_{j-2}$, $f_{j-1}$, $f_{j}$, $f_{j+1}$, $f_{j+2}$.  Determine the order of accuracy of your approximation again using $f(x) = \\cos(x)$.   \n",
    "\n",
    "Note, in order to measure the error in our approximation, we look at points $x_{j}\\in[0, 2\\pi]$ where $\\delta x = 2\\pi/N$ so that\n",
    "\n",
    "$$\n",
    "x_{j} = \\frac{2\\pi j}{N}, ~j=0, \\cdots, N.\n",
    "$$\n",
    "\n",
    "We plot the maximum of the absolute value of the error in our approximation over our chosen interval for increasing choices of $N$."
   ]
  },
  {
   "cell_type": "markdown",
   "id": "9fe2a0b6",
   "metadata": {},
   "source": [
    "**Problem 3**: (10 pts) For the differential equation\n",
    "\n",
    "$$\n",
    "f''(x) = e^{-x}, ~ f(0) = 1, ~ f(1) = 2\n",
    "$$\n",
    "\n",
    "using the centered difference approximation from Problem 2, build a sparse matrix representation of your finite difference approximation (5pts) and numerically solve this differential equation.  Plot your solution and comment on what degree of accuracy you expect for your solution (5pts).  "
   ]
  },
  {
   "cell_type": "code",
   "execution_count": null,
   "id": "8cfddc98",
   "metadata": {},
   "outputs": [],
   "source": []
  }
 ],
 "metadata": {
  "kernelspec": {
   "display_name": "Python 3 (ipykernel)",
   "language": "python",
   "name": "python3"
  },
  "language_info": {
   "codemirror_mode": {
    "name": "ipython",
    "version": 3
   },
   "file_extension": ".py",
   "mimetype": "text/x-python",
   "name": "python",
   "nbconvert_exporter": "python",
   "pygments_lexer": "ipython3",
   "version": "3.9.12"
  }
 },
 "nbformat": 4,
 "nbformat_minor": 5
}
