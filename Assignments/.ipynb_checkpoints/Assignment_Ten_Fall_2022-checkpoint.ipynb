{
 "cells": [
  {
   "cell_type": "code",
   "execution_count": 1,
   "metadata": {},
   "outputs": [],
   "source": [
    "import numpy as np\n",
    "import matplotlib.pyplot as plt\n",
    "%matplotlib inline"
   ]
  },
  {
   "cell_type": "markdown",
   "metadata": {},
   "source": [
    "**Problem 1**: 10 pts - For the function\n",
    "\n",
    "$$\n",
    "f(x) = \\frac{x^{2}}{1+x^{4}}, ~ -1 \\leq x \\leq 1\n",
    "$$\n",
    "\n",
    "a) (2pts) Using an equispaced set of $10$ nodes, generate the Lagrange interpolating polynomial to $f(x)$.  Generate a plot which shows how the error in your approximation varies over the interval.  \n",
    "\n",
    "b) (2pts) Using an equispaced set of $20$ nodes, generate the Lagrange interpolating polynomial to $f(x)$.  Generate a plot which shows how the error in your approximation varies over the interval.  \n",
    "\n",
    "c) (2pts) At what number of equispaced nodes does your Lagrange interpolation approximation break down?  \n",
    "\n",
    "d) (4pts) Does using Chebyshev points help resolve the issues you saw in c) ?  Provide examples to verify your claim."
   ]
  },
  {
   "cell_type": "markdown",
   "metadata": {},
   "source": [
    "**Problem 2**: 10 pts - For non-negative integer $n$, and $x\\in[-1,1]$, define the function $T_{n}(x)=\\cos(n\\cos^{-1}(x))$.  \n",
    "<ol>\n",
    "        <li> (1pt) Show that $T_{0}(x)=1$\n",
    "        <li> (1pt) Show that $T_{1}(x)=x$\n",
    "        <li> (1pt) Show that $T_{2}(x)=2x^{2}-1$\n",
    "        <li> (1pt) Show that $\\sin(\\cos^{-1}(x))=\\sqrt{1-x^{2}}$            \n",
    "        <li> (3pts) Using trignometric addition formulas, show that $T_{n+1}(x)=2xT_{n}(x) - T_{n-1}(x)$\n",
    "        <li> (2pts) Using induction then, show that $T_{n}(x)$ is an $n^{th}$-degree polynomial.\n",
    "</ol>\n",
    "\n",
    "For this reason, we call $T_{n}(x)$ the _Chebyshev_ polynomials.  "
   ]
  },
  {
   "cell_type": "markdown",
   "metadata": {},
   "source": [
    "**Problem 3**: 10 pts - For the Chebyshev points \n",
    "\n",
    "$$\n",
    "x_{j} = \\cos\\left(\\frac{2j+1}{2n+2}\\pi\\right), ~ j=0,\\cdots,n\n",
    "$$\n",
    "\n",
    "<ol>\n",
    "    <li> (2pts) Show that $T_{n+1}(x_{j})=0$.  \n",
    "    <li> (2pt) Using the Fundamental Theorem of Algebra, show that \n",
    "        $$\n",
    "        T_{n+1}(x) = c \\prod_{j=0}^{n}(x-x_{j})\n",
    "        $$\n",
    "        where $c$ is some constant.  \n",
    "    <li> (3pts) Using basic results about Taylor series, show that \n",
    "        $$\n",
    "        c = \\frac{1}{(n+1)!}\\frac{d^{n+1}}{dx^{n+1}}T_{n+1}(x)\n",
    "        $$\n",
    "    <li> (3pts) For the affiliated interpolating polynomial, say $p_{n}(x)$ where\n",
    "        $$\n",
    "        p_{n}(x) = \\sum_{j=0}^{n}f_{j}L_{j}(x).\n",
    "        $$\n",
    "        Show using the product rule of differentiation that \n",
    "        $$\n",
    "        L_{j}(x) = \\frac{T_{n+1}(x)}{(x-x_{j})T'_{n+1}(x_{j})}\n",
    "        $$\n",
    "</ol>\n"
   ]
  },
  {
   "cell_type": "code",
   "execution_count": null,
   "metadata": {},
   "outputs": [],
   "source": []
  }
 ],
 "metadata": {
  "kernelspec": {
   "display_name": "Python 3 (ipykernel)",
   "language": "python",
   "name": "python3"
  },
  "language_info": {
   "codemirror_mode": {
    "name": "ipython",
    "version": 3
   },
   "file_extension": ".py",
   "mimetype": "text/x-python",
   "name": "python",
   "nbconvert_exporter": "python",
   "pygments_lexer": "ipython3",
   "version": "3.9.7"
  }
 },
 "nbformat": 4,
 "nbformat_minor": 2
}
