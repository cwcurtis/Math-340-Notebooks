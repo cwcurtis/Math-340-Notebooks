{
 "cells": [
  {
   "cell_type": "code",
   "execution_count": 1,
   "id": "b18af416",
   "metadata": {},
   "outputs": [],
   "source": [
    "import numpy as np\n",
    "import matplotlib.pyplot as plt\n",
    "from scipy.sparse import spdiags\n",
    "from scipy.sparse.linalg import spsolve\n",
    "%matplotlib inline"
   ]
  },
  {
   "cell_type": "markdown",
   "id": "a9908568",
   "metadata": {},
   "source": [
    "In our cubic-spline implementation, for data $(x_{j},f_{j})_{j=0}^{n}$, with the $j^{th}$ spline function $S_{j}(x)$ given by \n",
    "\n",
    "$$\n",
    "S_{j}(x) = a_{j}(x-x_{j})^{3} + b_{j}(x-x_{j})^{2} + c_{j}(x-x_{j}) + d_{j}, ~ j=0,\\cdots, n-1,\n",
    "$$\n",
    "\n",
    "we assumed that we had _natural_ boundary conditions which meant \n",
    "\n",
    "$$\n",
    "S''_{0}(x_{0}) = S''_{n-1}(x_{n}) = 0\n",
    "$$\n",
    "\n",
    "But of course, there are other ways we might do this.  One of them is to use _clamped_ conditions, so that \n",
    "$$\n",
    "S'_{0}(x_{0}) = f'(x_{0}), ~ S'_{n-1}(x_{n}) = f'(x_{n}).\n",
    "$$\n",
    "For this to work though, we'd need the data $f'(x_{0})$ and $f'(x_{n})$.  So if we're not given that, we need to approximate it.  Assuming we have evenly spaced data so that $x_{j+1}-x_{j} = \\delta x$, we've seen in lecture/lab that \n",
    "$$\n",
    "f'(x_{0}) = \\frac{1}{\\delta x}\\left(-\\frac{3}{2}f_{0} + 2f_{1} - \\frac{1}{2}f_{2} \\right) + \\mathcal{O}((\\delta x)^{2}).\n",
    "$$\n",
    "\n",
    "\n",
    "**Note**: Throughout, we assume that the data is equispaced.  \n",
    "\n",
    "**Problem 1**: (5pts) Using Lagrange interpolation, show for equi-spaced data that \n",
    "$$\n",
    "f'(x_{n}) \\approx \\frac{1}{\\delta x}\\left(\\frac{3}{2}f_{n} -2 f_{n-1} + \\frac{1}{2}f_{n-2} \\right)\n",
    "$$"
   ]
  },
  {
   "cell_type": "markdown",
   "id": "1f003580",
   "metadata": {},
   "source": [
    "**Problem 2**: \n",
    "\n",
    "**Problem 2a**: (3pts) Show that for equispaced data that the clamped conditions with the above approximations lead to the equations\n",
    "\n",
    "$$\n",
    "c_{0} = \\frac{1}{\\delta x}\\left(-\\frac{3}{2}f_{0} + 2f_{1} - \\frac{1}{2}f_{2} \\right)\n",
    "$$\n",
    "\n",
    "and\n",
    "\n",
    "$$\n",
    "3a_{n-1}\\delta x^{2} + 2b_{n-1}\\delta x + c_{n-1} = \\frac{1}{\\delta x}\\left(\\frac{3}{2}f_{n} -2 f_{n-1} + \\frac{1}{2}f_{n-2} \\right)\n",
    "$$\n",
    "\n",
    "**Problem 2b**: (3pts) Given that continuity of splines means that $S_{0}(x_{1}) = f_{1}$ so that \n",
    "$$\n",
    "a_{0}(\\delta x)^{2} + b_{0}(\\delta x) + c_{0} = \\frac{\\delta f_{0}}{\\delta x},\n",
    "$$\n",
    "\n",
    "show that \n",
    "\n",
    "\\begin{align*}\n",
    "a_{0} = & \\frac{1}{(\\delta x)^{2}}\\left(\\frac{\\delta f_{0}}{\\delta x} - b_{0}\\delta x - c_{0}\\right)\\\\\n",
    " = & \\frac{1}{(\\delta x)^{2}}\\left(\\frac{\\delta f_{0}}{\\delta x} - b_{0}\\delta x - \\frac{1}{\\delta x}\\left(-\\frac{3}{2}f_{0} + 2f_{1} - \\frac{1}{2}f_{2} \\right)\\right)\n",
    "\\end{align*}\n",
    "\n",
    "**Problem 2c**: \n",
    "\n",
    "Using the endpoint condition $S_{n-1}(x_{n})=f_{n}$, which can be written as \n",
    "\n",
    "$$\n",
    "a_{n-1}\\delta x^{2} + b_{n-1}\\delta x + c_{n-1} = \\frac{\\delta f_{n-1}}{\\delta x},\n",
    "$$\n",
    "\n",
    "show that\n",
    "\n",
    "$$\n",
    "a_{n-1} = \\frac{1}{2(\\delta x)^{2}}\\left(-b_{n-1}\\delta x + \\frac{1}{\\delta x}\\left(\\frac{3}{2}f_{n} -2 f_{n-1} + \\frac{1}{2}f_{n-2} \\right)- \\frac{\\delta f_{n-1}}{\\delta x} \\right)\n",
    "$$"
   ]
  },
  {
   "cell_type": "code",
   "execution_count": null,
   "id": "f96f9798",
   "metadata": {},
   "outputs": [],
   "source": []
  }
 ],
 "metadata": {
  "kernelspec": {
   "display_name": "Python 3 (ipykernel)",
   "language": "python",
   "name": "python3"
  },
  "language_info": {
   "codemirror_mode": {
    "name": "ipython",
    "version": 3
   },
   "file_extension": ".py",
   "mimetype": "text/x-python",
   "name": "python",
   "nbconvert_exporter": "python",
   "pygments_lexer": "ipython3",
   "version": "3.9.7"
  }
 },
 "nbformat": 4,
 "nbformat_minor": 5
}
