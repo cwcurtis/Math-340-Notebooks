{
 "cells": [
  {
   "cell_type": "code",
   "execution_count": 1,
   "metadata": {},
   "outputs": [],
   "source": [
    "import numpy as np\n",
    "import matplotlib.pyplot as plt\n",
    "%matplotlib inline"
   ]
  },
  {
   "cell_type": "markdown",
   "metadata": {},
   "source": [
    "**Problem 1**: 10 pts - For the function\n",
    "\n",
    "$$\n",
    "f(x) = \\frac{x^{2}}{1+x^{4}}, ~ -1 \\leq x \\leq 1\n",
    "$$\n",
    "\n",
    "a) (2pts) Using an equispaced set of $10$ nodes, generate the Lagrange interpolating polynomial to $f(x)$.  Generate a plot which shows how the error in your approximation varies over the interval.  \n",
    "\n",
    "b) (2pts) Using an equispaced set of $20$ nodes, generate the Lagrange interpolating polynomial to $f(x)$.  Generate a plot which shows how the error in your approximation varies over the interval.  \n",
    "\n",
    "c) (2pts) At what number of equispaced nodes does your Lagrange interpolation approximation break down?  \n",
    "\n",
    "d) (4pts) Does using Chebyshev points help resolve the issues you saw in c) ?  Provide examples to verify your claim."
   ]
  },
  {
   "cell_type": "markdown",
   "metadata": {},
   "source": [
    "**Problem 2**: 7 pts - Given three interpolation points $\\left\\{(x_{j},f_{j})\\right\\}_{j=0}^{2}$, suppose they are equi-spaced, so that \n",
    "$$\n",
    "\\delta x = x_{1}-x_{0} = x_{2} - x_{1}.\n",
    "$$\n",
    "\n",
    "Show that (1 pt each)\n",
    "<ol>\n",
    "        <li> $L^{(2)}_{0}(x) = \\frac{1}{2(\\delta x)^{2}}(x-x_{1})(x-x_{2})$.\n",
    "        <li> $\\left.\\frac{d}{dx}L^{(2)}_{0}(x)\\right|_{x=x_{0}} = -\\frac{3}{2\\delta x}$.\n",
    "        <li> $L^{(2)}_{1}(x) = -\\frac{1}{(\\delta x)^{2}}(x-x_{0})(x-x_{2})$\n",
    "        <li> $\\left.\\frac{d}{dx}L^{(2)}_{1}(x)\\right|_{x=x_{0}} = \\frac{2}{\\delta x}$.            \n",
    "        <li> $L^{(2)}_{2}(x) = -\\frac{1}{(\\delta x)^{2}}(x-x_{0})(x-x_{1})$\n",
    "        <li> $\\left.\\frac{d}{dx}L^{(2)}_{2}(x)\\right|_{x=x_{0}} = -\\frac{1}{2\\delta x}$.            \n",
    "</ol>\n",
    "\n",
    "From this, find the approximation $f'(x_{0}) \\approx p_{2}'(x_{0})$ (1 pt).  "
   ]
  },
  {
   "cell_type": "markdown",
   "metadata": {},
   "source": [
    "**Problem 3**: 7 pts - Repeat the above problem, but now evaluate everything at $x_{1}$ and find the approximation $f'(x_{1}) \\approx p_{2}'(x_{1})$.   "
   ]
  },
  {
   "cell_type": "code",
   "execution_count": null,
   "metadata": {},
   "outputs": [],
   "source": []
  }
 ],
 "metadata": {
  "kernelspec": {
   "display_name": "Python 3 (ipykernel)",
   "language": "python",
   "name": "python3"
  },
  "language_info": {
   "codemirror_mode": {
    "name": "ipython",
    "version": 3
   },
   "file_extension": ".py",
   "mimetype": "text/x-python",
   "name": "python",
   "nbconvert_exporter": "python",
   "pygments_lexer": "ipython3",
   "version": "3.9.7"
  }
 },
 "nbformat": 4,
 "nbformat_minor": 2
}
