{
 "cells": [
  {
   "cell_type": "code",
   "execution_count": 4,
   "id": "c3fe6164",
   "metadata": {},
   "outputs": [],
   "source": [
    "import numpy as np\n",
    "import scipy.integrate as spqd\n",
    "import matplotlib.pyplot as plt\n",
    "%matplotlib inline"
   ]
  },
  {
   "cell_type": "code",
   "execution_count": 8,
   "id": "af54f81d",
   "metadata": {},
   "outputs": [],
   "source": [
    "# Function, derivative, and second derivative definitions.  \n",
    "f = lambda x: np.cos(np.cos(x))\n",
    "df = lambda x: np.sin(np.cos(x))*np.sin(x)\n",
    "d2f = lambda x: np.cos(x)*np.sin(np.cos(x)) - (np.sin(x))**2. * np.cos(np.cos(x))\n",
    "\n",
    "# General formula for a second-order Taylor series around x0\n",
    "T2 = lambda x,x0: f(x0) + df(x0)*(x-x0) + d2f(x0)/2. * (x-x0)**2."
   ]
  },
  {
   "cell_type": "code",
   "execution_count": 9,
   "id": "3e961c17",
   "metadata": {},
   "outputs": [
    {
     "name": "stdout",
     "output_type": "stream",
     "text": [
      "(1.2019697153172066, 1.3344544528473075e-14)\n"
     ]
    }
   ],
   "source": [
    "print(spqd.quad(lambda x: np.cos(np.cos(x)), 0, np.pi/2.))"
   ]
  },
  {
   "cell_type": "markdown",
   "id": "6298a508",
   "metadata": {},
   "source": [
    "So let's go back to our problem from class of finding approximations to the integral \n",
    "\n",
    "$$\n",
    "I = \\int_{0}^{\\pi/2}\\cos(\\cos(x)) ~ dx\n",
    "$$\n",
    "\n",
    "In class, we started things by building Taylor series approximations starting with the lower bound of the integral, i.e. using $T_{2}(x;0)$ to approximate our integral.  Of course, we could also use a different approximation of the integrand.  In this lab, we'll explore using midpoints to build our Taylor series approximations.  "
   ]
  },
  {
   "cell_type": "markdown",
   "id": "f872e67a",
   "metadata": {},
   "source": [
    "**Problem 1**: Using the code provided in Lecture Two and the lambda functions given in this notebook, generate a plot comparing the functions $\\cos(\\cos(x))$, $T_{2}(x;0)$, and $T_{2}(x;\\pi/4)$.  Comment on interesting features you observe.  "
   ]
  },
  {
   "cell_type": "code",
   "execution_count": null,
   "id": "78154a8b",
   "metadata": {},
   "outputs": [],
   "source": []
  },
  {
   "cell_type": "markdown",
   "id": "bac648a1",
   "metadata": {},
   "source": [
    "**Problem 2**: So, in general, we want to compute integrals of the form\n",
    "\n",
    "$$\n",
    "\\int_{a}^{b}T_{2}\\left(x; \\frac{a+b}{2}\\right) ~ dx\n",
    "$$\n",
    "\n",
    "for general second order Taylor series expansions.  Find this analytically, and then find a lambda function implementation that uses your analytic results.  "
   ]
  },
  {
   "cell_type": "code",
   "execution_count": null,
   "id": "eaaf551d",
   "metadata": {},
   "outputs": [],
   "source": []
  },
  {
   "cell_type": "markdown",
   "id": "7fe01d4b",
   "metadata": {},
   "source": [
    "**Problem 3**: Using your code, find an approximation to $I$ just using $T_{2}(x;\\pi/4)$.  Is this more or less accurate than using $T_{2}(x;0)$?  Why?  "
   ]
  },
  {
   "cell_type": "code",
   "execution_count": null,
   "id": "ddd6d18e",
   "metadata": {},
   "outputs": [],
   "source": []
  },
  {
   "cell_type": "markdown",
   "id": "175c8c89",
   "metadata": {},
   "source": [
    "**Problem 4**: If we separate $I$ so that \n",
    "\n",
    "$$\n",
    "I = \\int_{0}^{\\pi/4}\\cos(\\cos(x)) ~ dx + \\int_{\\pi/4}^{\\pi/2}\\cos(\\cos(x)) ~ dx\n",
    "$$\n",
    "\n",
    "then we could hopefully improve our result by using $T_{2}(x;\\pi/4)$ on the first integral and $T_{2}(x;3\\pi/8)$ on the second.  Implement this and comment on whether your result is improved or not.  Explain why there is improvement or not.  "
   ]
  },
  {
   "cell_type": "code",
   "execution_count": null,
   "id": "bb2f800c",
   "metadata": {},
   "outputs": [],
   "source": []
  }
 ],
 "metadata": {
  "kernelspec": {
   "display_name": "Python 3 (ipykernel)",
   "language": "python",
   "name": "python3"
  },
  "language_info": {
   "codemirror_mode": {
    "name": "ipython",
    "version": 3
   },
   "file_extension": ".py",
   "mimetype": "text/x-python",
   "name": "python",
   "nbconvert_exporter": "python",
   "pygments_lexer": "ipython3",
   "version": "3.9.13"
  }
 },
 "nbformat": 4,
 "nbformat_minor": 5
}
