{
 "cells": [
  {
   "cell_type": "code",
   "execution_count": 1,
   "metadata": {},
   "outputs": [],
   "source": [
    "import numpy as np\n",
    "import matplotlib.pyplot as plt\n",
    "import scipy.integrate as spqd\n",
    "from time import time\n",
    "%matplotlib inline"
   ]
  },
  {
   "cell_type": "code",
   "execution_count": 2,
   "metadata": {},
   "outputs": [],
   "source": [
    "def simpsons_method(a,b,N,f):\n",
    "    Nint = int(N)\n",
    "    Tint = 2*Nint\n",
    "    xvals = np.linspace(a,b,Tint+1)\n",
    "    fvals = f(xvals)\n",
    "    dx = (b-a)/(2.*N)\n",
    "    return dx/3.*(fvals[0] + fvals[Tint] + 2.*np.sum(fvals[2:Tint-1:2]) + 4.*np.sum(fvals[1:Tint:2])) "
   ]
  },
  {
   "cell_type": "code",
   "execution_count": 3,
   "metadata": {},
   "outputs": [],
   "source": [
    "def adap_quad_comp(f,a,b,c,fa,fb,fc,Aab,tol):    \n",
    "    d = (a+c)/2.\n",
    "    e = (b+c)/2.\n",
    "    fd = f(d)\n",
    "    fe = f(e)\n",
    "    dx3 = (d-a)/3.\n",
    "    Aac = dx3*(fa+4.*fd+fc)\n",
    "    Acb = dx3*(fc+4.*fe+fb)\n",
    "    if np.abs(Aab-(Aac+Acb))<=tol: \n",
    "        return (16./15.*(Aac+Acb)-Aab/15.)\n",
    "    else:  \n",
    "        F1 = adap_quad_comp(f,a,c,d,fa,fc,fd,Aac,tol)\n",
    "        F2 = adap_quad_comp(f,c,b,e,fc,fb,fe,Acb,tol)\n",
    "        return F1 + F2\n",
    "    \n",
    "def adap_quad(f,a,b,tol):\n",
    "    c = (a+b)/2.\n",
    "    fa = f(a)\n",
    "    fb = f(b)\n",
    "    fc = f(c)\n",
    "    dx3 = (c-a)/3.\n",
    "    Aab = dx3*(fa+4.*fc+fb)\n",
    "    ival = adap_quad_comp(f,a,b,c,fa,fb,fc,Aab,tol)    \n",
    "    return ival"
   ]
  },
  {
   "cell_type": "markdown",
   "metadata": {},
   "source": [
    "**Problem 1**: (5 pts) Use the adaptive quadrature algorithm to evaluate \n",
    "\n",
    "$$\n",
    "\\int_{-1}^{2} \\frac{dt}{\\sin\\left(\\sqrt{|t|} \\right)}.\n",
    "$$\n",
    "\n",
    "State how you arrive at your result i.e. what tolerances do you choose and what degree of accuracy can you argue that they provide you?  Why do you not encounter divide-by-zero difficulties at $t=0$?"
   ]
  },
  {
   "cell_type": "markdown",
   "metadata": {},
   "source": [
    "_Solution_: So our recursive integration scheme uses the midpoint of intervals.  Since our interval is asymmetric around $t=0$, which is the only singularity that $f(t)=1/\\sin(\\sqrt{|t|})$ will have over the interval of integration, we will never actually try to evaluate $f(t)$ at $t=0$.  Quite clever really.  \n",
    "\n",
    "As for evaluating things, let's try the following:"
   ]
  },
  {
   "cell_type": "code",
   "execution_count": 12,
   "metadata": {},
   "outputs": [
    {
     "data": {
      "text/plain": [
       "Text(0.5, 0, '$-\\\\log_{10}(tol)$')"
      ]
     },
     "execution_count": 12,
     "metadata": {},
     "output_type": "execute_result"
    },
    {
     "data": {
      "image/png": "[encoded data removed]",
      "text/plain": [
       "<Figure size 432x288 with 1 Axes>"
      ]
     },
     "metadata": {
      "needs_background": "light"
     },
     "output_type": "display_data"
    }
   ],
   "source": [
    "fun = lambda t: 1./np.sin(np.sqrt(np.abs(t)))\n",
    "pows = np.arange(1,9)\n",
    "tols = 10.**(-pows)\n",
    "ivals = np.zeros(tols.size)\n",
    "for jj in range(tols.size):\n",
    "    ivals[jj] = adap_quad(fun, -1., 2., tols[jj])\n",
    "plt.plot(pows, ivals)\n",
    "plt.xlabel(r\"$-\\log_{10}(tol)$\")"
   ]
  },
  {
   "cell_type": "code",
   "execution_count": 13,
   "metadata": {},
   "outputs": [
    {
     "name": "stdout",
     "output_type": "stream",
     "text": [
      "5.314115598222085\n"
     ]
    }
   ],
   "source": [
    "print(ivals[-1])"
   ]
  },
  {
   "cell_type": "markdown",
   "metadata": {},
   "source": [
    "Okay, cool, so by changing the tolerance from $10^{-1}$ to $10^{-8}$, we see that our approximation converges so that \n",
    "\n",
    "$$\n",
    "\\int_{-1}^{2}\\frac{dt}{\\sin\\left(\\sqrt{|t|}\\right)} \\approx 5.314115598222085\n",
    "$$"
   ]
  },
  {
   "cell_type": "markdown",
   "metadata": {},
   "source": [
    "**Problem 2**: (10 pts) Definite integrals sometimes have the property that the integrand becomes infinite at one or both of the endpoints, but the integral itself is finite.  In other words, $\\lim_{x\\rightarrow a}|f(x)|=\\infty$ or $\\lim_{x\\rightarrow a}|f(x)|=\\infty$, but \n",
    "\n",
    "$$\n",
    "\\int_{a}^{b}f(x)dx \n",
    "$$\n",
    "\n",
    "exists and is finite.  \n",
    "\n",
    "* (7 pts) Modify the adaptive quadrature algorithm so that if an infinite value of $f(a)$ or $f(b)$ is detected, an appropriate warning message is displayed and $f(x)$ is reevaluated at a point very near to a or b.  \n",
    "\n",
    "* (3 pts) Find an example that triggers the warning, but has a finite integral.  "
   ]
  },
  {
   "cell_type": "markdown",
   "metadata": {},
   "source": [
    "**Problem 3**: (10 pts) As we briefly discussed in class, when using the adaptive quadrature algorithm, it will struggle when the fourth derivative of the function $f(x)$ varies too much over the interval of integration.  Using the example $f(x)=\\sin(x^{2})$ and the error analysis code below, produce plots and provide the necessary explanation which illustrates this issue.  You will also probably want to compute the fourth derivative of the given function in order to illustrate your point.  \n",
    "\n",
    "It is said that a reason to use adaptive quadrature is that setting the tolerance effectively sets the error of the method?  Do your results support this claim?  Why or why not?"
   ]
  },
  {
   "cell_type": "code",
   "execution_count": null,
   "metadata": {},
   "outputs": [],
   "source": [
    "snp2 = lambda x: np.sin(x**2.)\n",
    "\n",
    "def adap_error_test(a,b,f,tolvals):\n",
    "    tval = spqd.quad(lambda x: f(x), a, b)\n",
    "    Evals = np.zeros(tolvals.size)\n",
    "    for jj in range(0,tolvals.size):\n",
    "        Evals[jj] = np.log10(np.abs(tval[0] - adap_quad(f,a,b,tolvals[jj])))\n",
    "    return Evals\n",
    "\n",
    "ppows = np.arange(1,15)\n",
    "tolvals = 10.**(-ppows)\n",
    "xvals = -np.log10(tolvals)\n",
    "\n",
    "#add code here \n",
    "\n",
    "plt.plot()\n",
    "\n",
    "\n",
    "fig=plt.gcf() # get current figure\n",
    "fig.set_size_inches(9,7) # optional size"
   ]
  },
  {
   "cell_type": "code",
   "execution_count": null,
   "metadata": {},
   "outputs": [],
   "source": []
  }
 ],
 "metadata": {
  "kernelspec": {
   "display_name": "Python 3 (ipykernel)",
   "language": "python",
   "name": "python3"
  },
  "language_info": {
   "codemirror_mode": {
    "name": "ipython",
    "version": 3
   },
   "file_extension": ".py",
   "mimetype": "text/x-python",
   "name": "python",
   "nbconvert_exporter": "python",
   "pygments_lexer": "ipython3",
   "version": "3.9.7"
  }
 },
 "nbformat": 4,
 "nbformat_minor": 2
}
